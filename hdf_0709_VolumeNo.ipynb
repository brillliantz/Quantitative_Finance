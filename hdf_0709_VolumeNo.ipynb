{
 "metadata": {
  "name": ""
 },
 "nbformat": 3,
 "nbformat_minor": 0,
 "worksheets": [
  {
   "cells": [
    {
     "cell_type": "code",
     "collapsed": false,
     "input": [
      "import numpy as np\n",
      "import pandas as pd\n",
      "import seaborn as sns\n",
      "import matplotlib.pyplot as plt\n",
      "import matplotlib.finance as mf\n",
      "from matplotlib.widgets import MultiCursor"
     ],
     "language": "python",
     "metadata": {},
     "outputs": [],
     "prompt_number": 1
    },
    {
     "cell_type": "code",
     "collapsed": false,
     "input": [
      "import statsmodels.tsa.stattools as stt\n",
      "import scipy.signal as sgn"
     ],
     "language": "python",
     "metadata": {},
     "outputs": [],
     "prompt_number": 2
    },
    {
     "cell_type": "code",
     "collapsed": false,
     "input": [
      "import statsmodels.api as sm\n",
      "from statsmodels.sandbox.regression.predstd import wls_prediction_std"
     ],
     "language": "python",
     "metadata": {},
     "outputs": [],
     "prompt_number": 3
    },
    {
     "cell_type": "code",
     "collapsed": false,
     "input": [
      "from matplotlib.mlab import PCA"
     ],
     "language": "python",
     "metadata": {},
     "outputs": [],
     "prompt_number": 4
    },
    {
     "cell_type": "code",
     "collapsed": false,
     "input": [
      "%matplotlib inline"
     ],
     "language": "python",
     "metadata": {},
     "outputs": [],
     "prompt_number": 26
    },
    {
     "cell_type": "code",
     "collapsed": false,
     "input": [
      "sns.set_context('paper')\n",
      "sns.set_style(\"darkgrid\")"
     ],
     "language": "python",
     "metadata": {},
     "outputs": [],
     "prompt_number": 5
    },
    {
     "cell_type": "code",
     "collapsed": false,
     "input": [
      "sns.set_context('paper')\n",
      "sns.set_style(\"dark\", rc={'axes.facecolor': 'black', 'grid.color': 'red', \n",
      "                              'grid.linestyle': '--',\n",
      "                              'figure.facecolor': 'grey'})\n",
      "              "
     ],
     "language": "python",
     "metadata": {},
     "outputs": [],
     "prompt_number": 5
    },
    {
     "cell_type": "code",
     "collapsed": false,
     "input": [
      "hft = pd.read_hdf('HFT_SR_RM_MA_TA.hdf')"
     ],
     "language": "python",
     "metadata": {},
     "outputs": [],
     "prompt_number": 7
    },
    {
     "cell_type": "code",
     "collapsed": false,
     "input": [
      "ta = hft.minor_xs('TA0001')"
     ],
     "language": "python",
     "metadata": {},
     "outputs": [],
     "prompt_number": 8
    },
    {
     "cell_type": "code",
     "collapsed": false,
     "input": [
      "sr = hft.minor_xs('SR0001')"
     ],
     "language": "python",
     "metadata": {},
     "outputs": [],
     "prompt_number": 197
    },
    {
     "cell_type": "code",
     "collapsed": false,
     "input": [
      "rm = hft.minor_xs('RM0001')\n",
      "type(rm)"
     ],
     "language": "python",
     "metadata": {},
     "outputs": [
      {
       "metadata": {},
       "output_type": "pyout",
       "prompt_number": 9,
       "text": [
        "pandas.core.frame.DataFrame"
       ]
      }
     ],
     "prompt_number": 9
    },
    {
     "cell_type": "code",
     "collapsed": false,
     "input": [
      "night_len = int(4*3600*2.5)\n",
      "mor_len = int(4*3600*2.25)\n",
      "aftn_len = int(4*3600*1.5)\n",
      "day_len = night_len + mor_len + aftn_len + 3"
     ],
     "language": "python",
     "metadata": {},
     "outputs": [],
     "prompt_number": 9
    },
    {
     "cell_type": "markdown",
     "metadata": {},
     "source": [
      "# high low limit"
     ]
    },
    {
     "cell_type": "code",
     "collapsed": false,
     "input": [
      "dates1 = pd.date_range('2015-11-19 21:01:01', '2015-12-31  21:01:01', freq='D')"
     ],
     "language": "python",
     "metadata": {},
     "outputs": [],
     "prompt_number": 11
    },
    {
     "cell_type": "code",
     "collapsed": false,
     "input": [
      "dates2 = pd.date_range('2015-11-20 14:59:59', '2015-12-31  14:59:59', freq='D')"
     ],
     "language": "python",
     "metadata": {},
     "outputs": [],
     "prompt_number": 12
    },
    {
     "cell_type": "code",
     "collapsed": false,
     "input": [
      "type(dates1)"
     ],
     "language": "python",
     "metadata": {},
     "outputs": [
      {
       "metadata": {},
       "output_type": "pyout",
       "prompt_number": 14,
       "text": [
        "pandas.tseries.index.DatetimeIndex"
       ]
      }
     ],
     "prompt_number": 14
    },
    {
     "cell_type": "code",
     "collapsed": false,
     "input": [
      "dates1.weekday"
     ],
     "language": "python",
     "metadata": {},
     "outputs": [
      {
       "metadata": {},
       "output_type": "pyout",
       "prompt_number": 17,
       "text": [
        "array([3, 4, 5, 6, 0, 1, 2, 3, 4, 5, 6, 0, 1, 2, 3, 4, 5, 6, 0, 1, 2, 3, 4,\n",
        "       5, 6, 0, 1, 2, 3, 4, 5, 6, 0, 1, 2, 3, 4, 5, 6, 0, 1, 2, 3], dtype=int32)"
       ]
      }
     ],
     "prompt_number": 17
    },
    {
     "cell_type": "code",
     "collapsed": false,
     "input": [
      "trade_day1 = dates1[dates1.weekday != 5]\n",
      "trade_day2 = dates2[np.logical_and(dates2.weekday != 5, dates2.weekday != 6)]\n",
      "trade_day1"
     ],
     "language": "python",
     "metadata": {},
     "outputs": [
      {
       "metadata": {},
       "output_type": "pyout",
       "prompt_number": 18,
       "text": [
        "DatetimeIndex(['2015-11-19 21:01:01', '2015-11-20 21:01:01',\n",
        "               '2015-11-22 21:01:01', '2015-11-23 21:01:01',\n",
        "               '2015-11-24 21:01:01', '2015-11-25 21:01:01',\n",
        "               '2015-11-26 21:01:01', '2015-11-27 21:01:01',\n",
        "               '2015-11-29 21:01:01', '2015-11-30 21:01:01',\n",
        "               '2015-12-01 21:01:01', '2015-12-02 21:01:01',\n",
        "               '2015-12-03 21:01:01', '2015-12-04 21:01:01',\n",
        "               '2015-12-06 21:01:01', '2015-12-07 21:01:01',\n",
        "               '2015-12-08 21:01:01', '2015-12-09 21:01:01',\n",
        "               '2015-12-10 21:01:01', '2015-12-11 21:01:01',\n",
        "               '2015-12-13 21:01:01', '2015-12-14 21:01:01',\n",
        "               '2015-12-15 21:01:01', '2015-12-16 21:01:01',\n",
        "               '2015-12-17 21:01:01', '2015-12-18 21:01:01',\n",
        "               '2015-12-20 21:01:01', '2015-12-21 21:01:01',\n",
        "               '2015-12-22 21:01:01', '2015-12-23 21:01:01',\n",
        "               '2015-12-24 21:01:01', '2015-12-25 21:01:01',\n",
        "               '2015-12-27 21:01:01', '2015-12-28 21:01:01',\n",
        "               '2015-12-29 21:01:01', '2015-12-30 21:01:01',\n",
        "               '2015-12-31 21:01:01'],\n",
        "              dtype='datetime64[ns]', freq=None)"
       ]
      }
     ],
     "prompt_number": 18
    },
    {
     "cell_type": "markdown",
     "metadata": {},
     "source": [
      "### 5 ningt pan per week\n",
      "a complete week starts from 11-23"
     ]
    },
    {
     "cell_type": "code",
     "collapsed": false,
     "input": [
      "rm.ix[trade_day2, ['high', 'highLimit', 'low', 'lowLimit']]"
     ],
     "language": "python",
     "metadata": {},
     "outputs": [
      {
       "html": [
        "<div style=\"max-width:1500px;overflow:auto;\">\n",
        "<table border=\"1\" class=\"dataframe\">\n",
        "  <thead>\n",
        "    <tr style=\"text-align: right;\">\n",
        "      <th></th>\n",
        "      <th>high</th>\n",
        "      <th>highLimit</th>\n",
        "      <th>low</th>\n",
        "      <th>lowLimit</th>\n",
        "    </tr>\n",
        "  </thead>\n",
        "  <tbody>\n",
        "    <tr>\n",
        "      <th>2015-11-20 14:59:59</th>\n",
        "      <td>1798.0</td>\n",
        "      <td>1866.0</td>\n",
        "      <td>1765.0</td>\n",
        "      <td>1722.0</td>\n",
        "    </tr>\n",
        "    <tr>\n",
        "      <th>2015-11-23 14:59:59</th>\n",
        "      <td>1796.0</td>\n",
        "      <td>1853.0</td>\n",
        "      <td>1709.0</td>\n",
        "      <td>1709.0</td>\n",
        "    </tr>\n",
        "    <tr>\n",
        "      <th>2015-11-24 14:59:59</th>\n",
        "      <td>1773.0</td>\n",
        "      <td>1826.0</td>\n",
        "      <td>1699.0</td>\n",
        "      <td>1684.0</td>\n",
        "    </tr>\n",
        "    <tr>\n",
        "      <th>2015-11-25 14:59:59</th>\n",
        "      <td>1787.0</td>\n",
        "      <td>1801.0</td>\n",
        "      <td>1751.0</td>\n",
        "      <td>1661.0</td>\n",
        "    </tr>\n",
        "    <tr>\n",
        "      <th>2015-11-26 14:59:59</th>\n",
        "      <td>1840.0</td>\n",
        "      <td>1842.0</td>\n",
        "      <td>1771.0</td>\n",
        "      <td>1700.0</td>\n",
        "    </tr>\n",
        "    <tr>\n",
        "      <th>2015-11-27 14:59:59</th>\n",
        "      <td>1821.0</td>\n",
        "      <td>1878.0</td>\n",
        "      <td>1789.0</td>\n",
        "      <td>1732.0</td>\n",
        "    </tr>\n",
        "    <tr>\n",
        "      <th>2015-11-30 14:59:59</th>\n",
        "      <td>1807.0</td>\n",
        "      <td>1878.0</td>\n",
        "      <td>1755.0</td>\n",
        "      <td>1732.0</td>\n",
        "    </tr>\n",
        "    <tr>\n",
        "      <th>2015-12-01 14:59:59</th>\n",
        "      <td>1834.0</td>\n",
        "      <td>1852.0</td>\n",
        "      <td>1790.0</td>\n",
        "      <td>1708.0</td>\n",
        "    </tr>\n",
        "    <tr>\n",
        "      <th>2015-12-02 14:59:59</th>\n",
        "      <td>1927.0</td>\n",
        "      <td>1957.0</td>\n",
        "      <td>1883.0</td>\n",
        "      <td>1805.0</td>\n",
        "    </tr>\n",
        "    <tr>\n",
        "      <th>2015-12-03 14:59:59</th>\n",
        "      <td>1899.0</td>\n",
        "      <td>1971.0</td>\n",
        "      <td>1851.0</td>\n",
        "      <td>1819.0</td>\n",
        "    </tr>\n",
        "    <tr>\n",
        "      <th>2015-12-04 14:59:59</th>\n",
        "      <td>1872.0</td>\n",
        "      <td>1944.0</td>\n",
        "      <td>1838.0</td>\n",
        "      <td>1794.0</td>\n",
        "    </tr>\n",
        "    <tr>\n",
        "      <th>2015-12-07 14:59:59</th>\n",
        "      <td>1886.0</td>\n",
        "      <td>1928.0</td>\n",
        "      <td>1857.0</td>\n",
        "      <td>1778.0</td>\n",
        "    </tr>\n",
        "    <tr>\n",
        "      <th>2015-12-08 14:59:59</th>\n",
        "      <td>1879.0</td>\n",
        "      <td>1948.0</td>\n",
        "      <td>1819.0</td>\n",
        "      <td>1798.0</td>\n",
        "    </tr>\n",
        "    <tr>\n",
        "      <th>2015-12-09 14:59:59</th>\n",
        "      <td>1852.0</td>\n",
        "      <td>1917.0</td>\n",
        "      <td>1817.0</td>\n",
        "      <td>1769.0</td>\n",
        "    </tr>\n",
        "    <tr>\n",
        "      <th>2015-12-10 14:59:59</th>\n",
        "      <td>1862.0</td>\n",
        "      <td>1911.0</td>\n",
        "      <td>1835.0</td>\n",
        "      <td>1763.0</td>\n",
        "    </tr>\n",
        "    <tr>\n",
        "      <th>2015-12-11 14:59:59</th>\n",
        "      <td>1892.0</td>\n",
        "      <td>1919.0</td>\n",
        "      <td>1838.0</td>\n",
        "      <td>1771.0</td>\n",
        "    </tr>\n",
        "    <tr>\n",
        "      <th>2015-12-14 14:59:59</th>\n",
        "      <td>1890.0</td>\n",
        "      <td>1938.0</td>\n",
        "      <td>1867.0</td>\n",
        "      <td>1788.0</td>\n",
        "    </tr>\n",
        "    <tr>\n",
        "      <th>2015-12-15 14:59:59</th>\n",
        "      <td>1921.0</td>\n",
        "      <td>1956.0</td>\n",
        "      <td>1873.0</td>\n",
        "      <td>1804.0</td>\n",
        "    </tr>\n",
        "    <tr>\n",
        "      <th>2015-12-16 14:59:59</th>\n",
        "      <td>1908.0</td>\n",
        "      <td>1976.0</td>\n",
        "      <td>1878.0</td>\n",
        "      <td>1824.0</td>\n",
        "    </tr>\n",
        "    <tr>\n",
        "      <th>2015-12-17 14:59:59</th>\n",
        "      <td>1917.0</td>\n",
        "      <td>1970.0</td>\n",
        "      <td>1864.0</td>\n",
        "      <td>1818.0</td>\n",
        "    </tr>\n",
        "    <tr>\n",
        "      <th>2015-12-18 14:59:59</th>\n",
        "      <td>1907.0</td>\n",
        "      <td>1967.0</td>\n",
        "      <td>1859.0</td>\n",
        "      <td>1815.0</td>\n",
        "    </tr>\n",
        "    <tr>\n",
        "      <th>2015-12-21 14:59:59</th>\n",
        "      <td>1941.0</td>\n",
        "      <td>1961.0</td>\n",
        "      <td>1899.0</td>\n",
        "      <td>1809.0</td>\n",
        "    </tr>\n",
        "    <tr>\n",
        "      <th>2015-12-22 14:59:59</th>\n",
        "      <td>1947.0</td>\n",
        "      <td>1994.0</td>\n",
        "      <td>1923.0</td>\n",
        "      <td>1840.0</td>\n",
        "    </tr>\n",
        "    <tr>\n",
        "      <th>2015-12-23 14:59:59</th>\n",
        "      <td>1934.0</td>\n",
        "      <td>2012.0</td>\n",
        "      <td>1909.0</td>\n",
        "      <td>1856.0</td>\n",
        "    </tr>\n",
        "    <tr>\n",
        "      <th>2015-12-24 14:59:59</th>\n",
        "      <td>1927.0</td>\n",
        "      <td>1998.0</td>\n",
        "      <td>1904.0</td>\n",
        "      <td>1844.0</td>\n",
        "    </tr>\n",
        "    <tr>\n",
        "      <th>2015-12-25 14:59:59</th>\n",
        "      <td>1920.0</td>\n",
        "      <td>1994.0</td>\n",
        "      <td>1896.0</td>\n",
        "      <td>1840.0</td>\n",
        "    </tr>\n",
        "    <tr>\n",
        "      <th>2015-12-28 14:59:59</th>\n",
        "      <td>1904.0</td>\n",
        "      <td>1984.0</td>\n",
        "      <td>1868.0</td>\n",
        "      <td>1830.0</td>\n",
        "    </tr>\n",
        "    <tr>\n",
        "      <th>2015-12-29 14:59:59</th>\n",
        "      <td>1899.0</td>\n",
        "      <td>1961.0</td>\n",
        "      <td>1868.0</td>\n",
        "      <td>1809.0</td>\n",
        "    </tr>\n",
        "    <tr>\n",
        "      <th>2015-12-30 14:59:59</th>\n",
        "      <td>1915.0</td>\n",
        "      <td>1960.0</td>\n",
        "      <td>1893.0</td>\n",
        "      <td>1808.0</td>\n",
        "    </tr>\n",
        "    <tr>\n",
        "      <th>2015-12-31 14:59:59</th>\n",
        "      <td>1924.0</td>\n",
        "      <td>1981.0</td>\n",
        "      <td>1903.0</td>\n",
        "      <td>1827.0</td>\n",
        "    </tr>\n",
        "  </tbody>\n",
        "</table>\n",
        "</div>"
       ],
       "metadata": {},
       "output_type": "pyout",
       "prompt_number": 94,
       "text": [
        "                       high  highLimit     low  lowLimit\n",
        "2015-11-20 14:59:59  1798.0     1866.0  1765.0    1722.0\n",
        "2015-11-23 14:59:59  1796.0     1853.0  1709.0    1709.0\n",
        "2015-11-24 14:59:59  1773.0     1826.0  1699.0    1684.0\n",
        "2015-11-25 14:59:59  1787.0     1801.0  1751.0    1661.0\n",
        "2015-11-26 14:59:59  1840.0     1842.0  1771.0    1700.0\n",
        "2015-11-27 14:59:59  1821.0     1878.0  1789.0    1732.0\n",
        "2015-11-30 14:59:59  1807.0     1878.0  1755.0    1732.0\n",
        "2015-12-01 14:59:59  1834.0     1852.0  1790.0    1708.0\n",
        "2015-12-02 14:59:59  1927.0     1957.0  1883.0    1805.0\n",
        "2015-12-03 14:59:59  1899.0     1971.0  1851.0    1819.0\n",
        "2015-12-04 14:59:59  1872.0     1944.0  1838.0    1794.0\n",
        "2015-12-07 14:59:59  1886.0     1928.0  1857.0    1778.0\n",
        "2015-12-08 14:59:59  1879.0     1948.0  1819.0    1798.0\n",
        "2015-12-09 14:59:59  1852.0     1917.0  1817.0    1769.0\n",
        "2015-12-10 14:59:59  1862.0     1911.0  1835.0    1763.0\n",
        "2015-12-11 14:59:59  1892.0     1919.0  1838.0    1771.0\n",
        "2015-12-14 14:59:59  1890.0     1938.0  1867.0    1788.0\n",
        "2015-12-15 14:59:59  1921.0     1956.0  1873.0    1804.0\n",
        "2015-12-16 14:59:59  1908.0     1976.0  1878.0    1824.0\n",
        "2015-12-17 14:59:59  1917.0     1970.0  1864.0    1818.0\n",
        "2015-12-18 14:59:59  1907.0     1967.0  1859.0    1815.0\n",
        "2015-12-21 14:59:59  1941.0     1961.0  1899.0    1809.0\n",
        "2015-12-22 14:59:59  1947.0     1994.0  1923.0    1840.0\n",
        "2015-12-23 14:59:59  1934.0     2012.0  1909.0    1856.0\n",
        "2015-12-24 14:59:59  1927.0     1998.0  1904.0    1844.0\n",
        "2015-12-25 14:59:59  1920.0     1994.0  1896.0    1840.0\n",
        "2015-12-28 14:59:59  1904.0     1984.0  1868.0    1830.0\n",
        "2015-12-29 14:59:59  1899.0     1961.0  1868.0    1809.0\n",
        "2015-12-30 14:59:59  1915.0     1960.0  1893.0    1808.0\n",
        "2015-12-31 14:59:59  1924.0     1981.0  1903.0    1827.0"
       ]
      }
     ],
     "prompt_number": 94
    },
    {
     "cell_type": "code",
     "collapsed": false,
     "input": [
      "temp = rm.ix[trade_day2, 'high'] - rm.ix[trade_day2, 'highLimit'] >-3\n",
      "temp"
     ],
     "language": "python",
     "metadata": {},
     "outputs": [
      {
       "metadata": {},
       "output_type": "pyout",
       "prompt_number": 100,
       "text": [
        "2015-11-20 14:59:59    False\n",
        "2015-11-23 14:59:59    False\n",
        "2015-11-24 14:59:59    False\n",
        "2015-11-25 14:59:59    False\n",
        "2015-11-26 14:59:59     True\n",
        "2015-11-27 14:59:59    False\n",
        "2015-11-30 14:59:59    False\n",
        "2015-12-01 14:59:59    False\n",
        "2015-12-02 14:59:59    False\n",
        "2015-12-03 14:59:59    False\n",
        "2015-12-04 14:59:59    False\n",
        "2015-12-07 14:59:59    False\n",
        "2015-12-08 14:59:59    False\n",
        "2015-12-09 14:59:59    False\n",
        "2015-12-10 14:59:59    False\n",
        "2015-12-11 14:59:59    False\n",
        "2015-12-14 14:59:59    False\n",
        "2015-12-15 14:59:59    False\n",
        "2015-12-16 14:59:59    False\n",
        "2015-12-17 14:59:59    False\n",
        "2015-12-18 14:59:59    False\n",
        "2015-12-21 14:59:59    False\n",
        "2015-12-22 14:59:59    False\n",
        "2015-12-23 14:59:59    False\n",
        "2015-12-24 14:59:59    False\n",
        "2015-12-25 14:59:59    False\n",
        "2015-12-28 14:59:59    False\n",
        "2015-12-29 14:59:59    False\n",
        "2015-12-30 14:59:59    False\n",
        "2015-12-31 14:59:59    False\n",
        "dtype: bool"
       ]
      }
     ],
     "prompt_number": 100
    },
    {
     "cell_type": "code",
     "collapsed": false,
     "input": [
      "rm.ix[trade_day2,:].ix[temp, 'last']"
     ],
     "language": "python",
     "metadata": {},
     "outputs": [
      {
       "metadata": {},
       "output_type": "pyout",
       "prompt_number": 102,
       "text": [
        "2015-11-26 14:59:59    1821.0\n",
        "Name: last, dtype: float64"
       ]
      }
     ],
     "prompt_number": 102
    },
    {
     "cell_type": "code",
     "collapsed": false,
     "input": [
      "temp[0]"
     ],
     "language": "python",
     "metadata": {},
     "outputs": [
      {
       "metadata": {},
       "output_type": "pyout",
       "prompt_number": 136,
       "text": [
        "Timestamp('2015-11-26 14:59:59')"
       ]
      }
     ],
     "prompt_number": 136
    },
    {
     "cell_type": "code",
     "collapsed": false,
     "input": [
      "for pinzhong in hft.minor_axis:\n",
      "    print '\\n\\n#-------------------------------------'\n",
      "    print pinzhong\n",
      "    xx = hft.minor_xs(pinzhong)\n",
      "    toohigh = xx.ix[trade_day2, 'high'] - xx.ix[trade_day2, 'highLimit'] > -2\n",
      "    toolow = xx.ix[trade_day2, 'low'] - xx.ix[trade_day2, 'lowLimit'] < 2\n",
      "    print 'too high: \\n'\n",
      "    if toohigh.any() == True:\n",
      "        print xx.ix[trade_day2,:].ix[toohigh, ['high', 'highLimit']]\n",
      "        temp = (xx.ix[trade_day2,:].ix[toohigh, :].index)[0]\n",
      "        high = xx.ix[trade_day2,:].ix[toohigh, 'highLimit']\n",
      "        #fig1 = plt.figure(figsize=(15,10))\n",
      "        #ax1 = fig1.add_subplot(111)\n",
      "        xx.ix[temp - pd.Timedelta(18, unit='h'): temp, 'last'].plot(figsize=(15,10))\n",
      "        plt.hlines(high, temp - pd.Timedelta(18, unit='h'), temp, colors='r', linestyles='-')\n",
      "        plt.show()\n",
      "    print 'too low: \\n'\n",
      "    if toolow.any() == True:\n",
      "        print xx.ix[trade_day2,:].ix[toolow, ['low', 'lowLimit']]\n",
      "        temp = (xx.ix[trade_day2,:].ix[toolow, :].index)[0]\n",
      "        low = xx.ix[trade_day2,:].ix[toolow, 'lowLimit']\n",
      "        #fig2 = plt.figure(figsize=(15,10))\n",
      "        #ax2 = fig2.add_subplot(111)\n",
      "        xx.ix[temp - pd.Timedelta(18, unit='h'): temp, 'last'].plot(figsize=(15,10))\n",
      "        plt.hlines(low, temp - pd.Timedelta(18, unit='h'), temp, colors='g', linestyles='-')\n",
      "        plt.show()\n",
      "plt.show()"
     ],
     "language": "python",
     "metadata": {},
     "outputs": [
      {
       "output_type": "stream",
       "stream": "stdout",
       "text": [
        "\n",
        "\n",
        "#-------------------------------------\n",
        "MA0001\n",
        "too high: \n",
        "\n",
        "too low: \n",
        "\n",
        "                        low  lowLimit\n",
        "2015-11-23 14:59:59  1731.0    1731.0\n"
       ]
      },
      {
       "metadata": {},
       "output_type": "display_data",
       "png": "[encoded data removed]",
       "text": [
        "<matplotlib.figure.Figure at 0x7f30ef82d310>"
       ]
      },
      {
       "output_type": "stream",
       "stream": "stdout",
       "text": [
        "\n",
        "\n",
        "#-------------------------------------\n",
        "RM0001\n",
        "too high: \n",
        "\n",
        "too low: \n",
        "\n",
        "                        low  lowLimit\n",
        "2015-11-23 14:59:59  1709.0    1709.0\n"
       ]
      },
      {
       "metadata": {},
       "output_type": "display_data",
       "png": "[encoded data removed]",
       "text": [
        "<matplotlib.figure.Figure at 0x7f30edf4a410>"
       ]
      },
      {
       "output_type": "stream",
       "stream": "stdout",
       "text": [
        "\n",
        "\n",
        "#-------------------------------------\n",
        "SR0001\n",
        "too high: \n",
        "\n",
        "too low: \n",
        "\n",
        "\n",
        "\n",
        "#-------------------------------------\n",
        "TA0001\n",
        "too high: \n",
        "\n",
        "too low: \n",
        "\n",
        "                        low  lowLimit\n",
        "2015-12-08 14:59:59  4296.0    4296.0\n"
       ]
      },
      {
       "metadata": {},
       "output_type": "display_data",
       "png": "[encoded data removed]",
       "text": [
        "<matplotlib.figure.Figure at 0x7f30f9fd5250>"
       ]
      }
     ],
     "prompt_number": 167
    },
    {
     "cell_type": "markdown",
     "metadata": {},
     "source": [
      "we can see that SR has no zhangting or dieting"
     ]
    },
    {
     "cell_type": "markdown",
     "metadata": {},
     "source": [
      "## Training dataset"
     ]
    },
    {
     "cell_type": "code",
     "collapsed": false,
     "input": [
      "ta.index[day_len*10 + 9]"
     ],
     "language": "python",
     "metadata": {},
     "outputs": [
      {
       "metadata": {},
       "output_type": "pyout",
       "prompt_number": 10,
       "text": [
        "Timestamp('2015-12-03 15:00:00')"
       ]
      }
     ],
     "prompt_number": 10
    },
    {
     "cell_type": "code",
     "collapsed": false,
     "input": [
      "#------------------   ta_10day is my training dataset\n",
      "ta_10day = ta.ix[:day_len*10 + 10, :]"
     ],
     "language": "python",
     "metadata": {},
     "outputs": [],
     "prompt_number": 11
    },
    {
     "cell_type": "markdown",
     "metadata": {},
     "source": [
      "### pice move"
     ]
    },
    {
     "cell_type": "code",
     "collapsed": false,
     "input": [
      "def Letitforward(df, forwardnum):\n",
      "    df2 = df.shift(-forwardnum) - df\n",
      "    df2.dropna(inplace=True)\n",
      "    return df2"
     ],
     "language": "python",
     "metadata": {},
     "outputs": [],
     "prompt_number": 12
    },
    {
     "cell_type": "code",
     "collapsed": false,
     "input": [
      "forward_ticks = 40"
     ],
     "language": "python",
     "metadata": {},
     "outputs": [],
     "prompt_number": 13
    },
    {
     "cell_type": "raw",
     "metadata": {},
     "source": [
      ", 'volume', 'openInterest', \n",
      "                               'TotalAskLot', 'askQty_4', 'askQty_3', 'askQty_2', 'askQty_1', 'askQty_0', \n",
      "                            'bidQty_0', 'bidQty_1', 'bidQty_2', 'bidQty_3', 'bidQty_4', 'TotalBidLot']"
     ]
    },
    {
     "cell_type": "code",
     "collapsed": false,
     "input": [
      "ta_10day_pm =Letitforward(ta_10day.ix[:, 'last'], forward_ticks)\n"
     ],
     "language": "python",
     "metadata": {},
     "outputs": [],
     "prompt_number": 21
    },
    {
     "cell_type": "code",
     "collapsed": false,
     "input": [
      "plt.plot(ta_10day_pm)\n",
      "plt.show()"
     ],
     "language": "python",
     "metadata": {},
     "outputs": [
      {
       "metadata": {},
       "output_type": "pyout",
       "prompt_number": 17,
       "text": [
        "[<matplotlib.lines.Line2D at 0x7f9277dc8490>]"
       ]
      }
     ],
     "prompt_number": 17
    },
    {
     "cell_type": "code",
     "collapsed": false,
     "input": [
      "#----------------------------exclude last 36 ticks before ending\n",
      "last_44_boolean = np.logical_and.reduce((ta_10day_pm.index.hour >= 14,\n",
      "                              ta_10day_pm.index.minute >= 59,\n",
      "                              ta_10day_pm.index.second >= 49))\n",
      "last_boolean = ta_10day_pm.index.hour == 15"
     ],
     "language": "python",
     "metadata": {},
     "outputs": [],
     "prompt_number": 22
    },
    {
     "cell_type": "code",
     "collapsed": false,
     "input": [
      "ta_10day_pm.ix[np.logical_or(last_44_boolean, last_boolean)]"
     ],
     "language": "python",
     "metadata": {},
     "outputs": [
      {
       "metadata": {},
       "output_type": "pyout",
       "prompt_number": 32,
       "text": [
        "2015-11-19 21:59:49.000    0.0\n",
        "2015-11-19 21:59:49.250    0.0\n",
        "2015-11-19 21:59:49.500    0.0\n",
        "2015-11-19 21:59:49.750   -2.0\n",
        "2015-11-19 21:59:50.000   -2.0\n",
        "2015-11-19 21:59:50.250   -2.0\n",
        "2015-11-19 21:59:50.500   -2.0\n",
        "2015-11-19 21:59:50.750    0.0\n",
        "2015-11-19 21:59:51.000   -2.0\n",
        "2015-11-19 21:59:51.250    0.0\n",
        "2015-11-19 21:59:51.500    0.0\n",
        "2015-11-19 21:59:51.750    0.0\n",
        "2015-11-19 21:59:52.000    0.0\n",
        "2015-11-19 21:59:52.250    0.0\n",
        "2015-11-19 21:59:52.500   -2.0\n",
        "2015-11-19 21:59:52.750    0.0\n",
        "2015-11-19 21:59:53.000   -2.0\n",
        "2015-11-19 21:59:53.250   -2.0\n",
        "2015-11-19 21:59:53.500   -2.0\n",
        "2015-11-19 21:59:53.750   -2.0\n",
        "2015-11-19 21:59:54.000   -2.0\n",
        "2015-11-19 21:59:54.250   -2.0\n",
        "2015-11-19 21:59:54.500    0.0\n",
        "2015-11-19 21:59:54.750    0.0\n",
        "2015-11-19 21:59:55.000    0.0\n",
        "2015-11-19 21:59:55.250    0.0\n",
        "2015-11-19 21:59:55.500    0.0\n",
        "2015-11-19 21:59:55.750    0.0\n",
        "2015-11-19 21:59:56.000    0.0\n",
        "2015-11-19 21:59:56.250   -2.0\n",
        "                          ... \n",
        "2015-12-02 22:59:53.750    2.0\n",
        "2015-12-02 22:59:54.000    2.0\n",
        "2015-12-02 22:59:54.250    2.0\n",
        "2015-12-02 22:59:54.500    2.0\n",
        "2015-12-02 22:59:54.750    2.0\n",
        "2015-12-02 22:59:55.000    2.0\n",
        "2015-12-02 22:59:55.250    2.0\n",
        "2015-12-02 22:59:55.500    2.0\n",
        "2015-12-02 22:59:55.750    2.0\n",
        "2015-12-02 22:59:56.000    2.0\n",
        "2015-12-02 22:59:56.250    2.0\n",
        "2015-12-02 22:59:56.500    2.0\n",
        "2015-12-02 22:59:56.750    2.0\n",
        "2015-12-02 22:59:57.000    2.0\n",
        "2015-12-02 22:59:57.250    2.0\n",
        "2015-12-02 22:59:57.500    2.0\n",
        "2015-12-02 22:59:57.750    0.0\n",
        "2015-12-02 22:59:58.000   -2.0\n",
        "2015-12-02 22:59:58.250    0.0\n",
        "2015-12-02 22:59:58.500    0.0\n",
        "2015-12-02 22:59:58.750    0.0\n",
        "2015-12-02 22:59:59.000    0.0\n",
        "2015-12-02 22:59:59.250    0.0\n",
        "2015-12-02 22:59:59.500    0.0\n",
        "2015-12-02 22:59:59.750    0.0\n",
        "2015-12-03 14:59:49.000    2.0\n",
        "2015-12-03 14:59:49.250    0.0\n",
        "2015-12-03 14:59:49.500    4.0\n",
        "2015-12-03 14:59:49.750    2.0\n",
        "2015-12-03 14:59:50.000    2.0\n",
        "Name: last, dtype: float64"
       ]
      }
     ],
     "prompt_number": 32
    },
    {
     "cell_type": "code",
     "collapsed": false,
     "input": [
      "outlier_boolean = abs(ta_10day_pm) > 10"
     ],
     "language": "python",
     "metadata": {},
     "outputs": [],
     "prompt_number": 35
    },
    {
     "cell_type": "code",
     "collapsed": false,
     "input": [
      "ta_10day_pm.ix[outlier_boolean].plot()"
     ],
     "language": "python",
     "metadata": {},
     "outputs": [
      {
       "metadata": {},
       "output_type": "pyout",
       "prompt_number": 38,
       "text": [
        "<matplotlib.axes.AxesSubplot at 0x7f558fb61cd0>"
       ]
      },
      {
       "metadata": {},
       "output_type": "display_data",
       "png": "[encoded data removed]",
       "text": [
        "<matplotlib.figure.Figure at 0x7f558fa40b90>"
       ]
      }
     ],
     "prompt_number": 38
    },
    {
     "cell_type": "code",
     "collapsed": false,
     "input": [
      "ta_10day_pm = ta_10day_pm.ix[np.logical_not(np.logical_or(last_44_boolean, last_boolean))]\n",
      "#ta_10day_pm.plot(figsize=(18,10))"
     ],
     "language": "python",
     "metadata": {},
     "outputs": [],
     "prompt_number": 23
    },
    {
     "cell_type": "code",
     "collapsed": false,
     "input": [
      "pm_index = ta_10day_pm.index"
     ],
     "language": "python",
     "metadata": {},
     "outputs": [],
     "prompt_number": 24
    },
    {
     "cell_type": "code",
     "collapsed": false,
     "input": [
      "ta_10day_last = ta_10day.ix[:, 'last']"
     ],
     "language": "python",
     "metadata": {},
     "outputs": [],
     "prompt_number": 25
    },
    {
     "cell_type": "code",
     "collapsed": false,
     "input": [
      "ta_10day_last_log = "
     ],
     "language": "python",
     "metadata": {},
     "outputs": []
    },
    {
     "cell_type": "code",
     "collapsed": false,
     "input": [
      "res = sm.tsa.dseasonal_decompose(ta_10day_last)\n",
      "res.plot()"
     ],
     "language": "python",
     "metadata": {},
     "outputs": [
      {
       "ename": "AttributeError",
       "evalue": "'module' object has no attribute 'seasonal_decompose'",
       "output_type": "pyerr",
       "traceback": [
        "\u001b[0;31m---------------------------------------------------------------------------\u001b[0m\n\u001b[0;31mAttributeError\u001b[0m                            Traceback (most recent call last)",
        "\u001b[0;32m<ipython-input-28-9c2aeb8f4c35>\u001b[0m in \u001b[0;36m<module>\u001b[0;34m()\u001b[0m\n\u001b[0;32m----> 1\u001b[0;31m \u001b[0mres\u001b[0m \u001b[0;34m=\u001b[0m \u001b[0msm\u001b[0m\u001b[0;34m.\u001b[0m\u001b[0mtsa\u001b[0m\u001b[0;34m.\u001b[0m\u001b[0mseasonal_decompose\u001b[0m\u001b[0;34m(\u001b[0m\u001b[0mta_10day_last\u001b[0m\u001b[0;34m)\u001b[0m\u001b[0;34m\u001b[0m\u001b[0m\n\u001b[0m\u001b[1;32m      2\u001b[0m \u001b[0mres\u001b[0m\u001b[0;34m.\u001b[0m\u001b[0mplot\u001b[0m\u001b[0;34m(\u001b[0m\u001b[0;34m)\u001b[0m\u001b[0;34m\u001b[0m\u001b[0m\n",
        "\u001b[0;31mAttributeError\u001b[0m: 'module' object has no attribute 'seasonal_decompose'"
       ]
      }
     ],
     "prompt_number": 28
    },
    {
     "cell_type": "code",
     "collapsed": false,
     "input": [],
     "language": "python",
     "metadata": {},
     "outputs": []
    }
   ],
   "metadata": {}
  }
 ]
}