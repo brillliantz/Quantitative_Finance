{
 "metadata": {
  "name": ""
 },
 "nbformat": 3,
 "nbformat_minor": 0,
 "worksheets": [
  {
   "cells": [
    {
     "cell_type": "code",
     "collapsed": false,
     "input": [
      "import numpy as np\n",
      "import pandas as pd\n",
      "import seaborn as sns\n",
      "import matplotlib.pyplot as plt\n",
      "#import matplotlib.finance as mf\n",
      "from matplotlib.widgets import MultiCursor\n",
      "import statsmodels.tsa.stattools as stt\n",
      "#import scipy.signal as sgn\n",
      "import statsmodels.api as sm\n",
      "#from statsmodels.sandbox.regression.predstd import wls_prediction_std\n",
      "#from matplotlib.mlab import PCA"
     ],
     "language": "python",
     "metadata": {},
     "outputs": [],
     "prompt_number": 1
    },
    {
     "cell_type": "code",
     "collapsed": false,
     "input": [
      "%matplotlib inline"
     ],
     "language": "python",
     "metadata": {},
     "outputs": [],
     "prompt_number": 186
    },
    {
     "cell_type": "code",
     "collapsed": false,
     "input": [
      "# Style. 1\n",
      "sns.set_context('paper')\n",
      "sns.set_style(\"darkgrid\")"
     ],
     "language": "python",
     "metadata": {},
     "outputs": [],
     "prompt_number": 3
    },
    {
     "cell_type": "code",
     "collapsed": false,
     "input": [
      "# Style. 2\n",
      "sns.set_context('paper')\n",
      "sns.set_style(\"dark\", \n",
      "\trc={'axes.facecolor': 'black', \n",
      "\t'grid.color': 'red', \n",
      "\t'grid.linestyle': '--', \n",
      "\t'figure.facecolor': 'grey'})"
     ],
     "language": "python",
     "metadata": {},
     "outputs": [],
     "prompt_number": 241
    },
    {
     "cell_type": "code",
     "collapsed": false,
     "input": [
      "hft = pd.read_hdf('HFT_SR_RM_MA_TA.hdf')"
     ],
     "language": "python",
     "metadata": {},
     "outputs": [],
     "prompt_number": 6
    },
    {
     "cell_type": "code",
     "collapsed": false,
     "input": [
      "ta = hft.minor_xs('TA0001')"
     ],
     "language": "python",
     "metadata": {},
     "outputs": [],
     "prompt_number": 178
    },
    {
     "cell_type": "code",
     "collapsed": false,
     "input": [
      "#------------------------------------------------\n",
      "'''Some time length'''\n",
      "night_len = int(4*3600*2.5)\n",
      "mor_len = int(4*3600*2.25)\n",
      "aftn_len = int(4*3600*1.5)\n",
      "day_len = night_len + mor_len + aftn_len + 3"
     ],
     "language": "python",
     "metadata": {},
     "outputs": [],
     "prompt_number": 7
    },
    {
     "cell_type": "code",
     "collapsed": false,
     "input": [
      "#-----------------------------------------------\n",
      "'''add columns'''\n",
      "def AddCol(df):\n",
      "    vol = df.ix[:, 'volume'].diff()\n",
      "    # this addition is for the convenience of Log y scale plot\n",
      "    vol += 1\n",
      "    vol = vol.rename('vol_diff')\n",
      "    df = df.join(vol)\n",
      "\n",
      "    openint = df.ix[:, 'openInterest'].diff()\n",
      "    # this addition is for the convenience of Log y scale plot\n",
      "    openint += 1\n",
      "    openint = openint.rename('openInt_diff')\n",
      "    df = df.join(openint)\n",
      "\n",
      "    mid = (df.ix[:, 'askPrc_0'] + df.ix[:, 'bidPrc_0']) / 2.\n",
      "    mid = mid.rename('midPrc')\n",
      "    df = df.join(mid)\n",
      "    return df"
     ],
     "language": "python",
     "metadata": {},
     "outputs": [],
     "prompt_number": 62
    },
    {
     "cell_type": "code",
     "collapsed": false,
     "input": [
      "ta = AddCol(ta)"
     ],
     "language": "python",
     "metadata": {},
     "outputs": [],
     "prompt_number": 179
    },
    {
     "cell_type": "code",
     "collapsed": false,
     "input": [
      "#------------------------------------------------   \n",
      "'''training dataset and outsample dataset'''\n",
      "ta_10day = ta.ix[:day_len*10 + 10, :]\n",
      "ta_out = ta.ix[day_len*10 + 10: , :]"
     ],
     "language": "python",
     "metadata": {},
     "outputs": [],
     "prompt_number": 180
    },
    {
     "cell_type": "code",
     "collapsed": false,
     "input": [
      "# -------------------------------------------------\n",
      "def ForwardDiff(df, n=1):\n",
      "    '''\n",
      "    The reverse of pandas' function 'DataFrame.diff()'\n",
      "    '''\n",
      "    ret = df.diff(periods=n)\n",
      "    ret = ret.shift(periods= -1 * n)\n",
      "    ret.dropna(inplace=True)\n",
      "    return ret\n",
      "\n",
      "def ForwardPricemove(df, n=1):\n",
      "    '''\n",
      "    calculate price move and delete NaN\n",
      "    '''\n",
      "    ret = ForwardDiff(df.ix[:, 'last'], n)\n",
      "    last_boolean1 = np.logical_and.reduce(\n",
      "                                          [ret.index.hour == 14, \n",
      "                                           ret.index.minute == 59, \n",
      "                                           ret.index.second >= 60 - int(n//4) - 1])\n",
      "    \n",
      "    # this is the last tick\n",
      "    last_boolean2 = ret.index.hour == 15\n",
      "\n",
      "    # outlier_boolean = abs(ta_10day_pm) > 10\n",
      "    # ta_10day_pm_no_outlier = ta_10day_pm.ix[np.logical_not(outlier_boolean)]\n",
      "    ret = ret.ix[np.logical_not(np.logical_or(last_boolean1, last_boolean2))]\n",
      "    ret = ret.rename('price move')\n",
      "    return ret"
     ],
     "language": "python",
     "metadata": {},
     "outputs": [],
     "prompt_number": 181
    },
    {
     "cell_type": "code",
     "collapsed": false,
     "input": [
      "forward_ticks = 40\n",
      "ta_10day_pm = ForwardPricemove(ta_10day, forward_ticks)\n",
      "ta_out_pm = ForwardPricemove(ta_out, forward_ticks)"
     ],
     "language": "python",
     "metadata": {},
     "outputs": [],
     "prompt_number": 182
    },
    {
     "cell_type": "code",
     "collapsed": false,
     "input": [
      "ta_10day_pm.plot()"
     ],
     "language": "python",
     "metadata": {},
     "outputs": [
      {
       "metadata": {},
       "output_type": "pyout",
       "prompt_number": 187,
       "text": [
        "<matplotlib.axes.AxesSubplot at 0x7f5371d86f90>"
       ]
      },
      {
       "metadata": {},
       "output_type": "display_data",
       "png": "[encoded data removed]",
       "text": [
        "<matplotlib.figure.Figure at 0x7f5371c46c90>"
       ]
      }
     ],
     "prompt_number": 187
    },
    {
     "cell_type": "code",
     "collapsed": false,
     "input": [
      "ta_out_pm.plot()"
     ],
     "language": "python",
     "metadata": {},
     "outputs": [
      {
       "metadata": {},
       "output_type": "pyout",
       "prompt_number": 50,
       "text": [
        "<matplotlib.axes.AxesSubplot at 0x7f53b0095590>"
       ]
      },
      {
       "metadata": {},
       "output_type": "display_data",
       "png": "[encoded data removed]",
       "text": [
        "<matplotlib.figure.Figure at 0x7f53aa00d350>"
       ]
      }
     ],
     "prompt_number": 50
    },
    {
     "cell_type": "markdown",
     "metadata": {},
     "source": [
      "# UpDownIndicator Test for in and out sample"
     ]
    },
    {
     "cell_type": "code",
     "collapsed": false,
     "input": [
      "#---------------------------\n",
      "\n",
      "def UpDownCalc(df):\n",
      "    '''\n",
      "    map up as +1, down as -1\n",
      "    return (elementwise) 1 for last > mid; -1 for last < mid; 0 for last == mid\n",
      "    '''\n",
      "    up = df.ix[:, 'last'] > df.ix[:, 'midPrc']\n",
      "    down = df.ix[:, 'last'] < df.ix[:, 'midPrc']\n",
      "    up *= 1\n",
      "    down *= -1\n",
      "    updown = up + down\n",
      "    updown = updown.rename('updown')\n",
      "    return updown"
     ],
     "language": "python",
     "metadata": {},
     "outputs": [],
     "prompt_number": 82
    },
    {
     "cell_type": "code",
     "collapsed": false,
     "input": [
      "ta_updown = UpDownCalc(ta)\n",
      "plt.figure()\n",
      "plt.hist(ta_10day_updown, bins=50)"
     ],
     "language": "python",
     "metadata": {},
     "outputs": [
      {
       "metadata": {},
       "output_type": "pyout",
       "prompt_number": 188,
       "text": [
        "(array([ 455528.,       0.,       0.,       0.,       0.,       0.,\n",
        "             0.,       0.,       0.,       0.,       0.,       0.,\n",
        "             0.,       0.,       0.,       0.,       0.,       0.,\n",
        "             0.,       0.,       0.,       0.,       0.,       0.,\n",
        "             0.,    7573.,       0.,       0.,       0.,       0.,\n",
        "             0.,       0.,       0.,       0.,       0.,       0.,\n",
        "             0.,       0.,       0.,       0.,       0.,       0.,\n",
        "             0.,       0.,       0.,       0.,       0.,       0.,\n",
        "             0.,  436939.]),\n",
        " array([-1.  , -0.96, -0.92, -0.88, -0.84, -0.8 , -0.76, -0.72, -0.68,\n",
        "       -0.64, -0.6 , -0.56, -0.52, -0.48, -0.44, -0.4 , -0.36, -0.32,\n",
        "       -0.28, -0.24, -0.2 , -0.16, -0.12, -0.08, -0.04,  0.  ,  0.04,\n",
        "        0.08,  0.12,  0.16,  0.2 ,  0.24,  0.28,  0.32,  0.36,  0.4 ,\n",
        "        0.44,  0.48,  0.52,  0.56,  0.6 ,  0.64,  0.68,  0.72,  0.76,\n",
        "        0.8 ,  0.84,  0.88,  0.92,  0.96,  1.  ]),\n",
        " <a list of 50 Patch objects>)"
       ]
      },
      {
       "metadata": {},
       "output_type": "display_data",
       "png": "[encoded data removed]",
       "text": [
        "<matplotlib.figure.Figure at 0x7f5371aa1c50>"
       ]
      }
     ],
     "prompt_number": 188
    },
    {
     "cell_type": "code",
     "collapsed": false,
     "input": [
      "def rolling_mean(df, n=3):\n",
      "    '''\n",
      "    calculate rolling mean and delete NaN\n",
      "    '''\n",
      "    roll_obj = df.rolling(window=n)\n",
      "    ret = (roll_obj.mean())\n",
      "    \n",
      "    last_boolean = np.logical_and.reduce(\n",
      "                                          [ret.index.hour == 21, \n",
      "                                           ret.index.minute == 0, \n",
      "                                           ret.index.second <= int(n//4) + 1])\n",
      "    ret = ret.ix[np.logical_not(last_boolean)]\n",
      "    #ret = ret.rename('price move')\n",
      "    return ret"
     ],
     "language": "python",
     "metadata": {},
     "outputs": [],
     "prompt_number": 200
    },
    {
     "cell_type": "code",
     "collapsed": false,
     "input": [
      "#------------------------------------------\n",
      "'''rolling mean'''\n",
      "mywindow = 12\n",
      "lastmid_indicator = rolling_mean(ta_updown, n=mywindow)\n",
      "lastmid_indicator = lastmid_indicator.rename('lastmidIndicator')"
     ],
     "language": "python",
     "metadata": {},
     "outputs": [],
     "prompt_number": 228
    },
    {
     "cell_type": "code",
     "collapsed": false,
     "input": [
      "plt.figure()\n",
      "plt.hist(lastmid_indicator.ix[ta_out_pm.index].dropna(), bins=20)\n",
      "plt.figure()\n",
      "plt.hist(ta_out_pm, bins=np.arange(-5.5, 5.5, 1))"
     ],
     "language": "python",
     "metadata": {},
     "outputs": [
      {
       "metadata": {},
       "output_type": "pyout",
       "prompt_number": 202,
       "text": [
        "(array([      0.,   21461.,       0.,  377740.,       0.,  995665.,\n",
        "             0.,  376945.,       0.,   21679.]),\n",
        " array([-5.5, -4.5, -3.5, -2.5, -1.5, -0.5,  0.5,  1.5,  2.5,  3.5,  4.5]),\n",
        " <a list of 10 Patch objects>)"
       ]
      },
      {
       "metadata": {},
       "output_type": "display_data",
       "png": "[encoded data removed]",
       "text": [
        "<matplotlib.figure.Figure at 0x7f53493eb6d0>"
       ]
      },
      {
       "metadata": {},
       "output_type": "display_data",
       "png": "[encoded data removed]",
       "text": [
        "<matplotlib.figure.Figure at 0x7f5348e160d0>"
       ]
      }
     ],
     "prompt_number": 202
    },
    {
     "cell_type": "code",
     "collapsed": false,
     "input": [
      "def myols(df, pm, norm=False):\n",
      "    '''\n",
      "    df is indicator DataFrame\n",
      "    pm is Price move Series\n",
      "    sm is satatsmodel module\n",
      "    this function also automatically align index of df and pm\n",
      "    '''\n",
      "    global sm\n",
      "    df = df[pm.index]\n",
      "    df.dropna(inplace=True)\n",
      "    if norm:\n",
      "        df = (df - df.mean()) / df.std()\n",
      "    X = sm.add_constant(df)\n",
      "    Y = pm[df.index]\n",
      "    model = sm.OLS(Y, X)\n",
      "    ret = model.fit()\n",
      "    return ret"
     ],
     "language": "python",
     "metadata": {},
     "outputs": [],
     "prompt_number": 90
    },
    {
     "cell_type": "code",
     "collapsed": false,
     "input": [
      "def Rsquare(y, yhat):\n",
      "    ybar = y.mean()\n",
      "    #print ybar\n",
      "    #print y-ybar\n",
      "    ss_tot = ((y - ybar) ** 2).sum()\n",
      "    ss_reg = ((yhat - ybar) ** 2).sum()\n",
      "    ss_res = ((yhat - y) ** 2).sum()\n",
      "    #print ss_reg, ss_tot\n",
      "    ret = ss_reg / ss_tot\n",
      "    return ret\n",
      "def PredictedRsquare(result, xnew, pm):\n",
      "    '''\n",
      "    pm: outsample price move Series\n",
      "    xnew: indicator Series (or DataFrame)\n",
      "    result: insample regression results (comes from statsmodel's model.fit() )\n",
      "    '''\n",
      "    global sm\n",
      "    # first we need to align xnew with outsample\n",
      "    xnew = xnew[pm.index]\n",
      "    xnew.dropna(inplace=True)\n",
      "    pm = pm[xnew.index]\n",
      "    xnew = sm.add_constant(xnew)\n",
      "    ypredict = result.predict(xnew)\n",
      "    rsq = Rsquare(pm, ypredict)\n",
      "    return ypredict, rsq"
     ],
     "language": "python",
     "metadata": {},
     "outputs": [],
     "prompt_number": 215
    },
    {
     "cell_type": "code",
     "collapsed": false,
     "input": [
      "(ta.ix[:, 'vol_diff'] == 0).sum()"
     ],
     "language": "python",
     "metadata": {},
     "outputs": [
      {
       "metadata": {},
       "output_type": "pyout",
       "prompt_number": 203,
       "text": [
        "0"
       ]
      }
     ],
     "prompt_number": 203
    },
    {
     "cell_type": "code",
     "collapsed": false,
     "input": [
      "#------------------------------------------\n",
      "'''rolling mean'''\n",
      "mywindow = 12\n",
      "lastmid_indicator = rolling_mean(ta_updown, n=mywindow)\n",
      "lastmid_indicator = lastmid_indicator.rename('lastmidIndicator')\n",
      "vol_roll = rolling_mean(np.log(ta.ix[:, 'vol_diff']), n=mywindow)\n",
      "vol_roll = vol_roll.rename('vol_roll')\n",
      "lastmid_indicator1 = lastmid_indicator * vol_roll"
     ],
     "language": "python",
     "metadata": {},
     "outputs": [],
     "prompt_number": 229
    },
    {
     "cell_type": "code",
     "collapsed": false,
     "input": [
      "res = myols(lastmid_indicator1, ta_10day_pm)\n",
      "print(res.summary())"
     ],
     "language": "python",
     "metadata": {},
     "outputs": [
      {
       "output_type": "stream",
       "stream": "stdout",
       "text": [
        "                            OLS Regression Results                            \n",
        "==============================================================================\n",
        "Dep. Variable:             price move   R-squared:                       0.004\n",
        "Model:                            OLS   Adj. R-squared:                  0.004\n",
        "Method:                 Least Squares   F-statistic:                     3980.\n",
        "Date:                Sun, 10 Jul 2016   Prob (F-statistic):               0.00\n",
        "Time:                        13:02:24   Log-Likelihood:            -1.8292e+06\n",
        "No. Observations:              899390   AIC:                         3.658e+06\n",
        "Df Residuals:                  899388   BIC:                         3.658e+06\n",
        "Df Model:                           1                                         \n",
        "==============================================================================\n",
        "                 coef    std err          t      P>|t|      [95.0% Conf. Int.]\n",
        "------------------------------------------------------------------------------\n",
        "const          0.0063      0.002      3.226      0.001         0.002     0.010\n",
        "None          -0.1906      0.003    -63.088      0.000        -0.196    -0.185\n",
        "==============================================================================\n",
        "Omnibus:                   221416.941   Durbin-Watson:                   0.347\n",
        "Prob(Omnibus):                  0.000   Jarque-Bera (JB):         13593133.442\n",
        "Skew:                           0.229   Prob(JB):                         0.00\n",
        "Kurtosis:                      22.040   Cond. No.                         1.55\n",
        "==============================================================================\n"
       ]
      }
     ],
     "prompt_number": 231
    },
    {
     "cell_type": "code",
     "collapsed": false,
     "input": [
      "PredictedRsquare(res, lastmid_indicator1, ta_out_pm)"
     ],
     "language": "python",
     "metadata": {},
     "outputs": [
      {
       "metadata": {},
       "output_type": "pyout",
       "prompt_number": 232,
       "text": [
        "(array([-0.14766787,  0.00629304, -0.14696118, ...,  0.07110718,\n",
        "        0.07536682,  0.07589793]),\n",
        " 0.0060778064651004719)"
       ]
      }
     ],
     "prompt_number": 232
    },
    {
     "cell_type": "code",
     "collapsed": false,
     "input": [
      "temp1 = lastmid_indicator1.ix[ta_out_pm.index]\n",
      "temp1.dropna(inplace=True)\n",
      "print type(temp1)\n",
      "plt.figure(figsize=(20,10))\n",
      "sns.swarmplot(x=temp1.ix[:300000:500], y=ta_out_pm.ix[:300000:500])"
     ],
     "language": "python",
     "metadata": {},
     "outputs": [
      {
       "output_type": "stream",
       "stream": "stdout",
       "text": [
        "<class 'pandas.core.series.Series'>\n"
       ]
      },
      {
       "metadata": {},
       "output_type": "pyout",
       "prompt_number": 138,
       "text": [
        "<matplotlib.axes.AxesSubplot at 0x7f53a535c8d0>"
       ]
      },
      {
       "metadata": {},
       "output_type": "display_data",
       "png": "[encoded data removed]",
       "text": [
        "<matplotlib.figure.Figure at 0x7f53a2d77c90>"
       ]
      }
     ],
     "prompt_number": 138
    },
    {
     "cell_type": "code",
     "collapsed": false,
     "input": [
      "# --------------------------------------------\n",
      "'''plot fit'''\n",
      "fig, ax = plt.subplots()\n",
      "fig = sm.graphics.plot_fit(res, res.model.exog_names[1], ax=ax)"
     ],
     "language": "python",
     "metadata": {},
     "outputs": [
      {
       "metadata": {},
       "output_type": "display_data",
       "png": "[encoded data removed]",
       "text": [
        "<matplotlib.figure.Figure at 0x7f5397bc41d0>"
       ]
      }
     ],
     "prompt_number": 130
    },
    {
     "cell_type": "code",
     "collapsed": false,
     "input": [
      "#--------------------------------------------------\n",
      "'''find good window parameter'''\n",
      "for mywindow in np.arange(1, 60, 1):\n",
      "#     mywindow = \n",
      "    r = ta_updown.rolling(window=mywindow)\n",
      "    lastmid_indicator = (r.mean())\n",
      "    lastmid_indicator = lastmid_indicator.rename('lastmid_indicator')\n",
      "    res = myols(lastmid_indicator, ta_10day_pm)\n",
      "    print '\\n--------------------'\n",
      "    print ('window = %d, Rsquare = %f. ' %(mywindow, res.rsquared))\n",
      "\n"
     ],
     "language": "python",
     "metadata": {},
     "outputs": [
      {
       "output_type": "stream",
       "stream": "stdout",
       "text": [
        "\n",
        "--------------------\n",
        "window = 1, Rsquare = 0.079394. \n",
        "\n",
        "--------------------"
       ]
      },
      {
       "output_type": "stream",
       "stream": "stdout",
       "text": [
        "\n",
        "window = 2, Rsquare = 0.054486. \n",
        "\n",
        "--------------------"
       ]
      },
      {
       "output_type": "stream",
       "stream": "stdout",
       "text": [
        "\n",
        "window = 3, Rsquare = 0.039333. \n",
        "\n",
        "--------------------"
       ]
      },
      {
       "output_type": "stream",
       "stream": "stdout",
       "text": [
        "\n",
        "window = 4, Rsquare = 0.029954. \n",
        "\n",
        "--------------------"
       ]
      },
      {
       "output_type": "stream",
       "stream": "stdout",
       "text": [
        "\n",
        "window = 5, Rsquare = 0.023794. \n",
        "\n",
        "--------------------"
       ]
      },
      {
       "output_type": "stream",
       "stream": "stdout",
       "text": [
        "\n",
        "window = 6, Rsquare = 0.019466. \n",
        "\n",
        "--------------------"
       ]
      },
      {
       "output_type": "stream",
       "stream": "stdout",
       "text": [
        "\n",
        "window = 7, Rsquare = 0.016307. \n",
        "\n",
        "--------------------"
       ]
      },
      {
       "output_type": "stream",
       "stream": "stdout",
       "text": [
        "\n",
        "window = 8, Rsquare = 0.013948. \n",
        "\n",
        "--------------------"
       ]
      },
      {
       "output_type": "stream",
       "stream": "stdout",
       "text": [
        "\n",
        "window = 9, Rsquare = 0.012110. \n",
        "\n",
        "--------------------"
       ]
      },
      {
       "output_type": "stream",
       "stream": "stdout",
       "text": [
        "\n",
        "window = 10, Rsquare = 0.010672. \n",
        "\n",
        "--------------------"
       ]
      },
      {
       "output_type": "stream",
       "stream": "stdout",
       "text": [
        "\n",
        "window = 11, Rsquare = 0.009513. \n",
        "\n",
        "--------------------"
       ]
      },
      {
       "output_type": "stream",
       "stream": "stdout",
       "text": [
        "\n",
        "window = 12, Rsquare = 0.008578. \n",
        "\n",
        "--------------------"
       ]
      },
      {
       "output_type": "stream",
       "stream": "stdout",
       "text": [
        "\n",
        "window = 13, Rsquare = 0.007821. \n",
        "\n",
        "--------------------"
       ]
      },
      {
       "output_type": "stream",
       "stream": "stdout",
       "text": [
        "\n",
        "window = 14, Rsquare = 0.007165. \n",
        "\n",
        "--------------------"
       ]
      },
      {
       "output_type": "stream",
       "stream": "stdout",
       "text": [
        "\n",
        "window = 15, Rsquare = 0.006591. \n",
        "\n",
        "--------------------"
       ]
      },
      {
       "output_type": "stream",
       "stream": "stdout",
       "text": [
        "\n",
        "window = 16, Rsquare = 0.006094. \n",
        "\n",
        "--------------------"
       ]
      },
      {
       "output_type": "stream",
       "stream": "stdout",
       "text": [
        "\n",
        "window = 17, Rsquare = 0.005655. \n",
        "\n",
        "--------------------"
       ]
      },
      {
       "output_type": "stream",
       "stream": "stdout",
       "text": [
        "\n",
        "window = 18, Rsquare = 0.005268. \n",
        "\n",
        "--------------------"
       ]
      },
      {
       "output_type": "stream",
       "stream": "stdout",
       "text": [
        "\n",
        "window = 19, Rsquare = 0.004926. \n",
        "\n",
        "--------------------"
       ]
      },
      {
       "output_type": "stream",
       "stream": "stdout",
       "text": [
        "\n",
        "window = 20, Rsquare = 0.004627. \n",
        "\n",
        "--------------------"
       ]
      },
      {
       "output_type": "stream",
       "stream": "stdout",
       "text": [
        "\n",
        "window = 21, Rsquare = 0.004371. \n",
        "\n",
        "--------------------"
       ]
      },
      {
       "output_type": "stream",
       "stream": "stdout",
       "text": [
        "\n",
        "window = 22, Rsquare = 0.004132. \n",
        "\n",
        "--------------------"
       ]
      },
      {
       "output_type": "stream",
       "stream": "stdout",
       "text": [
        "\n",
        "window = 23, Rsquare = 0.003908. \n",
        "\n",
        "--------------------"
       ]
      },
      {
       "output_type": "stream",
       "stream": "stdout",
       "text": [
        "\n",
        "window = 24, Rsquare = 0.003706. \n",
        "\n",
        "--------------------"
       ]
      },
      {
       "output_type": "stream",
       "stream": "stdout",
       "text": [
        "\n",
        "window = 25, Rsquare = 0.003524. \n",
        "\n",
        "--------------------"
       ]
      },
      {
       "output_type": "stream",
       "stream": "stdout",
       "text": [
        "\n",
        "window = 26, Rsquare = 0.003363. \n",
        "\n",
        "--------------------"
       ]
      },
      {
       "output_type": "stream",
       "stream": "stdout",
       "text": [
        "\n",
        "window = 27, Rsquare = 0.003217. \n",
        "\n",
        "--------------------"
       ]
      },
      {
       "output_type": "stream",
       "stream": "stdout",
       "text": [
        "\n",
        "window = 28, Rsquare = 0.003075. \n",
        "\n",
        "--------------------"
       ]
      },
      {
       "output_type": "stream",
       "stream": "stdout",
       "text": [
        "\n",
        "window = 29, Rsquare = 0.002946. \n",
        "\n",
        "--------------------"
       ]
      },
      {
       "output_type": "stream",
       "stream": "stdout",
       "text": [
        "\n",
        "window = 30, Rsquare = 0.002823. \n",
        "\n",
        "--------------------"
       ]
      },
      {
       "output_type": "stream",
       "stream": "stdout",
       "text": [
        "\n",
        "window = 31, Rsquare = 0.002712. \n",
        "\n",
        "--------------------"
       ]
      },
      {
       "output_type": "stream",
       "stream": "stdout",
       "text": [
        "\n",
        "window = 32, Rsquare = 0.002610. \n",
        "\n",
        "--------------------"
       ]
      },
      {
       "output_type": "stream",
       "stream": "stdout",
       "text": [
        "\n",
        "window = 33, Rsquare = 0.002513. \n",
        "\n",
        "--------------------"
       ]
      },
      {
       "output_type": "stream",
       "stream": "stdout",
       "text": [
        "\n",
        "window = 34, Rsquare = 0.002428. \n",
        "\n",
        "--------------------"
       ]
      },
      {
       "output_type": "stream",
       "stream": "stdout",
       "text": [
        "\n",
        "window = 35, Rsquare = 0.002343. \n",
        "\n",
        "--------------------"
       ]
      },
      {
       "output_type": "stream",
       "stream": "stdout",
       "text": [
        "\n",
        "window = 36, Rsquare = 0.002265. \n",
        "\n",
        "--------------------"
       ]
      },
      {
       "output_type": "stream",
       "stream": "stdout",
       "text": [
        "\n",
        "window = 37, Rsquare = 0.002191. \n",
        "\n",
        "--------------------"
       ]
      },
      {
       "output_type": "stream",
       "stream": "stdout",
       "text": [
        "\n",
        "window = 38, Rsquare = 0.002125. \n",
        "\n",
        "--------------------"
       ]
      },
      {
       "output_type": "stream",
       "stream": "stdout",
       "text": [
        "\n",
        "window = 39, Rsquare = 0.002062. \n",
        "\n",
        "--------------------"
       ]
      },
      {
       "output_type": "stream",
       "stream": "stdout",
       "text": [
        "\n",
        "window = 40, Rsquare = 0.002000. \n",
        "\n",
        "--------------------"
       ]
      },
      {
       "output_type": "stream",
       "stream": "stdout",
       "text": [
        "\n",
        "window = 41, Rsquare = 0.001946. \n",
        "\n",
        "--------------------"
       ]
      },
      {
       "output_type": "stream",
       "stream": "stdout",
       "text": [
        "\n",
        "window = 42, Rsquare = 0.001899. \n",
        "\n",
        "--------------------"
       ]
      },
      {
       "output_type": "stream",
       "stream": "stdout",
       "text": [
        "\n",
        "window = 43, Rsquare = 0.001856. \n",
        "\n",
        "--------------------"
       ]
      },
      {
       "output_type": "stream",
       "stream": "stdout",
       "text": [
        "\n",
        "window = 44, Rsquare = 0.001816. \n",
        "\n",
        "--------------------"
       ]
      },
      {
       "output_type": "stream",
       "stream": "stdout",
       "text": [
        "\n",
        "window = 45, Rsquare = 0.001778. \n",
        "\n",
        "--------------------"
       ]
      },
      {
       "output_type": "stream",
       "stream": "stdout",
       "text": [
        "\n",
        "window = 46, Rsquare = 0.001742. \n",
        "\n",
        "--------------------"
       ]
      },
      {
       "output_type": "stream",
       "stream": "stdout",
       "text": [
        "\n",
        "window = 47, Rsquare = 0.001706. \n",
        "\n",
        "--------------------"
       ]
      },
      {
       "output_type": "stream",
       "stream": "stdout",
       "text": [
        "\n",
        "window = 48, Rsquare = 0.001671. \n",
        "\n",
        "--------------------"
       ]
      },
      {
       "output_type": "stream",
       "stream": "stdout",
       "text": [
        "\n",
        "window = 49, Rsquare = 0.001637. \n",
        "\n",
        "--------------------"
       ]
      },
      {
       "output_type": "stream",
       "stream": "stdout",
       "text": [
        "\n",
        "window = 50, Rsquare = 0.001601. \n",
        "\n",
        "--------------------"
       ]
      },
      {
       "output_type": "stream",
       "stream": "stdout",
       "text": [
        "\n",
        "window = 51, Rsquare = 0.001568. \n",
        "\n",
        "--------------------"
       ]
      },
      {
       "output_type": "stream",
       "stream": "stdout",
       "text": [
        "\n",
        "window = 52, Rsquare = 0.001537. \n",
        "\n",
        "--------------------"
       ]
      },
      {
       "output_type": "stream",
       "stream": "stdout",
       "text": [
        "\n",
        "window = 53, Rsquare = 0.001504. \n",
        "\n",
        "--------------------"
       ]
      },
      {
       "output_type": "stream",
       "stream": "stdout",
       "text": [
        "\n",
        "window = 54, Rsquare = 0.001474. \n",
        "\n",
        "--------------------"
       ]
      },
      {
       "output_type": "stream",
       "stream": "stdout",
       "text": [
        "\n",
        "window = 55, Rsquare = 0.001446. \n",
        "\n",
        "--------------------"
       ]
      },
      {
       "output_type": "stream",
       "stream": "stdout",
       "text": [
        "\n",
        "window = 56, Rsquare = 0.001417. \n",
        "\n",
        "--------------------"
       ]
      },
      {
       "output_type": "stream",
       "stream": "stdout",
       "text": [
        "\n",
        "window = 57, Rsquare = 0.001390. \n",
        "\n",
        "--------------------"
       ]
      },
      {
       "output_type": "stream",
       "stream": "stdout",
       "text": [
        "\n",
        "window = 58, Rsquare = 0.001364. \n",
        "\n",
        "--------------------"
       ]
      },
      {
       "output_type": "stream",
       "stream": "stdout",
       "text": [
        "\n",
        "window = 59, Rsquare = 0.001340. \n"
       ]
      }
     ],
     "prompt_number": 125
    },
    {
     "cell_type": "code",
     "collapsed": false,
     "input": [
      "%matplotlib auto"
     ],
     "language": "python",
     "metadata": {},
     "outputs": [
      {
       "output_type": "stream",
       "stream": "stdout",
       "text": [
        "Using matplotlib backend: TkAgg\n"
       ]
      }
     ],
     "prompt_number": 233
    },
    {
     "cell_type": "code",
     "collapsed": false,
     "input": [
      "def prc_total(df, t1, t2, fs=(15,10)):\n",
      "    fig = plt.figure(figsize=fs)\n",
      "    ax1 = fig.add_subplot(411)\n",
      "    \n",
      "    ax1.plot(df.ix[t1: t2, 'last'], color='#f5f112', marker='*')\n",
      "    ax1.plot(df.ix[t1: t2, 'askPrc_0'], color='lightgreen')\n",
      "    ax1.plot(df.ix[t1: t2, 'bidPrc_0'], color='lightcoral')\n",
      "    \n",
      "    ax2 = fig.add_subplot(412, sharex=ax1)\n",
      "    ax2.semilogy(100 * np.ones_like(df.ix[t11: t22].values), color='orange')\n",
      "    ax2.semilogy(df.ix[t11: t22, 'vol_diff']/2., color='orange', marker='*')\n",
      "    \n",
      "    ax3 = fig.add_subplot(413, sharex=ax1)\n",
      "    ax3.plot(df.ix[t1: t2, 'openInt_diff'], color='white', lw=0.4, marker='*')\n",
      "    \n",
      "    ax4 = fig.add_subplot(414, sharex=ax1)\n",
      "    ax4.plot(df.ix[t1: t2, 'TotalBidLot'], \n",
      "             color='red')\n",
      "    ax4.plot(df.ix[t1: t2, 'TotalAskLot'], \n",
      "             color='green')\n",
      "    return fig"
     ],
     "language": "python",
     "metadata": {},
     "outputs": [],
     "prompt_number": 221
    },
    {
     "cell_type": "code",
     "collapsed": false,
     "input": [
      "t11, t22 = '2015-11-19 21:00:01','2015-11-28 15:00:00'\n",
      "temp = ta_10day.ix[ta_10day_pm.index, :]\n",
      "\n",
      "thefig = prc_total(temp, t11, t22, (15,10))\n",
      "multi = MultiCursor(thefig.canvas, thefig.axes, color='c', lw=1)\n",
      "thefig.show()"
     ],
     "language": "python",
     "metadata": {},
     "outputs": [
      {
       "output_type": "stream",
       "stream": "stderr",
       "text": [
        "  File \"/usr/lib/pymodules/python2.7/matplotlib/cbook.py\", line 527, in process\n",
        "    proxy(*args, **kwargs)\n",
        "  File \"/usr/lib/pymodules/python2.7/matplotlib/cbook.py\", line 405, in __call__\n",
        "    return mtd(*args, **kwargs)\n",
        "  File \"/usr/lib/pymodules/python2.7/matplotlib/widgets.py\", line 995, in onmove\n",
        "    self._update()\n",
        "  File \"/usr/lib/pymodules/python2.7/matplotlib/widgets.py\", line 1003, in _update\n",
        "    ax.draw_artist(line)\n",
        "  File \"/usr/lib/pymodules/python2.7/matplotlib/axes.py\", line 2097, in draw_artist\n",
        "    assert self._cachedRenderer is not None\n",
        "AssertionError\n"
       ]
      }
     ],
     "prompt_number": 244
    },
    {
     "cell_type": "code",
     "collapsed": false,
     "input": [
      "thefig.axes[2].cla()\n",
      "thefig.axes[2].plot(lastmid_indicator1.ix[ta_10day_pm.index].ix['2015-12-01 21:00:01': '2015-12-05 15:00:00'].ix[t11:t22])"
     ],
     "language": "python",
     "metadata": {},
     "outputs": [
      {
       "metadata": {},
       "output_type": "pyout",
       "prompt_number": 237,
       "text": [
        "[<matplotlib.lines.Line2D at 0x7f53496fea50>]"
       ]
      }
     ],
     "prompt_number": 237
    },
    {
     "cell_type": "code",
     "collapsed": false,
     "input": [
      "n = len(temp.ix[t11:t22, :])\n",
      "for i, txt in enumerate(temp.ix[t11:t22, 'askQty_0']):\n",
      "    (thefig.axes[0]).annotate(txt, ((xrange(n))[i], (temp.ix[t11: t22, 'askPrc_0'])[i] + .3), color='white', size=10)\n",
      "for i, txt in enumerate(temp.ix[t11:t22, 'askQty_1']):\n",
      "    (thefig.axes[0]).annotate(txt, ((xrange(n))[i], (temp.ix[t11: t22, 'askPrc_1'])[i] +.7), color='white', size=10)\n",
      "for i, txt in enumerate(temp.ix[t11:t22, 'bidQty_0']):\n",
      "    (thefig.axes[0]).annotate(txt, ((xrange(n))[i], (temp.ix[t11: t22, 'bidPrc_0'])[i] - .6), color='white', size=10)\n",
      "for i, txt in enumerate(temp.ix[t11:t22, 'bidQty_1']):\n",
      "    (thefig.axes[0]).annotate(txt, ((xrange(n))[i], (temp.ix[t11: t22, 'bidPrc_1'])[i] - 1.), color='white', size=10)\n",
      "for i, txt in enumerate(temp.ix[t11:t22, 'vol_diff']/2.):\n",
      "    (thefig.axes[1]).annotate(txt, ((xrange(n))[i], (temp.ix[t11: t22, 'vol_diff'])[i] + .3), color='white', size=10)"
     ],
     "language": "python",
     "metadata": {},
     "outputs": []
    }
   ],
   "metadata": {}
  }
 ]
}