{
 "metadata": {
  "name": ""
 },
 "nbformat": 3,
 "nbformat_minor": 0,
 "worksheets": [
  {
   "cells": [
    {
     "cell_type": "code",
     "collapsed": false,
     "input": [
      "from sys import path\n",
      "path.append('/home/bingnan/ecworkspace/HFT1')"
     ],
     "language": "python",
     "metadata": {},
     "outputs": [],
     "prompt_number": 1
    },
    {
     "cell_type": "code",
     "collapsed": false,
     "input": [
      "%matplotlib inline"
     ],
     "language": "python",
     "metadata": {},
     "outputs": [],
     "prompt_number": 4
    },
    {
     "cell_type": "code",
     "collapsed": false,
     "input": [
      "from init import *"
     ],
     "language": "python",
     "metadata": {},
     "outputs": [],
     "prompt_number": 5
    },
    {
     "cell_type": "code",
     "collapsed": false,
     "input": [
      "import itertools, sys"
     ],
     "language": "python",
     "metadata": {},
     "outputs": [],
     "prompt_number": 115
    },
    {
     "cell_type": "code",
     "collapsed": false,
     "input": [
      "_xin_mean = xin.mean(axis=0)\n",
      "_xin_std = xin.std(axis=0)\n",
      "xin_stdzd = (xin - _xin_mean) / _xin_std\n",
      "xout_stdzd = (xout - _xin_mean) / _xin_std\n",
      "xtest_stdzd = (xtest - _xin_mean) / _xin_std"
     ],
     "language": "python",
     "metadata": {},
     "outputs": [],
     "prompt_number": 6
    },
    {
     "cell_type": "code",
     "collapsed": false,
     "input": [
      "distance.cdist"
     ],
     "language": "python",
     "metadata": {},
     "outputs": []
    },
    {
     "cell_type": "code",
     "collapsed": false,
     "input": [
      "def my_kernel_eu(x, y, gamma=.1):\n",
      "    print x.shape, y.shape\n",
      "    f = pairwise.euclidean_distances\n",
      "#     timer1.refresh('set f')\n",
      "    dis = f(x, y, squared=True)\n",
      "    timer1.refresh('calculate dis')\n",
      "    dis *= 1./80\n",
      "    timer1.refresh('/= 80')\n",
      "    dis *= -gamma\n",
      "    timer1.refresh(' *= -gamma ')\n",
      "    np.exp(dis, dis)\n",
      "    timer1.refresh(' exp ')\n",
      "    print sys.getsizeof(dis)/1024./1024.\n",
      "    return dis"
     ],
     "language": "python",
     "metadata": {},
     "outputs": [],
     "prompt_number": 148
    },
    {
     "cell_type": "code",
     "collapsed": false,
     "input": [
      "def my_kernel_scipy(x, y, gamma=.1):\n",
      "    print x.shape, y.shape\n",
      "#     f = pairwise.euclidean_distances\n",
      "#     timer1.refresh('set f')\n",
      "    dis = distance.cdist(x, y, metric='euclidean')\n",
      "    timer1.refresh('calculate dis')\n",
      "    dis *= 1./80\n",
      "    timer1.refresh('/= 80')\n",
      "    dis *= -gamma\n",
      "    timer1.refresh(' *= -gamma ')\n",
      "    np.exp(dis, dis)\n",
      "    timer1.refresh(' exp ')\n",
      "    return dis"
     ],
     "language": "python",
     "metadata": {},
     "outputs": [],
     "prompt_number": 107
    },
    {
     "cell_type": "code",
     "collapsed": false,
     "input": [
      "def MyTime(startpoint, s):\n",
      "    time_length = tm.time() - startpoint\n",
      "    print '{0:.3f}s consumed. '.format(time_length) + s + ' is done.'"
     ],
     "language": "python",
     "metadata": {},
     "outputs": [],
     "prompt_number": 21
    },
    {
     "cell_type": "code",
     "collapsed": false,
     "input": [
      "def MyTime(startpoint, s, time_list, event_list):\n",
      "    \"\"\"\n",
      "    startpoint is the start time\n",
      "    s is event name(finished)\n",
      "    time_list and event_list are python lists\n",
      "    \n",
      "    \"\"\"\n",
      "    time_length = tm.time() - startpoint\n",
      "    time_list.append(time_length)\n",
      "    event_list.append(s)\n",
      "    #print '{0:.3f}s consumed. '.format(time_length) + s + ' is done.'"
     ],
     "language": "python",
     "metadata": {},
     "outputs": [],
     "prompt_number": 33
    },
    {
     "cell_type": "code",
     "collapsed": false,
     "input": [
      "class MyTimeCLS(object):\n",
      "    def __init__(self):\n",
      "        self.start_time = tm.time()\n",
      "        self._time_list = [0.]\n",
      "        self.interval_list = []\n",
      "        self.event_list = []\n",
      "    def refresh(self, event):\n",
      "        current_time = tm.time() - self.start_time\n",
      "        self._time_list.append(current_time)\n",
      "        self.event_list.append(event)\n",
      "    \"\"\" len(self._time_list) is 1 longer than len(self.event_list)\"\"\" \n",
      "    def show(self):\n",
      "        self._time_list = np.array(self._time_list)\n",
      "        self.interval_list = self._time_list[1:] - self._time_list[:-1]\n",
      "        for t, e in itertools.izip(self.interval_list, self.event_list):\n",
      "            #print \"{0:.3f} s till {1} is done.\".format(t, e)\n",
      "            print \"{0:.4f} s for: {1}.\".format(t, e)\n",
      "        print \"{0:.4f} s in total\".format(self._time_list[-1])"
     ],
     "language": "python",
     "metadata": {},
     "outputs": [],
     "prompt_number": 2
    },
    {
     "cell_type": "code",
     "collapsed": false,
     "input": [
      "timer1 = MyTimeCLS()"
     ],
     "language": "python",
     "metadata": {},
     "outputs": [],
     "prompt_number": 35
    },
    {
     "cell_type": "code",
     "collapsed": false,
     "input": [
      "import timeit"
     ],
     "language": "python",
     "metadata": {},
     "outputs": [],
     "prompt_number": 44
    },
    {
     "cell_type": "code",
     "collapsed": false,
     "input": [
      "timer1.refresh('r3')"
     ],
     "language": "python",
     "metadata": {},
     "outputs": [],
     "prompt_number": 43
    },
    {
     "cell_type": "code",
     "collapsed": false,
     "input": [],
     "language": "python",
     "metadata": {},
     "outputs": []
    },
    {
     "cell_type": "code",
     "collapsed": false,
     "input": [
      "sys.getsizeof(np.random.rand(10000, 10000))/1024./1024."
     ],
     "language": "python",
     "metadata": {},
     "outputs": [
      {
       "metadata": {},
       "output_type": "pyout",
       "prompt_number": 140,
       "text": [
        "762.9395599365234"
       ]
      }
     ],
     "prompt_number": 140
    },
    {
     "cell_type": "code",
     "collapsed": false,
     "input": [
      "sys.getsizeof(x0)/1024/1024"
     ],
     "language": "python",
     "metadata": {},
     "outputs": [
      {
       "metadata": {},
       "output_type": "pyout",
       "prompt_number": 122,
       "text": [
        "564177992"
       ]
      }
     ],
     "prompt_number": 122
    },
    {
     "cell_type": "code",
     "collapsed": false,
     "input": [
      "def MyRgrs(xi, xo, yi, yo, model=None, align=False):\n",
      "    '''use yi and yout 's index to align. x is of full length.\n",
      "\n",
      "    Parameters\n",
      "    ----------\n",
      "    model : sklearn clf\n",
      "\n",
      "    Returns\n",
      "    -------\n",
      "    res : regression result\n",
      "\n",
      "    '''\n",
      "    if align:\n",
      "        xi = xi.ix[yi.index]\n",
      "        xo = xo.ix[yo.index]\n",
      "    if not xi.ndim > 1:\n",
      "        xi = xi.reshape(-1, 1)\n",
      "        xo = xo.reshape(-1, 1)\n",
      "    timer1.refresh('regression preparation')\n",
      "    res = model.fit(xi, yi)\n",
      "    timer1.refresh('fit')\n",
      "    rsq_in = res.score(xi, yi)\n",
      "    timer1.refresh('rsq_in calc')\n",
      "#     res.predict(xi)\n",
      "#     timer1.refresh('predict xin')\n",
      "    rsq_out = res.score(xo, yo)\n",
      "    timer1.refresh('rsq_out calc')\n",
      "    timer1.refresh('All in regression func')\n",
      "    return res, rsq_in, rsq_out"
     ],
     "language": "python",
     "metadata": {},
     "outputs": [],
     "prompt_number": 109
    },
    {
     "cell_type": "code",
     "collapsed": false,
     "input": [
      "yin2 = yin.ix[::50]\n",
      "print len(yin2)\n",
      "yout2 = yout.ix[::15]\n",
      "print len(yout2)"
     ],
     "language": "python",
     "metadata": {},
     "outputs": [
      {
       "output_type": "stream",
       "stream": "stdout",
       "text": [
        "10448\n",
        "11609\n"
       ]
      }
     ],
     "prompt_number": 145
    },
    {
     "cell_type": "code",
     "collapsed": false,
     "input": [
      "timer1 = MyTimeCLS()\n",
      "for myepsilon in np.arange(.2, .3, .3):\n",
      "    #MyTime(start_time, 'enter loop1')\n",
      "    for myc in np.arange(10e-2, 100e-2, 100e-2):\n",
      "        #MyTime(start_time, 'enter loop2')\n",
      "        for mygamma in np.arange(.4341/5, 300e-2, 300e-2):\n",
      "            #MyTime(start_time, 'enter loop3')\n",
      "            mmy_kernel = functools.partial(my_kernel_eu, gamma=mygamma)\n",
      "            #MyTime(start_time, 'Partial func.')\n",
      "            mod = svm.SVR(kernel=mmy_kernel, epsilon=myepsilon, C=myc)\n",
      "            #MyTime(start_time, 'SVR model')\n",
      "            #print ('\\n\\n===========$\\epsilon$: %f, $C$: %f, $\\gamma$: %f===================' % (myepsilon, myc, mygamma))\n",
      "            res_eu, rsqin, rsq_out = MyRgrs(xin_stdzd#.ix[:, temp1]\n",
      "                                         , xout_stdzd#.ix[:, temp1]\n",
      "                                         , yin2, yout2, mod, align=True)"
     ],
     "language": "python",
     "metadata": {},
     "outputs": [
      {
       "output_type": "stream",
       "stream": "stdout",
       "text": [
        "(10448, 80) (10448, 80)\n",
        "832.830184937"
       ]
      },
      {
       "output_type": "stream",
       "stream": "stdout",
       "text": [
        "\n",
        "(10448, 80)"
       ]
      },
      {
       "output_type": "stream",
       "stream": "stdout",
       "text": [
        " (10448, 80)\n",
        "832.830184937"
       ]
      },
      {
       "output_type": "stream",
       "stream": "stdout",
       "text": [
        "\n",
        "(11609, 80)"
       ]
      },
      {
       "output_type": "stream",
       "stream": "stdout",
       "text": [
        " (10448, 80)\n",
        "925.375717163"
       ]
      },
      {
       "output_type": "stream",
       "stream": "stdout",
       "text": [
        "\n"
       ]
      }
     ],
     "prompt_number": 149
    },
    {
     "cell_type": "code",
     "collapsed": false,
     "input": [
      "timer1.show()"
     ],
     "language": "python",
     "metadata": {},
     "outputs": [
      {
       "output_type": "stream",
       "stream": "stdout",
       "text": [
        "0.0281 s for: regression preparation.\n",
        "1.4876 s for: calculate dis.\n",
        "0.1533 s for: /= 80.\n",
        "0.1531 s for:  *= -gamma .\n",
        "3.4451 s for:  exp .\n",
        "2.0001 s for: fit.\n",
        "1.3395 s for: calculate dis.\n",
        "0.1527 s for: /= 80.\n",
        "0.1528 s for:  *= -gamma .\n",
        "3.4405 s for:  exp .\n",
        "0.2925 s for: rsq_in calc.\n",
        "1.4858 s for: calculate dis.\n",
        "0.1699 s for: /= 80.\n",
        "0.1699 s for:  *= -gamma .\n",
        "3.8549 s for:  exp .\n",
        "0.3446 s for: rsq_out calc.\n",
        "0.0000 s for: All in regression func.\n",
        "18.6707 s in total\n"
       ]
      }
     ],
     "prompt_number": 150
    },
    {
     "cell_type": "code",
     "collapsed": false,
     "input": [
      "timer1 = MyTimeCLS()\n",
      "for myepsilon in np.arange(.2, .3, .3):\n",
      "    #MyTime(start_time, 'enter loop1')\n",
      "    for myc in np.arange(10e-2, 100e-2, 100e-2):\n",
      "        #MyTime(start_time, 'enter loop2')\n",
      "        for mygamma in np.arange(.4341/5, 300e-2, 300e-2):\n",
      "            #MyTime(start_time, 'enter loop3')\n",
      "            mmy_kernel = functools.partial(my_kernel_scipy, gamma=mygamma)\n",
      "            #MyTime(start_time, 'Partial func.')\n",
      "            mod = svm.SVR(kernel=mmy_kernel, epsilon=myepsilon, C=myc)\n",
      "            #MyTime(start_time, 'SVR model')\n",
      "            #print ('\\n\\n===========$\\epsilon$: %f, $C$: %f, $\\gamma$: %f===================' % (myepsilon, myc, mygamma))\n",
      "            res_eu, rsqin, rsq_out = MyRgrs(xin_stdzd#.ix[:, temp1]\n",
      "                                         , xout_stdzd#.ix[:, temp1]\n",
      "                                         , yin2, yout2, mod, align=True)"
     ],
     "language": "python",
     "metadata": {},
     "outputs": [
      {
       "output_type": "stream",
       "stream": "stdout",
       "text": [
        "(10448, 80) (10448, 80)\n",
        "(10448, 80)"
       ]
      },
      {
       "output_type": "stream",
       "stream": "stdout",
       "text": [
        " (10448, 80)\n",
        "(11609, 80)"
       ]
      },
      {
       "output_type": "stream",
       "stream": "stdout",
       "text": [
        " (10448, 80)\n"
       ]
      }
     ],
     "prompt_number": 146
    },
    {
     "cell_type": "code",
     "collapsed": false,
     "input": [
      "print timer1._time_list[-1]\n",
      "timer1.show()"
     ],
     "language": "python",
     "metadata": {},
     "outputs": [
      {
       "output_type": "stream",
       "stream": "stdout",
       "text": [
        "63.8748390675\n",
        "0.027 s for: regression preparation.\n",
        "8.163 s for: calculate dis.\n",
        "0.156 s for: /= 80.\n",
        "0.151 s for:  *= -gamma .\n",
        "3.478 s for:  exp .\n",
        "1.768 s for: fit.\n",
        "8.248 s for: calculate dis.\n",
        "0.150 s for: /= 80.\n",
        "0.164 s for:  *= -gamma .\n",
        "3.445 s for:  exp .\n",
        "0.255 s for: rsq_in calc.\n",
        "8.339 s for: calculate dis.\n",
        "0.177 s for: /= 80.\n",
        "0.197 s for:  *= -gamma .\n",
        "3.512 s for:  exp .\n",
        "0.276 s for: predict xin.\n",
        "17.021 s for: calculate dis.\n",
        "0.324 s for: /= 80.\n",
        "0.314 s for:  *= -gamma .\n",
        "7.177 s for:  exp .\n",
        "0.532 s for: rsq_out calc.\n",
        "0.000 s for: All in regression func.\n"
       ]
      }
     ],
     "prompt_number": 111
    },
    {
     "cell_type": "code",
     "collapsed": false,
     "input": [
      "print timer2._time_list[-1]\n",
      "timer2.show()"
     ],
     "language": "python",
     "metadata": {},
     "outputs": [
      {
       "output_type": "stream",
       "stream": "stdout",
       "text": [
        "29.3167819977\n",
        "0.028 s for: regression preparation.\n",
        "0.004 s for: set f.\n",
        "1.502 s for: calculate dis.\n",
        "0.154 s for: /= 80.\n",
        "0.151 s for:  *= -gamma .\n",
        "3.448 s for:  exp .\n",
        "1.997 s for: fit.\n",
        "0.005 s for: set f.\n",
        "1.328 s for: calculate dis.\n",
        "0.151 s for: /= 80.\n",
        "0.151 s for:  *= -gamma .\n",
        "3.446 s for:  exp .\n",
        "0.293 s for: rsq_in calc.\n",
        "0.004 s for: set f.\n",
        "1.335 s for: calculate dis.\n",
        "0.153 s for: /= 80.\n",
        "0.153 s for:  *= -gamma .\n",
        "3.457 s for:  exp .\n",
        "0.294 s for: predict xin.\n",
        "0.011 s for: set f.\n",
        "2.792 s for: calculate dis.\n",
        "0.316 s for: /= 80.\n",
        "0.313 s for:  *= -gamma .\n",
        "7.184 s for:  exp .\n",
        "0.648 s for: rsq_out calc.\n",
        "0.000 s for: All in regression func.\n"
       ]
      }
     ],
     "prompt_number": 110
    },
    {
     "cell_type": "code",
     "collapsed": false,
     "input": [],
     "language": "python",
     "metadata": {},
     "outputs": []
    },
    {
     "cell_type": "code",
     "collapsed": false,
     "input": [],
     "language": "python",
     "metadata": {},
     "outputs": []
    },
    {
     "cell_type": "markdown",
     "metadata": {},
     "source": [
      "# timeit playground"
     ]
    },
    {
     "cell_type": "code",
     "collapsed": false,
     "input": [
      "n_feature = 101\n",
      "a, b = np.random.rand(1283, n_feature), np.random.rand(1687, n_feature)\n",
      "myweight = np.random.rand(n_feature)"
     ],
     "language": "python",
     "metadata": {},
     "outputs": [],
     "prompt_number": 372
    },
    {
     "cell_type": "code",
     "collapsed": false,
     "input": [],
     "language": "python",
     "metadata": {},
     "outputs": [],
     "prompt_number": 373
    },
    {
     "cell_type": "code",
     "collapsed": false,
     "input": [
      "%timeit (pairwise.euclidean_distances(temp, temp))"
     ],
     "language": "python",
     "metadata": {},
     "outputs": [
      {
       "output_type": "stream",
       "stream": "stdout",
       "text": [
        "100 loops, best of 3: 7.84 ms per loop\n"
       ]
      }
     ],
     "prompt_number": 116
    },
    {
     "cell_type": "code",
     "collapsed": false,
     "input": [
      "%timeit (pairwise.manhattan_distances(temp, temp))"
     ],
     "language": "python",
     "metadata": {},
     "outputs": [
      {
       "output_type": "stream",
       "stream": "stdout",
       "text": [
        "10 loops, best of 3: 85.1 ms per loop\n"
       ]
      }
     ],
     "prompt_number": 119
    },
    {
     "cell_type": "code",
     "collapsed": false,
     "input": [
      "%timeit (distance.cdist(temp, temp, metric='euclidean'))"
     ],
     "language": "python",
     "metadata": {},
     "outputs": [
      {
       "output_type": "stream",
       "stream": "stdout",
       "text": [
        "10 loops, best of 3: 87.4 ms per loop\n"
       ]
      }
     ],
     "prompt_number": 120
    },
    {
     "cell_type": "code",
     "collapsed": false,
     "input": [
      "myweight = np.random.rand(80)"
     ],
     "language": "python",
     "metadata": {},
     "outputs": [],
     "prompt_number": 131
    },
    {
     "cell_type": "code",
     "collapsed": false,
     "input": [
      "%timeit temp1 = distance.cdist(temp, temp, metric='minkowski', p=1.5)"
     ],
     "language": "python",
     "metadata": {},
     "outputs": [
      {
       "output_type": "stream",
       "stream": "stdout",
       "text": [
        "1 loops, best of 3: 12.4 s per loop\n"
       ]
      }
     ],
     "prompt_number": 134
    },
    {
     "cell_type": "code",
     "collapsed": false,
     "input": [
      "%timeit temp1 = distance.cdist(temp, temp, metric='wminkowski', p=1.5, w=myweight)"
     ],
     "language": "python",
     "metadata": {},
     "outputs": [
      {
       "output_type": "stream",
       "stream": "stdout",
       "text": [
        "1 loops, best of 3: 26.1 s per loop\n"
       ]
      }
     ],
     "prompt_number": 123
    },
    {
     "cell_type": "code",
     "collapsed": false,
     "input": [
      "timer1 = MyTimeCLS()\n",
      "timer1.refresh('start')\n",
      "temp1 = distance.cdist(temp, temp, metric='minkowski', p=1.5)\n",
      "timer1.refresh('dist')\n",
      "timer1.show()"
     ],
     "language": "python",
     "metadata": {},
     "outputs": [
      {
       "output_type": "stream",
       "stream": "stdout",
       "text": [
        "0.000 s for: start.\n",
        "15.354 s for: dist.\n"
       ]
      }
     ],
     "prompt_number": 146
    },
    {
     "cell_type": "code",
     "collapsed": false,
     "input": [
      "timer1 = MyTimeCLS()\n",
      "timer1.refresh('start')\n",
      "temp2 = distance.cdist(temp, temp, metric='wminkowski', p=1.5, w=myweight)\n",
      "timer1.refresh('dist')\n",
      "timer1.show()"
     ],
     "language": "python",
     "metadata": {},
     "outputs": [
      {
       "output_type": "stream",
       "stream": "stdout",
       "text": [
        "0.000 s for: start.\n",
        "15.344 s for: dist.\n"
       ]
      }
     ],
     "prompt_number": 149
    },
    {
     "cell_type": "markdown",
     "metadata": {},
     "source": [
      "another way"
     ]
    },
    {
     "cell_type": "code",
     "collapsed": false,
     "input": [
      "timer1 = MyTimeCLS()\n",
      "timer1.refresh('start')\n",
      "temp *= myweight\n",
      "temp3 = distance.cdist(temp, temp, metric='minkowski', p=1.5)\n",
      "timer1.refresh('dist')\n",
      "timer1.show()"
     ],
     "language": "python",
     "metadata": {},
     "outputs": [
      {
       "output_type": "stream",
       "stream": "stdout",
       "text": [
        "0.000 s for: start.\n",
        "15.204 s for: dist.\n"
       ]
      }
     ],
     "prompt_number": 156
    },
    {
     "cell_type": "code",
     "collapsed": false,
     "input": [
      "temp2"
     ],
     "language": "python",
     "metadata": {},
     "outputs": [
      {
       "metadata": {},
       "output_type": "pyout",
       "prompt_number": 159,
       "text": [
        "array([[ 0.        ,  4.23849875,  4.30244052, ...,  4.23943752,\n",
        "         4.43685612,  3.96344131],\n",
        "       [ 4.23849875,  0.        ,  4.6172182 , ...,  4.5436439 ,\n",
        "         4.31411272,  4.29435462],\n",
        "       [ 4.30244052,  4.6172182 ,  0.        , ...,  4.12493838,\n",
        "         3.61471474,  3.84290533],\n",
        "       ..., \n",
        "       [ 4.23943752,  4.5436439 ,  4.12493838, ...,  0.        ,\n",
        "         3.43379686,  3.99392494],\n",
        "       [ 4.43685612,  4.31411272,  3.61471474, ...,  3.43379686,\n",
        "         0.        ,  3.99838261],\n",
        "       [ 3.96344131,  4.29435462,  3.84290533, ...,  3.99392494,\n",
        "         3.99838261,  0.        ]])"
       ]
      }
     ],
     "prompt_number": 159
    },
    {
     "cell_type": "code",
     "collapsed": false,
     "input": [
      "np.abs(temp2 - temp3).sum()"
     ],
     "language": "python",
     "metadata": {},
     "outputs": [
      {
       "metadata": {},
       "output_type": "pyout",
       "prompt_number": 162,
       "text": [
        "2.9693136838204737e-10"
       ]
      }
     ],
     "prompt_number": 162
    },
    {
     "cell_type": "code",
     "collapsed": false,
     "input": [],
     "language": "python",
     "metadata": {},
     "outputs": []
    },
    {
     "cell_type": "markdown",
     "metadata": {},
     "source": [
      "### profile tools"
     ]
    },
    {
     "cell_type": "code",
     "collapsed": false,
     "input": [
      "import cProfile, pstats, StringIO"
     ],
     "language": "python",
     "metadata": {},
     "outputs": [],
     "prompt_number": 164
    },
    {
     "cell_type": "code",
     "collapsed": false,
     "input": [
      "pr = cProfile.Profile()\n",
      "pr.enable()\n",
      "#---\n",
      "temp2 = distance.cdist(a, b, metric='wminkowski', p=3, w=myweight)\n",
      "#---\n",
      "pr.disable()\n",
      "s = StringIO.StringIO()\n",
      "sortby = 'cumulative'\n",
      "ps = pstats.Stats(pr, stream=s).sort_stats(sortby)\n",
      "ps.print_stats()\n",
      "print s.getvalue()"
     ],
     "language": "python",
     "metadata": {},
     "outputs": [
      {
       "output_type": "stream",
       "stream": "stdout",
       "text": [
        "         54 function calls in 31.220 seconds\n",
        "\n",
        "   Ordered by: cumulative time\n",
        "\n",
        "   ncalls  tottime  percall  cumtime  percall filename:lineno(function)\n",
        "        2    0.000    0.000   31.220   15.610 /usr/lib/python2.7/dist-packages/IPython/core/interactiveshell.py:2791(run_code)\n",
        "        1    0.000    0.000   31.219   31.219 <ipython-input-402-eaebc98915d6>:4(<module>)\n",
        "        1    0.000    0.000   31.219   31.219 /usr/local/lib/python2.7/dist-packages/scipy/spatial/distance.py:1744(cdist)\n",
        "        1   31.212   31.212   31.212   31.212 {scipy.spatial._distance_wrap.cdist_weighted_minkowski_wrap}\n",
        "        1    0.007    0.007    0.007    0.007 {numpy.core.multiarray.zeros}\n",
        "        2    0.000    0.000    0.000    0.000 /usr/lib/python2.7/codeop.py:132(__call__)\n",
        "        2    0.000    0.000    0.000    0.000 {compile}\n",
        "        2    0.000    0.000    0.000    0.000 /usr/local/lib/python2.7/dist-packages/scipy/spatial/distance.py:121(_copy_array_if_base_present)\n",
        "        2    0.000    0.000    0.000    0.000 /usr/local/lib/python2.7/dist-packages/numpy/core/numerictypes.py:698(issubsctype)\n",
        "        5    0.000    0.000    0.000    0.000 /usr/local/lib/python2.7/dist-packages/scipy/spatial/distance.py:141(_convert_to_double)\n",
        "        4    0.000    0.000    0.000    0.000 /usr/local/lib/python2.7/dist-packages/numpy/core/numerictypes.py:603(obj2sctype)\n",
        "        2    0.000    0.000    0.000    0.000 /usr/lib/python2.7/dist-packages/IPython/core/hooks.py:122(__call__)\n",
        "        2    0.000    0.000    0.000    0.000 /usr/local/lib/python2.7/dist-packages/numpy/core/numeric.py:414(asarray)\n",
        "        1    0.000    0.000    0.000    0.000 <ipython-input-402-eaebc98915d6>:6(<module>)\n",
        "        2    0.000    0.000    0.000    0.000 /usr/lib/python2.7/dist-packages/IPython/utils/ipstruct.py:125(__getattr__)\n",
        "        2    0.000    0.000    0.000    0.000 /usr/lib/python2.7/dist-packages/IPython/core/interactiveshell.py:1008(user_global_ns)\n",
        "        7    0.000    0.000    0.000    0.000 {isinstance}\n",
        "        2    0.000    0.000    0.000    0.000 {numpy.core.multiarray.array}\n",
        "        6    0.000    0.000    0.000    0.000 {issubclass}\n",
        "        2    0.000    0.000    0.000    0.000 /usr/lib/python2.7/dist-packages/IPython/core/hooks.py:202(pre_run_code_hook)\n",
        "        1    0.000    0.000    0.000    0.000 {callable}\n",
        "        2    0.000    0.000    0.000    0.000 {len}\n",
        "        1    0.000    0.000    0.000    0.000 {method 'lower' of 'str' objects}\n",
        "        1    0.000    0.000    0.000    0.000 {method 'disable' of '_lsprof.Profiler' objects}\n",
        "\n",
        "\n",
        "\n"
       ]
      }
     ],
     "prompt_number": 402
    },
    {
     "cell_type": "code",
     "collapsed": false,
     "input": [
      "pr = cProfile.Profile()\n",
      "pr.enable()\n",
      "#---\n",
      "a *= myweight\n",
      "b *= myweight\n",
      "temp3 = distance.cdist(a, b, metric='minkowski', p=1.5)\n",
      "#---\n",
      "pr.disable()\n",
      "s = StringIO.StringIO()\n",
      "sortby = 'cumulative'\n",
      "ps = pstats.Stats(pr, stream=s).sort_stats(sortby)\n",
      "ps.print_stats()\n",
      "print s.getvalue()"
     ],
     "language": "python",
     "metadata": {},
     "outputs": [
      {
       "output_type": "stream",
       "stream": "stdout",
       "text": [
        "         69 function calls in 76.827 seconds\n",
        "\n",
        "   Ordered by: cumulative time\n",
        "\n",
        "   ncalls  tottime  percall  cumtime  percall filename:lineno(function)\n",
        "        4    0.000    0.000   76.827   19.207 /usr/lib/python2.7/dist-packages/IPython/core/interactiveshell.py:2791(run_code)\n",
        "        1    0.000    0.000   76.824   76.824 <ipython-input-174-6d54f9679799>:6(<module>)\n",
        "        1    0.000    0.000   76.824   76.824 /usr/local/lib/python2.7/dist-packages/scipy/spatial/distance.py:1744(cdist)\n",
        "        1   76.824   76.824   76.824   76.824 {scipy.spatial._distance_wrap.cdist_minkowski_wrap}\n",
        "        1    0.001    0.001    0.001    0.001 <ipython-input-174-6d54f9679799>:4(<module>)\n",
        "        1    0.001    0.001    0.001    0.001 <ipython-input-174-6d54f9679799>:5(<module>)\n",
        "        4    0.000    0.000    0.000    0.000 /usr/lib/python2.7/codeop.py:132(__call__)\n",
        "        4    0.000    0.000    0.000    0.000 {compile}\n",
        "        2    0.000    0.000    0.000    0.000 /usr/local/lib/python2.7/dist-packages/scipy/spatial/distance.py:121(_copy_array_if_base_present)\n",
        "        2    0.000    0.000    0.000    0.000 /usr/local/lib/python2.7/dist-packages/numpy/core/numerictypes.py:698(issubsctype)\n",
        "        4    0.000    0.000    0.000    0.000 /usr/local/lib/python2.7/dist-packages/numpy/core/numerictypes.py:603(obj2sctype)\n",
        "        4    0.000    0.000    0.000    0.000 /usr/lib/python2.7/dist-packages/IPython/core/hooks.py:122(__call__)\n",
        "        4    0.000    0.000    0.000    0.000 /usr/local/lib/python2.7/dist-packages/scipy/spatial/distance.py:141(_convert_to_double)\n",
        "        1    0.000    0.000    0.000    0.000 {numpy.core.multiarray.zeros}\n",
        "        2    0.000    0.000    0.000    0.000 /usr/local/lib/python2.7/dist-packages/numpy/core/numeric.py:414(asarray)\n",
        "        4    0.000    0.000    0.000    0.000 /usr/lib/python2.7/dist-packages/IPython/utils/ipstruct.py:125(__getattr__)\n",
        "        4    0.000    0.000    0.000    0.000 /usr/lib/python2.7/dist-packages/IPython/core/interactiveshell.py:1008(user_global_ns)\n",
        "        1    0.000    0.000    0.000    0.000 <ipython-input-174-6d54f9679799>:8(<module>)\n",
        "        2    0.000    0.000    0.000    0.000 {numpy.core.multiarray.array}\n",
        "        6    0.000    0.000    0.000    0.000 {issubclass}\n",
        "        4    0.000    0.000    0.000    0.000 /usr/lib/python2.7/dist-packages/IPython/core/hooks.py:202(pre_run_code_hook)\n",
        "        7    0.000    0.000    0.000    0.000 {isinstance}\n",
        "        1    0.000    0.000    0.000    0.000 {method 'lower' of 'str' objects}\n",
        "        1    0.000    0.000    0.000    0.000 {method 'disable' of '_lsprof.Profiler' objects}\n",
        "        1    0.000    0.000    0.000    0.000 {callable}\n",
        "        2    0.000    0.000    0.000    0.000 {len}\n",
        "\n",
        "\n",
        "\n"
       ]
      }
     ],
     "prompt_number": 174
    },
    {
     "cell_type": "markdown",
     "metadata": {},
     "source": [
      "### mathematical perspective"
     ]
    },
    {
     "cell_type": "markdown",
     "metadata": {},
     "source": [
      "1-D scenario"
     ]
    },
    {
     "cell_type": "code",
     "collapsed": false,
     "input": [
      "a, b = np.arange(4), np.arange(1, 5)"
     ],
     "language": "python",
     "metadata": {},
     "outputs": [],
     "prompt_number": 175
    },
    {
     "cell_type": "code",
     "collapsed": false,
     "input": [
      "print a.shape, b.shape"
     ],
     "language": "python",
     "metadata": {},
     "outputs": [
      {
       "output_type": "stream",
       "stream": "stdout",
       "text": [
        "(4,) (4,)\n"
       ]
      }
     ],
     "prompt_number": 176
    },
    {
     "cell_type": "code",
     "collapsed": false,
     "input": [
      "c, d = a.reshape(-1, 1), b.reshape(1, -1)\n",
      "print c.shape, d.shape"
     ],
     "language": "python",
     "metadata": {},
     "outputs": [
      {
       "output_type": "stream",
       "stream": "stdout",
       "text": [
        "(4, 1) (1, 4)\n"
       ]
      }
     ],
     "prompt_number": 178
    },
    {
     "cell_type": "code",
     "collapsed": false,
     "input": [
      "c - d"
     ],
     "language": "python",
     "metadata": {},
     "outputs": [
      {
       "metadata": {},
       "output_type": "pyout",
       "prompt_number": 179,
       "text": [
        "array([[-1, -2, -3, -4],\n",
        "       [ 0, -1, -2, -3],\n",
        "       [ 1,  0, -1, -2],\n",
        "       [ 2,  1,  0, -1]])"
       ]
      }
     ],
     "prompt_number": 179
    },
    {
     "cell_type": "markdown",
     "metadata": {},
     "source": [
      "2-D scenario"
     ]
    },
    {
     "cell_type": "code",
     "collapsed": false,
     "input": [
      "n_feature = 77\n",
      "a, b =np.random.rand(330, n_feature), np.random.rand(440, n_feature)\n",
      "# a, b = np.round(a, 1), np.round(b, 1)\n",
      "myweight = np.random.rand(n_feature, 1, 1)\n",
      "print a.shape, b.shape, myweight.shape"
     ],
     "language": "python",
     "metadata": {},
     "outputs": [
      {
       "output_type": "stream",
       "stream": "stdout",
       "text": [
        "(330, 77) (440, 77) (77, 1, 1)\n"
       ]
      }
     ],
     "prompt_number": 360
    },
    {
     "cell_type": "code",
     "collapsed": false,
     "input": [
      "c, d = (a.T)[:, :, np.newaxis], (b.T)[:, np.newaxis, :]\n",
      "print c.shape, d.shape"
     ],
     "language": "python",
     "metadata": {},
     "outputs": [
      {
       "output_type": "stream",
       "stream": "stdout",
       "text": [
        "(77, 330, 1) (77, 1, 440)\n"
       ]
      }
     ],
     "prompt_number": 361
    },
    {
     "cell_type": "code",
     "collapsed": false,
     "input": [
      "e = c - d\n",
      "print e.shape"
     ],
     "language": "python",
     "metadata": {},
     "outputs": [
      {
       "output_type": "stream",
       "stream": "stdout",
       "text": [
        "(77, 330, 440)\n"
       ]
      }
     ],
     "prompt_number": 362
    },
    {
     "cell_type": "code",
     "collapsed": false,
     "input": [
      "g = e * myweight\n",
      "#print g"
     ],
     "language": "python",
     "metadata": {},
     "outputs": [],
     "prompt_number": 363
    },
    {
     "cell_type": "code",
     "collapsed": false,
     "input": [
      "#h = np.sum(np.abs(g), axis=0)\n",
      "h = np.sqrt(np.sum(g**2, axis=0))"
     ],
     "language": "python",
     "metadata": {},
     "outputs": [],
     "prompt_number": 364
    },
    {
     "cell_type": "code",
     "collapsed": false,
     "input": [
      "mdzz = distance.cdist(a, b, metric='wminkowski', \n",
      "                      p=2, w=myweight\n",
      "                      )"
     ],
     "language": "python",
     "metadata": {},
     "outputs": [],
     "prompt_number": 365
    },
    {
     "cell_type": "code",
     "collapsed": false,
     "input": [
      "np.abs(h-mdzz).sum()"
     ],
     "language": "python",
     "metadata": {},
     "outputs": [
      {
       "metadata": {},
       "output_type": "pyout",
       "prompt_number": 367,
       "text": [
        "2.8983482280864337e-11"
       ]
      }
     ],
     "prompt_number": 367
    },
    {
     "cell_type": "code",
     "collapsed": false,
     "input": [
      "mdzz.shape"
     ],
     "language": "python",
     "metadata": {},
     "outputs": [
      {
       "metadata": {},
       "output_type": "pyout",
       "prompt_number": 226,
       "text": [
        "(5, 6)"
       ]
      }
     ],
     "prompt_number": 226
    },
    {
     "cell_type": "code",
     "collapsed": false,
     "input": [],
     "language": "python",
     "metadata": {},
     "outputs": []
    },
    {
     "cell_type": "code",
     "collapsed": false,
     "input": [
      "c[0, 4, :] - d[0, :, 1]"
     ],
     "language": "python",
     "metadata": {},
     "outputs": [
      {
       "metadata": {},
       "output_type": "pyout",
       "prompt_number": 241,
       "text": [
        "array([ 0.27207679])"
       ]
      }
     ],
     "prompt_number": 241
    },
    {
     "cell_type": "code",
     "collapsed": false,
     "input": [
      "f[0,:,:]"
     ],
     "language": "python",
     "metadata": {},
     "outputs": [
      {
       "metadata": {},
       "output_type": "pyout",
       "prompt_number": 242,
       "text": [
        "array([[ 0.60494899,  0.1632261 ,  0.11540897,  0.63460453,  0.02465587,\n",
        "         0.26170082],\n",
        "       [ 0.61445864,  0.15371646,  0.12491861,  0.64411417,  0.03416552,\n",
        "         0.27121046],\n",
        "       [ 0.5900235 ,  0.1781516 ,  0.10048348,  0.61967904,  0.00973038,\n",
        "         0.24677533],\n",
        "       [ 0.04670862,  0.72146648,  0.4428314 ,  0.07636416,  0.5335845 ,\n",
        "         0.29653956],\n",
        "       [ 0.4960983 ,  0.27207679,  0.00655828,  0.52575384,  0.08419482,\n",
        "         0.15285013]])"
       ]
      }
     ],
     "prompt_number": 242
    },
    {
     "cell_type": "markdown",
     "metadata": {},
     "source": [
      "test it!"
     ]
    },
    {
     "cell_type": "code",
     "collapsed": false,
     "input": [
      "def mycdist(a, b, p, w):\n",
      "    w = w[np.newaxis, np.newaxis, :]\n",
      "    timer2.refresh('w newaxis')\n",
      "    c, d = a[:, np.newaxis, :], b[np.newaxis, :, :]\n",
      "    timer2.refresh('a,b newaxis')\n",
      "#     g = np.abs(c - d) * w\n",
      "    e = c - d\n",
      "    timer2.refresh('broad cast')\n",
      "    e *= w\n",
      "    timer2.refresh('mul weight')\n",
      "    e = np.abs(e)\n",
      "    timer2.refresh('ABS')\n",
      "    if p == 1:\n",
      "        h = np.sum(e, axis=2)\n",
      "        timer2.refresh('just sum')\n",
      "    elif p == 2:\n",
      "        h = np.sqrt(np.sum(e**p, axis=2))\n",
      "        timer2.refresh('shortcut')\n",
      "    else:\n",
      "        h = np.sqrt(np.sum(np.power(e, p), axis=2))\n",
      "        timer2.refresh('power func')\n",
      "    return h"
     ],
     "language": "python",
     "metadata": {},
     "outputs": [],
     "prompt_number": 95
    },
    {
     "cell_type": "code",
     "collapsed": false,
     "input": [
      "4096*2"
     ],
     "language": "python",
     "metadata": {},
     "outputs": [
      {
       "metadata": {},
       "output_type": "pyout",
       "prompt_number": 471,
       "text": [
        "8192"
       ]
      }
     ],
     "prompt_number": 471
    },
    {
     "cell_type": "code",
     "collapsed": false,
     "input": [
      "n_feature = 128\n",
      "a, b = np.random.rand(512, n_feature), np.random.rand(512, n_feature)\n",
      "myweight = np.random.rand(n_feature)"
     ],
     "language": "python",
     "metadata": {},
     "outputs": [],
     "prompt_number": 151
    },
    {
     "cell_type": "code",
     "collapsed": false,
     "input": [
      "timer1 = MyTimeCLS()\n",
      "timer1.refresh('start')\n",
      "c, d = a * myweight, b * myweight\n",
      "temp1 = pairwise.manhattan_distances(c, d)\n",
      "timer1.refresh('dist')\n",
      "timer1.show()"
     ],
     "language": "python",
     "metadata": {},
     "outputs": [
      {
       "output_type": "stream",
       "stream": "stdout",
       "text": [
        "0.0001 s for: start.\n",
        "1.6579 s for: dist.\n",
        "1.6580 s in total\n"
       ]
      }
     ],
     "prompt_number": 99
    },
    {
     "cell_type": "code",
     "collapsed": false,
     "input": [
      "for i in np.arange(.2, 10, .2):\n",
      "    print '\\n========{0}=========='.format(i)\n",
      "    timer3 = MyTimeCLS()\n",
      "    timer3.refresh('start')\n",
      "    temp3 = distance.cdist(a, b, metric='wminkowski', p=i, w=myweight)\n",
      "    timer3.refresh('dist')\n",
      "    timer3.show()"
     ],
     "language": "python",
     "metadata": {},
     "outputs": [
      {
       "output_type": "stream",
       "stream": "stdout",
       "text": [
        "\n",
        "========0.2==========\n",
        "0.0000 s for: start."
       ]
      },
      {
       "output_type": "stream",
       "stream": "stdout",
       "text": [
        "\n",
        "3.1877 s for: dist.\n",
        "3.1877 s in total\n",
        "\n",
        "========0.4==========\n",
        "0.0000 s for: start."
       ]
      },
      {
       "output_type": "stream",
       "stream": "stdout",
       "text": [
        "\n",
        "3.1482 s for: dist.\n",
        "3.1482 s in total\n",
        "\n",
        "========0.6==========\n",
        "0.0000 s for: start."
       ]
      },
      {
       "output_type": "stream",
       "stream": "stdout",
       "text": [
        "\n",
        "3.1428 s for: dist.\n",
        "3.1428 s in total\n",
        "\n",
        "========0.8==========\n",
        "0.0000 s for: start."
       ]
      },
      {
       "output_type": "stream",
       "stream": "stdout",
       "text": [
        "\n",
        "3.1446 s for: dist.\n",
        "3.1446 s in total\n",
        "\n",
        "========1.0==========\n",
        "0.0000 s for: start."
       ]
      },
      {
       "output_type": "stream",
       "stream": "stdout",
       "text": [
        "\n",
        "0.4080 s for: dist.\n",
        "0.4080 s in total\n",
        "\n",
        "========1.2==========\n",
        "0.0000 s for: start."
       ]
      },
      {
       "output_type": "stream",
       "stream": "stdout",
       "text": [
        "\n",
        "3.1440 s for: dist.\n",
        "3.1440 s in total\n",
        "\n",
        "========1.4==========\n",
        "0.0000 s for: start."
       ]
      },
      {
       "output_type": "stream",
       "stream": "stdout",
       "text": [
        "\n",
        "3.1433 s for: dist.\n",
        "3.1433 s in total\n",
        "\n",
        "========1.6==========\n",
        "0.0000 s for: start."
       ]
      },
      {
       "output_type": "stream",
       "stream": "stdout",
       "text": [
        "\n",
        "3.1461 s for: dist.\n",
        "3.1461 s in total\n",
        "\n",
        "========1.8==========\n",
        "0.0000 s for: start."
       ]
      },
      {
       "output_type": "stream",
       "stream": "stdout",
       "text": [
        "\n",
        "3.1593 s for: dist.\n",
        "3.1593 s in total\n",
        "\n",
        "========2.0==========\n",
        "0.0000 s for: start."
       ]
      },
      {
       "output_type": "stream",
       "stream": "stdout",
       "text": [
        "\n",
        "0.5154 s for: dist.\n",
        "0.5154 s in total\n",
        "\n",
        "========2.2==========\n",
        "0.0000 s for: start."
       ]
      },
      {
       "output_type": "stream",
       "stream": "stdout",
       "text": [
        "\n",
        "3.1486 s for: dist.\n",
        "3.1486 s in total\n",
        "\n",
        "========2.4==========\n",
        "0.0000 s for: start."
       ]
      },
      {
       "output_type": "stream",
       "stream": "stdout",
       "text": [
        "\n",
        "3.1540 s for: dist.\n",
        "3.1540 s in total\n",
        "\n",
        "========2.6==========\n",
        "0.0000 s for: start."
       ]
      },
      {
       "output_type": "stream",
       "stream": "stdout",
       "text": [
        "\n",
        "3.1559 s for: dist.\n",
        "3.1559 s in total\n",
        "\n",
        "========2.8==========\n",
        "0.0000 s for: start."
       ]
      },
      {
       "output_type": "stream",
       "stream": "stdout",
       "text": [
        "\n",
        "3.1508 s for: dist.\n",
        "3.1508 s in total\n",
        "\n",
        "========3.0==========\n",
        "0.0000 s for: start."
       ]
      },
      {
       "output_type": "stream",
       "stream": "stdout",
       "text": [
        "\n",
        "3.1679 s for: dist.\n",
        "3.1679 s in total\n",
        "\n",
        "========3.2==========\n",
        "0.0000 s for: start."
       ]
      },
      {
       "output_type": "stream",
       "stream": "stdout",
       "text": [
        "\n",
        "3.1621 s for: dist.\n",
        "3.1621 s in total\n",
        "\n",
        "========3.4==========\n",
        "0.0000 s for: start."
       ]
      },
      {
       "output_type": "stream",
       "stream": "stdout",
       "text": [
        "\n",
        "3.1587 s for: dist.\n",
        "3.1587 s in total\n",
        "\n",
        "========3.6==========\n",
        "0.0000 s for: start."
       ]
      },
      {
       "output_type": "stream",
       "stream": "stdout",
       "text": [
        "\n",
        "3.1744 s for: dist.\n",
        "3.1744 s in total\n",
        "\n",
        "========3.8==========\n",
        "0.0000 s for: start."
       ]
      },
      {
       "output_type": "stream",
       "stream": "stdout",
       "text": [
        "\n",
        "3.1732 s for: dist.\n",
        "3.1732 s in total\n",
        "\n",
        "========4.0==========\n",
        "0.0000 s for: start."
       ]
      },
      {
       "output_type": "stream",
       "stream": "stdout",
       "text": [
        "\n",
        "3.3083 s for: dist.\n",
        "3.3083 s in total\n",
        "\n",
        "========4.2==========\n",
        "0.0000 s for: start."
       ]
      },
      {
       "output_type": "stream",
       "stream": "stdout",
       "text": [
        "\n",
        "3.1748 s for: dist.\n",
        "3.1748 s in total\n",
        "\n",
        "========4.4==========\n",
        "0.0000 s for: start."
       ]
      },
      {
       "output_type": "stream",
       "stream": "stdout",
       "text": [
        "\n",
        "3.1802 s for: dist.\n",
        "3.1802 s in total\n",
        "\n",
        "========4.6==========\n",
        "0.0000 s for: start."
       ]
      },
      {
       "output_type": "stream",
       "stream": "stdout",
       "text": [
        "\n",
        "3.1805 s for: dist.\n",
        "3.1805 s in total\n",
        "\n",
        "========4.8==========\n",
        "0.0000 s for: start."
       ]
      },
      {
       "output_type": "stream",
       "stream": "stdout",
       "text": [
        "\n",
        "3.1766 s for: dist.\n",
        "3.1766 s in total\n",
        "\n",
        "========5.0==========\n",
        "0.0000 s for: start."
       ]
      },
      {
       "output_type": "stream",
       "stream": "stdout",
       "text": [
        "\n",
        "3.1920 s for: dist.\n",
        "3.1920 s in total\n",
        "\n",
        "========5.2==========\n",
        "0.0000 s for: start."
       ]
      },
      {
       "output_type": "stream",
       "stream": "stdout",
       "text": [
        "\n",
        "3.1890 s for: dist.\n",
        "3.1890 s in total\n",
        "\n",
        "========5.4==========\n",
        "0.0000 s for: start."
       ]
      },
      {
       "output_type": "stream",
       "stream": "stdout",
       "text": [
        "\n",
        "3.2122 s for: dist.\n",
        "3.2122 s in total\n",
        "\n",
        "========5.6==========\n",
        "0.0000 s for: start."
       ]
      },
      {
       "output_type": "stream",
       "stream": "stdout",
       "text": [
        "\n",
        "3.2003 s for: dist.\n",
        "3.2003 s in total\n",
        "\n",
        "========5.8==========\n",
        "0.0000 s for: start."
       ]
      },
      {
       "output_type": "stream",
       "stream": "stdout",
       "text": [
        "\n",
        "3.2060 s for: dist.\n",
        "3.2060 s in total\n",
        "\n",
        "========6.0==========\n",
        "0.0000 s for: start."
       ]
      },
      {
       "output_type": "stream",
       "stream": "stdout",
       "text": [
        "\n",
        "3.2084 s for: dist.\n",
        "3.2084 s in total\n",
        "\n",
        "========6.2==========\n",
        "0.0000 s for: start."
       ]
      },
      {
       "output_type": "stream",
       "stream": "stdout",
       "text": [
        "\n",
        "3.2122 s for: dist.\n",
        "3.2122 s in total\n",
        "\n",
        "========6.4==========\n",
        "0.0000 s for: start."
       ]
      },
      {
       "output_type": "stream",
       "stream": "stdout",
       "text": [
        "\n",
        "3.2175 s for: dist.\n",
        "3.2175 s in total\n",
        "\n",
        "========6.6==========\n",
        "0.0000 s for: start."
       ]
      },
      {
       "output_type": "stream",
       "stream": "stdout",
       "text": [
        "\n",
        "3.2209 s for: dist.\n",
        "3.2209 s in total\n",
        "\n",
        "========6.8==========\n",
        "0.0000 s for: start."
       ]
      },
      {
       "output_type": "stream",
       "stream": "stdout",
       "text": [
        "\n",
        "3.2158 s for: dist.\n",
        "3.2159 s in total\n",
        "\n",
        "========7.0==========\n",
        "0.0000 s for: start."
       ]
      },
      {
       "output_type": "stream",
       "stream": "stdout",
       "text": [
        "\n",
        "3.2143 s for: dist.\n",
        "3.2143 s in total\n",
        "\n",
        "========7.2==========\n",
        "0.0000 s for: start."
       ]
      },
      {
       "output_type": "stream",
       "stream": "stdout",
       "text": [
        "\n",
        "3.2278 s for: dist.\n",
        "3.2278 s in total\n",
        "\n",
        "========7.4==========\n",
        "0.0000 s for: start."
       ]
      },
      {
       "output_type": "stream",
       "stream": "stdout",
       "text": [
        "\n",
        "3.2276 s for: dist.\n",
        "3.2276 s in total\n",
        "\n",
        "========7.6==========\n",
        "0.0000 s for: start."
       ]
      },
      {
       "output_type": "stream",
       "stream": "stdout",
       "text": [
        "\n",
        "3.2271 s for: dist.\n",
        "3.2271 s in total\n",
        "\n",
        "========7.8==========\n",
        "0.0000 s for: start."
       ]
      },
      {
       "output_type": "stream",
       "stream": "stdout",
       "text": [
        "\n",
        "3.2380 s for: dist.\n",
        "3.2380 s in total\n",
        "\n",
        "========8.0==========\n",
        "0.0000 s for: start."
       ]
      },
      {
       "output_type": "stream",
       "stream": "stdout",
       "text": [
        "\n",
        "3.3592 s for: dist.\n",
        "3.3592 s in total\n",
        "\n",
        "========8.2==========\n",
        "0.0000 s for: start."
       ]
      },
      {
       "output_type": "stream",
       "stream": "stdout",
       "text": [
        "\n",
        "3.2871 s for: dist.\n",
        "3.2871 s in total\n",
        "\n",
        "========8.4==========\n",
        "0.0000 s for: start."
       ]
      },
      {
       "output_type": "stream",
       "stream": "stdout",
       "text": [
        "\n",
        "3.2520 s for: dist.\n",
        "3.2520 s in total\n",
        "\n",
        "========8.6==========\n",
        "0.0000 s for: start."
       ]
      },
      {
       "output_type": "stream",
       "stream": "stdout",
       "text": [
        "\n",
        "3.2474 s for: dist.\n",
        "3.2474 s in total\n",
        "\n",
        "========8.8==========\n",
        "0.0000 s for: start."
       ]
      },
      {
       "output_type": "stream",
       "stream": "stdout",
       "text": [
        "\n",
        "3.2588 s for: dist.\n",
        "3.2588 s in total\n",
        "\n",
        "========9.0==========\n",
        "0.0000 s for: start."
       ]
      },
      {
       "output_type": "stream",
       "stream": "stdout",
       "text": [
        "\n",
        "3.3609 s for: dist.\n",
        "3.3609 s in total\n",
        "\n",
        "========9.2==========\n",
        "0.0000 s for: start."
       ]
      },
      {
       "output_type": "stream",
       "stream": "stdout",
       "text": [
        "\n",
        "3.2668 s for: dist.\n",
        "3.2668 s in total\n",
        "\n",
        "========9.4==========\n",
        "0.0000 s for: start."
       ]
      },
      {
       "output_type": "stream",
       "stream": "stdout",
       "text": [
        "\n",
        "3.2580 s for: dist.\n",
        "3.2580 s in total\n",
        "\n",
        "========9.6==========\n",
        "0.0000 s for: start."
       ]
      },
      {
       "output_type": "stream",
       "stream": "stdout",
       "text": [
        "\n",
        "3.2626 s for: dist.\n",
        "3.2626 s in total\n",
        "\n",
        "========9.8==========\n",
        "0.0000 s for: start."
       ]
      },
      {
       "output_type": "stream",
       "stream": "stdout",
       "text": [
        "\n",
        "3.2577 s for: dist.\n",
        "3.2577 s in total\n"
       ]
      }
     ],
     "prompt_number": 157
    },
    {
     "cell_type": "code",
     "collapsed": false,
     "input": [
      "timer2 = MyTimeCLS()\n",
      "timer2.refresh('start')\n",
      "temp2 = mycdist(a, b, p=3, w=myweight)\n",
      "timer2.refresh('dist')\n",
      "timer2.show()"
     ],
     "language": "python",
     "metadata": {},
     "outputs": [
      {
       "output_type": "stream",
       "stream": "stdout",
       "text": [
        "0.0001 s for: start.\n",
        "0.0001 s for: w newaxis.\n",
        "0.0000 s for: a,b newaxis.\n",
        "8.1686 s for: broad cast.\n",
        "4.0428 s for: mul weight.\n",
        "6.4985 s for: ABS.\n",
        "217.2015 s for: power func.\n",
        "0.0624 s for: dist.\n",
        "235.9739 s in total\n"
       ]
      }
     ],
     "prompt_number": 101
    },
    {
     "cell_type": "code",
     "collapsed": false,
     "input": [
      "np.abs(temp2 -temp3).mean()"
     ],
     "language": "python",
     "metadata": {},
     "outputs": [
      {
       "metadata": {},
       "output_type": "pyout",
       "prompt_number": 91,
       "text": [
        "5.3035656150050956e-15"
       ]
      }
     ],
     "prompt_number": 91
    },
    {
     "cell_type": "code",
     "collapsed": false,
     "input": [
      "(temp3 -temp1) > 0"
     ],
     "language": "python",
     "metadata": {},
     "outputs": [
      {
       "metadata": {},
       "output_type": "pyout",
       "prompt_number": 66,
       "text": [
        "array([[False, False, False, ..., False, False, False],\n",
        "       [False, False, False, ..., False, False, False],\n",
        "       [False, False, False, ..., False, False, False],\n",
        "       ..., \n",
        "       [False, False, False, ..., False, False, False],\n",
        "       [False, False, False, ..., False, False, False],\n",
        "       [False, False, False, ..., False, False, False]], dtype=bool)"
       ]
      }
     ],
     "prompt_number": 66
    },
    {
     "cell_type": "code",
     "collapsed": false,
     "input": [],
     "language": "python",
     "metadata": {},
     "outputs": []
    },
    {
     "cell_type": "code",
     "collapsed": false,
     "input": [
      "temp = np.random.rand(3,4)"
     ],
     "language": "python",
     "metadata": {},
     "outputs": [],
     "prompt_number": 395
    },
    {
     "cell_type": "markdown",
     "metadata": {},
     "source": [
      "### matrix exponential"
     ]
    },
    {
     "cell_type": "code",
     "collapsed": false,
     "input": [
      "from scipy import linalg"
     ],
     "language": "python",
     "metadata": {},
     "outputs": [],
     "prompt_number": 459
    },
    {
     "cell_type": "code",
     "collapsed": false,
     "input": [
      "mat = np.random.rand(1234, 1234, 80)"
     ],
     "language": "python",
     "metadata": {},
     "outputs": [],
     "prompt_number": 464
    },
    {
     "cell_type": "code",
     "collapsed": false,
     "input": [
      "%timeit mat**2.579"
     ],
     "language": "python",
     "metadata": {},
     "outputs": [
      {
       "ename": "KeyboardInterrupt",
       "evalue": "",
       "output_type": "pyerr",
       "traceback": [
        "\u001b[0;31m---------------------------------------------------------------------------\u001b[0m\n\u001b[0;31mKeyboardInterrupt\u001b[0m                         Traceback (most recent call last)",
        "\u001b[0;32m<ipython-input-465-05110665da53>\u001b[0m in \u001b[0;36m<module>\u001b[0;34m()\u001b[0m\n\u001b[0;32m----> 1\u001b[0;31m \u001b[0mget_ipython\u001b[0m\u001b[0;34m(\u001b[0m\u001b[0;34m)\u001b[0m\u001b[0;34m.\u001b[0m\u001b[0mmagic\u001b[0m\u001b[0;34m(\u001b[0m\u001b[0;34mu'timeit mat**2.579'\u001b[0m\u001b[0;34m)\u001b[0m\u001b[0;34m\u001b[0m\u001b[0m\n\u001b[0m",
        "\u001b[0;32m/usr/lib/python2.7/dist-packages/IPython/core/interactiveshell.pyc\u001b[0m in \u001b[0;36mmagic\u001b[0;34m(self, arg_s)\u001b[0m\n\u001b[1;32m   2163\u001b[0m         \u001b[0mmagic_name\u001b[0m\u001b[0;34m,\u001b[0m \u001b[0m_\u001b[0m\u001b[0;34m,\u001b[0m \u001b[0mmagic_arg_s\u001b[0m \u001b[0;34m=\u001b[0m \u001b[0marg_s\u001b[0m\u001b[0;34m.\u001b[0m\u001b[0mpartition\u001b[0m\u001b[0;34m(\u001b[0m\u001b[0;34m' '\u001b[0m\u001b[0;34m)\u001b[0m\u001b[0;34m\u001b[0m\u001b[0m\n\u001b[1;32m   2164\u001b[0m         \u001b[0mmagic_name\u001b[0m \u001b[0;34m=\u001b[0m \u001b[0mmagic_name\u001b[0m\u001b[0;34m.\u001b[0m\u001b[0mlstrip\u001b[0m\u001b[0;34m(\u001b[0m\u001b[0mprefilter\u001b[0m\u001b[0;34m.\u001b[0m\u001b[0mESC_MAGIC\u001b[0m\u001b[0;34m)\u001b[0m\u001b[0;34m\u001b[0m\u001b[0m\n\u001b[0;32m-> 2165\u001b[0;31m         \u001b[0;32mreturn\u001b[0m \u001b[0mself\u001b[0m\u001b[0;34m.\u001b[0m\u001b[0mrun_line_magic\u001b[0m\u001b[0;34m(\u001b[0m\u001b[0mmagic_name\u001b[0m\u001b[0;34m,\u001b[0m \u001b[0mmagic_arg_s\u001b[0m\u001b[0;34m)\u001b[0m\u001b[0;34m\u001b[0m\u001b[0m\n\u001b[0m\u001b[1;32m   2166\u001b[0m \u001b[0;34m\u001b[0m\u001b[0m\n\u001b[1;32m   2167\u001b[0m     \u001b[0;31m#-------------------------------------------------------------------------\u001b[0m\u001b[0;34m\u001b[0m\u001b[0;34m\u001b[0m\u001b[0m\n",
        "\u001b[0;32m/usr/lib/python2.7/dist-packages/IPython/core/interactiveshell.pyc\u001b[0m in \u001b[0;36mrun_line_magic\u001b[0;34m(self, magic_name, line)\u001b[0m\n\u001b[1;32m   2084\u001b[0m                 \u001b[0mkwargs\u001b[0m\u001b[0;34m[\u001b[0m\u001b[0;34m'local_ns'\u001b[0m\u001b[0;34m]\u001b[0m \u001b[0;34m=\u001b[0m \u001b[0msys\u001b[0m\u001b[0;34m.\u001b[0m\u001b[0m_getframe\u001b[0m\u001b[0;34m(\u001b[0m\u001b[0mstack_depth\u001b[0m\u001b[0;34m)\u001b[0m\u001b[0;34m.\u001b[0m\u001b[0mf_locals\u001b[0m\u001b[0;34m\u001b[0m\u001b[0m\n\u001b[1;32m   2085\u001b[0m             \u001b[0;32mwith\u001b[0m \u001b[0mself\u001b[0m\u001b[0;34m.\u001b[0m\u001b[0mbuiltin_trap\u001b[0m\u001b[0;34m:\u001b[0m\u001b[0;34m\u001b[0m\u001b[0m\n\u001b[0;32m-> 2086\u001b[0;31m                 \u001b[0mresult\u001b[0m \u001b[0;34m=\u001b[0m \u001b[0mfn\u001b[0m\u001b[0;34m(\u001b[0m\u001b[0;34m*\u001b[0m\u001b[0margs\u001b[0m\u001b[0;34m,\u001b[0m\u001b[0;34m**\u001b[0m\u001b[0mkwargs\u001b[0m\u001b[0;34m)\u001b[0m\u001b[0;34m\u001b[0m\u001b[0m\n\u001b[0m\u001b[1;32m   2087\u001b[0m             \u001b[0;32mreturn\u001b[0m \u001b[0mresult\u001b[0m\u001b[0;34m\u001b[0m\u001b[0m\n\u001b[1;32m   2088\u001b[0m \u001b[0;34m\u001b[0m\u001b[0m\n",
        "\u001b[0;32m/usr/lib/python2.7/dist-packages/IPython/core/magics/execution.pyc\u001b[0m in \u001b[0;36mtimeit\u001b[0;34m(self, line, cell)\u001b[0m\n",
        "\u001b[0;32m/usr/lib/python2.7/dist-packages/IPython/core/magic.pyc\u001b[0m in \u001b[0;36m<lambda>\u001b[0;34m(f, *a, **k)\u001b[0m\n\u001b[1;32m    189\u001b[0m     \u001b[0;31m# but it's overkill for just that one bit of state.\u001b[0m\u001b[0;34m\u001b[0m\u001b[0;34m\u001b[0m\u001b[0m\n\u001b[1;32m    190\u001b[0m     \u001b[0;32mdef\u001b[0m \u001b[0mmagic_deco\u001b[0m\u001b[0;34m(\u001b[0m\u001b[0marg\u001b[0m\u001b[0;34m)\u001b[0m\u001b[0;34m:\u001b[0m\u001b[0;34m\u001b[0m\u001b[0m\n\u001b[0;32m--> 191\u001b[0;31m         \u001b[0mcall\u001b[0m \u001b[0;34m=\u001b[0m \u001b[0;32mlambda\u001b[0m \u001b[0mf\u001b[0m\u001b[0;34m,\u001b[0m \u001b[0;34m*\u001b[0m\u001b[0ma\u001b[0m\u001b[0;34m,\u001b[0m \u001b[0;34m**\u001b[0m\u001b[0mk\u001b[0m\u001b[0;34m:\u001b[0m \u001b[0mf\u001b[0m\u001b[0;34m(\u001b[0m\u001b[0;34m*\u001b[0m\u001b[0ma\u001b[0m\u001b[0;34m,\u001b[0m \u001b[0;34m**\u001b[0m\u001b[0mk\u001b[0m\u001b[0;34m)\u001b[0m\u001b[0;34m\u001b[0m\u001b[0m\n\u001b[0m\u001b[1;32m    192\u001b[0m \u001b[0;34m\u001b[0m\u001b[0m\n\u001b[1;32m    193\u001b[0m         \u001b[0;32mif\u001b[0m \u001b[0mcallable\u001b[0m\u001b[0;34m(\u001b[0m\u001b[0marg\u001b[0m\u001b[0;34m)\u001b[0m\u001b[0;34m:\u001b[0m\u001b[0;34m\u001b[0m\u001b[0m\n",
        "\u001b[0;32m/usr/lib/python2.7/dist-packages/IPython/core/magics/execution.pyc\u001b[0m in \u001b[0;36mtimeit\u001b[0;34m(self, line, cell)\u001b[0m\n\u001b[1;32m    933\u001b[0m                 \u001b[0mnumber\u001b[0m \u001b[0;34m*=\u001b[0m \u001b[0;36m10\u001b[0m\u001b[0;34m\u001b[0m\u001b[0m\n\u001b[1;32m    934\u001b[0m \u001b[0;34m\u001b[0m\u001b[0m\n\u001b[0;32m--> 935\u001b[0;31m         \u001b[0mbest\u001b[0m \u001b[0;34m=\u001b[0m \u001b[0mmin\u001b[0m\u001b[0;34m(\u001b[0m\u001b[0mtimer\u001b[0m\u001b[0;34m.\u001b[0m\u001b[0mrepeat\u001b[0m\u001b[0;34m(\u001b[0m\u001b[0mrepeat\u001b[0m\u001b[0;34m,\u001b[0m \u001b[0mnumber\u001b[0m\u001b[0;34m)\u001b[0m\u001b[0;34m)\u001b[0m \u001b[0;34m/\u001b[0m \u001b[0mnumber\u001b[0m\u001b[0;34m\u001b[0m\u001b[0m\n\u001b[0m\u001b[1;32m    936\u001b[0m \u001b[0;34m\u001b[0m\u001b[0m\n\u001b[1;32m    937\u001b[0m         print u\"%d loops, best of %d: %s per loop\" % (number, repeat,\n",
        "\u001b[0;32m/usr/lib/python2.7/timeit.pyc\u001b[0m in \u001b[0;36mrepeat\u001b[0;34m(self, repeat, number)\u001b[0m\n\u001b[1;32m    221\u001b[0m         \u001b[0mr\u001b[0m \u001b[0;34m=\u001b[0m \u001b[0;34m[\u001b[0m\u001b[0;34m]\u001b[0m\u001b[0;34m\u001b[0m\u001b[0m\n\u001b[1;32m    222\u001b[0m         \u001b[0;32mfor\u001b[0m \u001b[0mi\u001b[0m \u001b[0;32min\u001b[0m \u001b[0mrange\u001b[0m\u001b[0;34m(\u001b[0m\u001b[0mrepeat\u001b[0m\u001b[0;34m)\u001b[0m\u001b[0;34m:\u001b[0m\u001b[0;34m\u001b[0m\u001b[0m\n\u001b[0;32m--> 223\u001b[0;31m             \u001b[0mt\u001b[0m \u001b[0;34m=\u001b[0m \u001b[0mself\u001b[0m\u001b[0;34m.\u001b[0m\u001b[0mtimeit\u001b[0m\u001b[0;34m(\u001b[0m\u001b[0mnumber\u001b[0m\u001b[0;34m)\u001b[0m\u001b[0;34m\u001b[0m\u001b[0m\n\u001b[0m\u001b[1;32m    224\u001b[0m             \u001b[0mr\u001b[0m\u001b[0;34m.\u001b[0m\u001b[0mappend\u001b[0m\u001b[0;34m(\u001b[0m\u001b[0mt\u001b[0m\u001b[0;34m)\u001b[0m\u001b[0;34m\u001b[0m\u001b[0m\n\u001b[1;32m    225\u001b[0m         \u001b[0;32mreturn\u001b[0m \u001b[0mr\u001b[0m\u001b[0;34m\u001b[0m\u001b[0m\n",
        "\u001b[0;32m/usr/lib/python2.7/timeit.pyc\u001b[0m in \u001b[0;36mtimeit\u001b[0;34m(self, number)\u001b[0m\n\u001b[1;32m    193\u001b[0m         \u001b[0mgc\u001b[0m\u001b[0;34m.\u001b[0m\u001b[0mdisable\u001b[0m\u001b[0;34m(\u001b[0m\u001b[0;34m)\u001b[0m\u001b[0;34m\u001b[0m\u001b[0m\n\u001b[1;32m    194\u001b[0m         \u001b[0;32mtry\u001b[0m\u001b[0;34m:\u001b[0m\u001b[0;34m\u001b[0m\u001b[0m\n\u001b[0;32m--> 195\u001b[0;31m             \u001b[0mtiming\u001b[0m \u001b[0;34m=\u001b[0m \u001b[0mself\u001b[0m\u001b[0;34m.\u001b[0m\u001b[0minner\u001b[0m\u001b[0;34m(\u001b[0m\u001b[0mit\u001b[0m\u001b[0;34m,\u001b[0m \u001b[0mself\u001b[0m\u001b[0;34m.\u001b[0m\u001b[0mtimer\u001b[0m\u001b[0;34m)\u001b[0m\u001b[0;34m\u001b[0m\u001b[0m\n\u001b[0m\u001b[1;32m    196\u001b[0m         \u001b[0;32mfinally\u001b[0m\u001b[0;34m:\u001b[0m\u001b[0;34m\u001b[0m\u001b[0m\n\u001b[1;32m    197\u001b[0m             \u001b[0;32mif\u001b[0m \u001b[0mgcold\u001b[0m\u001b[0;34m:\u001b[0m\u001b[0;34m\u001b[0m\u001b[0m\n",
        "\u001b[0;32m<magic-timeit>\u001b[0m in \u001b[0;36minner\u001b[0;34m(_it, _timer)\u001b[0m\n",
        "\u001b[0;31mKeyboardInterrupt\u001b[0m: "
       ]
      }
     ],
     "prompt_number": 465
    },
    {
     "cell_type": "code",
     "collapsed": false,
     "input": [
      "%timeit np.power(mat, 2.579)"
     ],
     "language": "python",
     "metadata": {},
     "outputs": [
      {
       "output_type": "stream",
       "stream": "stdout",
       "text": [
        "1 loops, best of 3: 11.7 s per loop\n"
       ]
      }
     ],
     "prompt_number": 469
    }
   ],
   "metadata": {}
  }
 ]
}