{
 "metadata": {
  "name": ""
 },
 "nbformat": 3,
 "nbformat_minor": 0,
 "worksheets": [
  {
   "cells": [
    {
     "cell_type": "code",
     "collapsed": false,
     "input": [
      "from sys import path"
     ],
     "language": "python",
     "metadata": {},
     "outputs": [],
     "prompt_number": 1
    },
    {
     "cell_type": "code",
     "collapsed": false,
     "input": [
      "path.append('/home/bingnan/ecworkspace/HFT1')"
     ],
     "language": "python",
     "metadata": {},
     "outputs": [],
     "prompt_number": 2
    },
    {
     "cell_type": "code",
     "collapsed": false,
     "input": [
      "from Initialize_module_part import *"
     ],
     "language": "python",
     "metadata": {},
     "outputs": [],
     "prompt_number": 3
    },
    {
     "cell_type": "code",
     "collapsed": false,
     "input": [
      "from MyOLS import *"
     ],
     "language": "python",
     "metadata": {},
     "outputs": [],
     "prompt_number": 4
    },
    {
     "cell_type": "code",
     "collapsed": false,
     "input": [
      "%matplotlib inline"
     ],
     "language": "python",
     "metadata": {},
     "outputs": [],
     "prompt_number": 5
    },
    {
     "cell_type": "code",
     "collapsed": false,
     "input": [
      "# Style. 1\n",
      "sns.set_context('paper')\n",
      "sns.set_style(\"darkgrid\")\n"
     ],
     "language": "python",
     "metadata": {},
     "outputs": [],
     "prompt_number": 6
    },
    {
     "cell_type": "code",
     "collapsed": false,
     "input": [
      "# Style. 2\n",
      "sns.set_context('paper')\n",
      "sns.set_style(\"dark\", \n",
      "    rc={'axes.facecolor': 'black', \n",
      "    'grid.color': 'red', \n",
      "    'grid.linestyle': '--', \n",
      "    'figure.facecolor': 'grey'})"
     ],
     "language": "python",
     "metadata": {},
     "outputs": [],
     "prompt_number": 7
    },
    {
     "cell_type": "code",
     "collapsed": false,
     "input": [
      "hft = pd.read_hdf('/home/bingnan/HFT_SR_RM_MA_TA.hdf')"
     ],
     "language": "python",
     "metadata": {},
     "outputs": [
      {
       "output_type": "stream",
       "stream": "stderr",
       "text": [
        "/usr/lib/python2.7/dist-packages/tables/leaf.py:392: PerformanceWarning: The Leaf ``/HFT/block0_values`` is exceeding the maximum recommended rowsize (104857600 bytes);\n",
        "be ready to see PyTables asking for *lots* of memory and possibly slow\n",
        "I/O.  You may want to reduce the rowsize by trimming the value of\n",
        "dimensions that are orthogonal (and preferably close) to the *main*\n",
        "dimension of this leave.  Alternatively, in case you have specified a\n",
        "very small/large chunksize, you may want to increase/decrease it.\n",
        "  PerformanceWarning)\n"
       ]
      }
     ],
     "prompt_number": 8
    },
    {
     "cell_type": "code",
     "collapsed": false,
     "input": [
      "ta = hft.minor_xs('TA0001')"
     ],
     "language": "python",
     "metadata": {},
     "outputs": [],
     "prompt_number": 11
    },
    {
     "cell_type": "code",
     "collapsed": false,
     "input": [
      "ta = AddCol(ta)\n"
     ],
     "language": "python",
     "metadata": {},
     "outputs": [],
     "prompt_number": 12
    },
    {
     "cell_type": "code",
     "collapsed": false,
     "input": [
      "ta_pm = GiveMePM(ta, nforward=60, nbackward=100, lim=[0, 30], cutdepth=0, norm=False, high_var_length=200)"
     ],
     "language": "python",
     "metadata": {},
     "outputs": [],
     "prompt_number": 13
    },
    {
     "cell_type": "code",
     "collapsed": false,
     "input": [
      "plt.plot(ta_pm)"
     ],
     "language": "python",
     "metadata": {},
     "outputs": [
      {
       "metadata": {},
       "output_type": "pyout",
       "prompt_number": 66,
       "text": [
        "[<matplotlib.lines.Line2D at 0x7f8369f3e690>]"
       ]
      },
      {
       "metadata": {},
       "output_type": "display_data",
       "png": "[encoded data removed]",
       "text": [
        "<matplotlib.figure.Figure at 0x7f8369fde290>"
       ]
      }
     ],
     "prompt_number": 66
    },
    {
     "cell_type": "code",
     "collapsed": false,
     "input": [
      "def MyMA(ser, method='ewm', length=30):\n",
      "    if method == 'ewm':\n",
      "        r = ser.ewm(halflife=length)\n",
      "    elif method == 'sma':\n",
      "        r = ser.rolling(window=length)\n",
      "    ret = r.mean()\n",
      "    #ret.name = ret.name + '_MA'\n",
      "    return ret"
     ],
     "language": "python",
     "metadata": {},
     "outputs": [],
     "prompt_number": 46
    },
    {
     "cell_type": "markdown",
     "metadata": {},
     "source": [
      "# better way"
     ]
    },
    {
     "cell_type": "code",
     "collapsed": false,
     "input": [
      "def QtyLogDiffMean(df, halfwindow=15, method='ewma'):\n",
      "    '''\n",
      "    mean_arr:\n",
      "    row 0 is keys\n",
      "    row 1 are mean Qty\n",
      "    '''\n",
      "    df2 = np.log(df)\n",
      "    df2 = df2.diff()\n",
      "    if df2.ndim > 1:\n",
      "        df2 = df2.mean(axis=1, skipna=True)\n",
      "    if method == 'ewma':\n",
      "        roll = df2.ewm(halflife=halfwindow)\n",
      "    elif method == 'sma':\n",
      "        roll = df2.rolling(window=halfwindow)\n",
      "    else:\n",
      "        print 'ERROR!'\n",
      "    indicator = roll.mean()\n",
      "    return indicator"
     ],
     "language": "python",
     "metadata": {},
     "outputs": [],
     "prompt_number": 15
    },
    {
     "cell_type": "code",
     "collapsed": false,
     "input": [
      "#--------------------------------------------------------------------------------------------\n",
      "def GetQty2(samp, b=True, depth=5):\n",
      "    '''\n",
      "    input data of a window length\n",
      "    return a dict, whose keys are bid/ask price, values are bid/ask Qty\n",
      "    b: True for bidQty, False for askQty\n",
      "    '''\n",
      "    if b:\n",
      "        s1 = 'bid'\n",
      "    else:\n",
      "        s1 = 'ask'\n",
      "    cols = (s1+'Prc', s1+'Qty')\n",
      "    df_PrcQty_all = pd.DataFrame(data=None, index=None, columns=cols)\n",
      "    df_arr = []\n",
      "    for i in range(depth):\n",
      "        s2 = s1 + 'Prc_' + str(i)\n",
      "        s3 = s1 + 'Qty_' + str(i)\n",
      "        df_PrcQty = samp.ix[:, [s2, s3]]\n",
      "        df_PrcQty.columns = cols\n",
      "        df_arr.append(df_PrcQty)\n",
      "    df_PrcQty_all = pd.concat(df_arr, axis=0, join='outer')\n",
      "\n",
      "    grouped = df_PrcQty_all.groupby(cols[0])\n",
      "    ############## only for counting\n",
      "    n = grouped.ngroups\n",
      "    count = 0\n",
      "    ############## only for counting\n",
      "    sers = []\n",
      "#     ret = pd.DataFrame(data=None, index=samp.index, \n",
      "#                        #columns=grouped.groups.keys()\n",
      "#                        )\n",
      "    for name, group in grouped:\n",
      "        if name == 0.:\n",
      "            continue\n",
      "        ser = group.ix[:, cols[1]]\n",
      "        ser.name = name\n",
      "        ser = ser.sort_index(axis=0)\n",
      "        ############## only for counting\n",
      "        count += 1\n",
      "        #print ('\\n------  %d / %d ------' % (count, n))\n",
      "        ############## only for counting\n",
      "        #ret[name] = ser\n",
      "        ####ret = ret.join(ser)\n",
      "        sers.append(ser)\n",
      "    ret = pd.DataFrame(data=sers)\n",
      "    print '!!!'\n",
      "    ret = ret.reindex_axis(sorted(ret.columns), axis=1)\n",
      "    return ret"
     ],
     "language": "python",
     "metadata": {},
     "outputs": [],
     "prompt_number": 16
    },
    {
     "cell_type": "markdown",
     "metadata": {},
     "source": [
      "# Consider every day, calculate indicator for every day length then concate them"
     ]
    },
    {
     "cell_type": "code",
     "collapsed": false,
     "input": [
      "mywind = 15"
     ],
     "language": "python",
     "metadata": {},
     "outputs": [],
     "prompt_number": 19
    },
    {
     "cell_type": "code",
     "collapsed": false,
     "input": [
      "def QtyDiffLog(df):\n",
      "    mydiff = df.diff(axis=0)\n",
      "    logscale = np.sign(mydiff) * np.log(np.abs(mydiff) + 1) # minimum is 1, so no need to add 1.\n",
      "    mymean = logscale.mean(axis=1)\n",
      "    return mymean"
     ],
     "language": "python",
     "metadata": {},
     "outputs": [],
     "prompt_number": 59
    },
    {
     "cell_type": "code",
     "collapsed": false,
     "input": [
      "temp = bidask.diff()"
     ],
     "language": "python",
     "metadata": {},
     "outputs": [],
     "prompt_number": 28
    },
    {
     "cell_type": "code",
     "collapsed": false,
     "input": [
      "temp1 = temp.values.flatten()"
     ],
     "language": "python",
     "metadata": {},
     "outputs": [],
     "prompt_number": 29
    },
    {
     "cell_type": "code",
     "collapsed": false,
     "input": [
      "temp2 = temp1[np.logical_not(np.isnan(temp1))]"
     ],
     "language": "python",
     "metadata": {},
     "outputs": [],
     "prompt_number": 35
    },
    {
     "cell_type": "code",
     "collapsed": false,
     "input": [
      "plt.plot(temp2)"
     ],
     "language": "python",
     "metadata": {},
     "outputs": [
      {
       "metadata": {},
       "output_type": "pyout",
       "prompt_number": 38,
       "text": [
        "[<matplotlib.lines.Line2D at 0x7f612bf286d0>]"
       ]
      },
      {
       "metadata": {},
       "output_type": "display_data",
       "png": "[encoded data removed]",
       "text": [
        "<matplotlib.figure.Figure at 0x7f61300b4b50>"
       ]
      }
     ],
     "prompt_number": 38
    },
    {
     "cell_type": "code",
     "collapsed": false,
     "input": [
      "plt.hist(temp2, bins=np.linspace(-10, 10, 400))"
     ],
     "language": "python",
     "metadata": {},
     "outputs": [
      {
       "metadata": {},
       "output_type": "pyout",
       "prompt_number": 41,
       "text": [
        "(array([  1.51300000e+03,   0.00000000e+00,   0.00000000e+00,\n",
        "         0.00000000e+00,   0.00000000e+00,   0.00000000e+00,\n",
        "         0.00000000e+00,   0.00000000e+00,   0.00000000e+00,\n",
        "         0.00000000e+00,   0.00000000e+00,   0.00000000e+00,\n",
        "         0.00000000e+00,   0.00000000e+00,   0.00000000e+00,\n",
        "         0.00000000e+00,   0.00000000e+00,   0.00000000e+00,\n",
        "         0.00000000e+00,   2.51000000e+02,   0.00000000e+00,\n",
        "         0.00000000e+00,   0.00000000e+00,   0.00000000e+00,\n",
        "         0.00000000e+00,   0.00000000e+00,   0.00000000e+00,\n",
        "         0.00000000e+00,   0.00000000e+00,   0.00000000e+00,\n",
        "         0.00000000e+00,   0.00000000e+00,   0.00000000e+00,\n",
        "         0.00000000e+00,   0.00000000e+00,   0.00000000e+00,\n",
        "         0.00000000e+00,   0.00000000e+00,   0.00000000e+00,\n",
        "         3.52000000e+02,   0.00000000e+00,   0.00000000e+00,\n",
        "         0.00000000e+00,   0.00000000e+00,   0.00000000e+00,\n",
        "         0.00000000e+00,   0.00000000e+00,   0.00000000e+00,\n",
        "         0.00000000e+00,   0.00000000e+00,   0.00000000e+00,\n",
        "         0.00000000e+00,   0.00000000e+00,   0.00000000e+00,\n",
        "         0.00000000e+00,   0.00000000e+00,   0.00000000e+00,\n",
        "         0.00000000e+00,   0.00000000e+00,   3.30000000e+02,\n",
        "         0.00000000e+00,   0.00000000e+00,   0.00000000e+00,\n",
        "         0.00000000e+00,   0.00000000e+00,   0.00000000e+00,\n",
        "         0.00000000e+00,   0.00000000e+00,   0.00000000e+00,\n",
        "         0.00000000e+00,   0.00000000e+00,   0.00000000e+00,\n",
        "         0.00000000e+00,   0.00000000e+00,   0.00000000e+00,\n",
        "         0.00000000e+00,   0.00000000e+00,   0.00000000e+00,\n",
        "         0.00000000e+00,   6.04000000e+02,   0.00000000e+00,\n",
        "         0.00000000e+00,   0.00000000e+00,   0.00000000e+00,\n",
        "         0.00000000e+00,   0.00000000e+00,   0.00000000e+00,\n",
        "         0.00000000e+00,   0.00000000e+00,   0.00000000e+00,\n",
        "         0.00000000e+00,   0.00000000e+00,   0.00000000e+00,\n",
        "         0.00000000e+00,   0.00000000e+00,   0.00000000e+00,\n",
        "         0.00000000e+00,   0.00000000e+00,   0.00000000e+00,\n",
        "         1.87400000e+03,   0.00000000e+00,   0.00000000e+00,\n",
        "         0.00000000e+00,   0.00000000e+00,   0.00000000e+00,\n",
        "         0.00000000e+00,   0.00000000e+00,   0.00000000e+00,\n",
        "         0.00000000e+00,   0.00000000e+00,   0.00000000e+00,\n",
        "         0.00000000e+00,   0.00000000e+00,   0.00000000e+00,\n",
        "         0.00000000e+00,   0.00000000e+00,   0.00000000e+00,\n",
        "         0.00000000e+00,   0.00000000e+00,   1.01100000e+03,\n",
        "         0.00000000e+00,   0.00000000e+00,   0.00000000e+00,\n",
        "         0.00000000e+00,   0.00000000e+00,   0.00000000e+00,\n",
        "         0.00000000e+00,   0.00000000e+00,   0.00000000e+00,\n",
        "         0.00000000e+00,   0.00000000e+00,   0.00000000e+00,\n",
        "         0.00000000e+00,   0.00000000e+00,   0.00000000e+00,\n",
        "         0.00000000e+00,   0.00000000e+00,   0.00000000e+00,\n",
        "         0.00000000e+00,   1.47700000e+03,   0.00000000e+00,\n",
        "         0.00000000e+00,   0.00000000e+00,   0.00000000e+00,\n",
        "         0.00000000e+00,   0.00000000e+00,   0.00000000e+00,\n",
        "         0.00000000e+00,   0.00000000e+00,   0.00000000e+00,\n",
        "         0.00000000e+00,   0.00000000e+00,   0.00000000e+00,\n",
        "         0.00000000e+00,   0.00000000e+00,   0.00000000e+00,\n",
        "         0.00000000e+00,   0.00000000e+00,   0.00000000e+00,\n",
        "         3.65500000e+03,   0.00000000e+00,   0.00000000e+00,\n",
        "         0.00000000e+00,   0.00000000e+00,   0.00000000e+00,\n",
        "         0.00000000e+00,   0.00000000e+00,   0.00000000e+00,\n",
        "         0.00000000e+00,   0.00000000e+00,   0.00000000e+00,\n",
        "         0.00000000e+00,   0.00000000e+00,   0.00000000e+00,\n",
        "         0.00000000e+00,   0.00000000e+00,   0.00000000e+00,\n",
        "         0.00000000e+00,   0.00000000e+00,   1.08480000e+04,\n",
        "         0.00000000e+00,   0.00000000e+00,   0.00000000e+00,\n",
        "         0.00000000e+00,   0.00000000e+00,   0.00000000e+00,\n",
        "         0.00000000e+00,   0.00000000e+00,   0.00000000e+00,\n",
        "         0.00000000e+00,   0.00000000e+00,   0.00000000e+00,\n",
        "         0.00000000e+00,   0.00000000e+00,   0.00000000e+00,\n",
        "         0.00000000e+00,   0.00000000e+00,   0.00000000e+00,\n",
        "         0.00000000e+00,   4.81704000e+05,   0.00000000e+00,\n",
        "         0.00000000e+00,   0.00000000e+00,   0.00000000e+00,\n",
        "         0.00000000e+00,   0.00000000e+00,   0.00000000e+00,\n",
        "         0.00000000e+00,   0.00000000e+00,   0.00000000e+00,\n",
        "         0.00000000e+00,   0.00000000e+00,   0.00000000e+00,\n",
        "         0.00000000e+00,   0.00000000e+00,   0.00000000e+00,\n",
        "         0.00000000e+00,   0.00000000e+00,   0.00000000e+00,\n",
        "         1.14920000e+04,   0.00000000e+00,   0.00000000e+00,\n",
        "         0.00000000e+00,   0.00000000e+00,   0.00000000e+00,\n",
        "         0.00000000e+00,   0.00000000e+00,   0.00000000e+00,\n",
        "         0.00000000e+00,   0.00000000e+00,   0.00000000e+00,\n",
        "         0.00000000e+00,   0.00000000e+00,   0.00000000e+00,\n",
        "         0.00000000e+00,   0.00000000e+00,   0.00000000e+00,\n",
        "         0.00000000e+00,   0.00000000e+00,   4.06500000e+03,\n",
        "         0.00000000e+00,   0.00000000e+00,   0.00000000e+00,\n",
        "         0.00000000e+00,   0.00000000e+00,   0.00000000e+00,\n",
        "         0.00000000e+00,   0.00000000e+00,   0.00000000e+00,\n",
        "         0.00000000e+00,   0.00000000e+00,   0.00000000e+00,\n",
        "         0.00000000e+00,   0.00000000e+00,   0.00000000e+00,\n",
        "         0.00000000e+00,   0.00000000e+00,   0.00000000e+00,\n",
        "         0.00000000e+00,   1.55700000e+03,   0.00000000e+00,\n",
        "         0.00000000e+00,   0.00000000e+00,   0.00000000e+00,\n",
        "         0.00000000e+00,   0.00000000e+00,   0.00000000e+00,\n",
        "         0.00000000e+00,   0.00000000e+00,   0.00000000e+00,\n",
        "         0.00000000e+00,   0.00000000e+00,   0.00000000e+00,\n",
        "         0.00000000e+00,   0.00000000e+00,   0.00000000e+00,\n",
        "         0.00000000e+00,   0.00000000e+00,   0.00000000e+00,\n",
        "         1.13300000e+03,   0.00000000e+00,   0.00000000e+00,\n",
        "         0.00000000e+00,   0.00000000e+00,   0.00000000e+00,\n",
        "         0.00000000e+00,   0.00000000e+00,   0.00000000e+00,\n",
        "         0.00000000e+00,   0.00000000e+00,   0.00000000e+00,\n",
        "         0.00000000e+00,   0.00000000e+00,   0.00000000e+00,\n",
        "         0.00000000e+00,   0.00000000e+00,   0.00000000e+00,\n",
        "         0.00000000e+00,   0.00000000e+00,   1.94300000e+03,\n",
        "         0.00000000e+00,   0.00000000e+00,   0.00000000e+00,\n",
        "         0.00000000e+00,   0.00000000e+00,   0.00000000e+00,\n",
        "         0.00000000e+00,   0.00000000e+00,   0.00000000e+00,\n",
        "         0.00000000e+00,   0.00000000e+00,   0.00000000e+00,\n",
        "         0.00000000e+00,   0.00000000e+00,   0.00000000e+00,\n",
        "         0.00000000e+00,   0.00000000e+00,   0.00000000e+00,\n",
        "         0.00000000e+00,   6.71000000e+02,   0.00000000e+00,\n",
        "         0.00000000e+00,   0.00000000e+00,   0.00000000e+00,\n",
        "         0.00000000e+00,   0.00000000e+00,   0.00000000e+00,\n",
        "         0.00000000e+00,   0.00000000e+00,   0.00000000e+00,\n",
        "         0.00000000e+00,   0.00000000e+00,   0.00000000e+00,\n",
        "         0.00000000e+00,   0.00000000e+00,   0.00000000e+00,\n",
        "         0.00000000e+00,   0.00000000e+00,   0.00000000e+00,\n",
        "         3.13000000e+02,   0.00000000e+00,   0.00000000e+00,\n",
        "         0.00000000e+00,   0.00000000e+00,   0.00000000e+00,\n",
        "         0.00000000e+00,   0.00000000e+00,   0.00000000e+00,\n",
        "         0.00000000e+00,   0.00000000e+00,   0.00000000e+00,\n",
        "         0.00000000e+00,   0.00000000e+00,   0.00000000e+00,\n",
        "         0.00000000e+00,   0.00000000e+00,   0.00000000e+00,\n",
        "         0.00000000e+00,   0.00000000e+00,   3.50000000e+02,\n",
        "         0.00000000e+00,   0.00000000e+00,   0.00000000e+00,\n",
        "         0.00000000e+00,   0.00000000e+00,   0.00000000e+00,\n",
        "         0.00000000e+00,   0.00000000e+00,   0.00000000e+00,\n",
        "         0.00000000e+00,   0.00000000e+00,   0.00000000e+00,\n",
        "         0.00000000e+00,   0.00000000e+00,   0.00000000e+00,\n",
        "         0.00000000e+00,   0.00000000e+00,   0.00000000e+00,\n",
        "         0.00000000e+00,   2.73000000e+02,   0.00000000e+00,\n",
        "         0.00000000e+00,   0.00000000e+00,   0.00000000e+00,\n",
        "         0.00000000e+00,   0.00000000e+00,   0.00000000e+00,\n",
        "         0.00000000e+00,   0.00000000e+00,   0.00000000e+00,\n",
        "         0.00000000e+00,   0.00000000e+00,   0.00000000e+00,\n",
        "         0.00000000e+00,   0.00000000e+00,   0.00000000e+00,\n",
        "         0.00000000e+00,   0.00000000e+00,   1.34800000e+03]),\n",
        " array([-10.        ,  -9.94987469,  -9.89974937,  -9.84962406,\n",
        "        -9.79949875,  -9.74937343,  -9.69924812,  -9.64912281,\n",
        "        -9.59899749,  -9.54887218,  -9.49874687,  -9.44862155,\n",
        "        -9.39849624,  -9.34837093,  -9.29824561,  -9.2481203 ,\n",
        "        -9.19799499,  -9.14786967,  -9.09774436,  -9.04761905,\n",
        "        -8.99749373,  -8.94736842,  -8.89724311,  -8.84711779,\n",
        "        -8.79699248,  -8.74686717,  -8.69674185,  -8.64661654,\n",
        "        -8.59649123,  -8.54636591,  -8.4962406 ,  -8.44611529,\n",
        "        -8.39598997,  -8.34586466,  -8.29573935,  -8.24561404,\n",
        "        -8.19548872,  -8.14536341,  -8.0952381 ,  -8.04511278,\n",
        "        -7.99498747,  -7.94486216,  -7.89473684,  -7.84461153,\n",
        "        -7.79448622,  -7.7443609 ,  -7.69423559,  -7.64411028,\n",
        "        -7.59398496,  -7.54385965,  -7.49373434,  -7.44360902,\n",
        "        -7.39348371,  -7.3433584 ,  -7.29323308,  -7.24310777,\n",
        "        -7.19298246,  -7.14285714,  -7.09273183,  -7.04260652,\n",
        "        -6.9924812 ,  -6.94235589,  -6.89223058,  -6.84210526,\n",
        "        -6.79197995,  -6.74185464,  -6.69172932,  -6.64160401,\n",
        "        -6.5914787 ,  -6.54135338,  -6.49122807,  -6.44110276,\n",
        "        -6.39097744,  -6.34085213,  -6.29072682,  -6.2406015 ,\n",
        "        -6.19047619,  -6.14035088,  -6.09022556,  -6.04010025,\n",
        "        -5.98997494,  -5.93984962,  -5.88972431,  -5.839599  ,\n",
        "        -5.78947368,  -5.73934837,  -5.68922306,  -5.63909774,\n",
        "        -5.58897243,  -5.53884712,  -5.4887218 ,  -5.43859649,\n",
        "        -5.38847118,  -5.33834586,  -5.28822055,  -5.23809524,\n",
        "        -5.18796992,  -5.13784461,  -5.0877193 ,  -5.03759398,\n",
        "        -4.98746867,  -4.93734336,  -4.88721805,  -4.83709273,\n",
        "        -4.78696742,  -4.73684211,  -4.68671679,  -4.63659148,\n",
        "        -4.58646617,  -4.53634085,  -4.48621554,  -4.43609023,\n",
        "        -4.38596491,  -4.3358396 ,  -4.28571429,  -4.23558897,\n",
        "        -4.18546366,  -4.13533835,  -4.08521303,  -4.03508772,\n",
        "        -3.98496241,  -3.93483709,  -3.88471178,  -3.83458647,\n",
        "        -3.78446115,  -3.73433584,  -3.68421053,  -3.63408521,\n",
        "        -3.5839599 ,  -3.53383459,  -3.48370927,  -3.43358396,\n",
        "        -3.38345865,  -3.33333333,  -3.28320802,  -3.23308271,\n",
        "        -3.18295739,  -3.13283208,  -3.08270677,  -3.03258145,\n",
        "        -2.98245614,  -2.93233083,  -2.88220551,  -2.8320802 ,\n",
        "        -2.78195489,  -2.73182957,  -2.68170426,  -2.63157895,\n",
        "        -2.58145363,  -2.53132832,  -2.48120301,  -2.43107769,\n",
        "        -2.38095238,  -2.33082707,  -2.28070175,  -2.23057644,\n",
        "        -2.18045113,  -2.13032581,  -2.0802005 ,  -2.03007519,\n",
        "        -1.97994987,  -1.92982456,  -1.87969925,  -1.82957393,\n",
        "        -1.77944862,  -1.72932331,  -1.67919799,  -1.62907268,\n",
        "        -1.57894737,  -1.52882206,  -1.47869674,  -1.42857143,\n",
        "        -1.37844612,  -1.3283208 ,  -1.27819549,  -1.22807018,\n",
        "        -1.17794486,  -1.12781955,  -1.07769424,  -1.02756892,\n",
        "        -0.97744361,  -0.9273183 ,  -0.87719298,  -0.82706767,\n",
        "        -0.77694236,  -0.72681704,  -0.67669173,  -0.62656642,\n",
        "        -0.5764411 ,  -0.52631579,  -0.47619048,  -0.42606516,\n",
        "        -0.37593985,  -0.32581454,  -0.27568922,  -0.22556391,\n",
        "        -0.1754386 ,  -0.12531328,  -0.07518797,  -0.02506266,\n",
        "         0.02506266,   0.07518797,   0.12531328,   0.1754386 ,\n",
        "         0.22556391,   0.27568922,   0.32581454,   0.37593985,\n",
        "         0.42606516,   0.47619048,   0.52631579,   0.5764411 ,\n",
        "         0.62656642,   0.67669173,   0.72681704,   0.77694236,\n",
        "         0.82706767,   0.87719298,   0.9273183 ,   0.97744361,\n",
        "         1.02756892,   1.07769424,   1.12781955,   1.17794486,\n",
        "         1.22807018,   1.27819549,   1.3283208 ,   1.37844612,\n",
        "         1.42857143,   1.47869674,   1.52882206,   1.57894737,\n",
        "         1.62907268,   1.67919799,   1.72932331,   1.77944862,\n",
        "         1.82957393,   1.87969925,   1.92982456,   1.97994987,\n",
        "         2.03007519,   2.0802005 ,   2.13032581,   2.18045113,\n",
        "         2.23057644,   2.28070175,   2.33082707,   2.38095238,\n",
        "         2.43107769,   2.48120301,   2.53132832,   2.58145363,\n",
        "         2.63157895,   2.68170426,   2.73182957,   2.78195489,\n",
        "         2.8320802 ,   2.88220551,   2.93233083,   2.98245614,\n",
        "         3.03258145,   3.08270677,   3.13283208,   3.18295739,\n",
        "         3.23308271,   3.28320802,   3.33333333,   3.38345865,\n",
        "         3.43358396,   3.48370927,   3.53383459,   3.5839599 ,\n",
        "         3.63408521,   3.68421053,   3.73433584,   3.78446115,\n",
        "         3.83458647,   3.88471178,   3.93483709,   3.98496241,\n",
        "         4.03508772,   4.08521303,   4.13533835,   4.18546366,\n",
        "         4.23558897,   4.28571429,   4.3358396 ,   4.38596491,\n",
        "         4.43609023,   4.48621554,   4.53634085,   4.58646617,\n",
        "         4.63659148,   4.68671679,   4.73684211,   4.78696742,\n",
        "         4.83709273,   4.88721805,   4.93734336,   4.98746867,\n",
        "         5.03759398,   5.0877193 ,   5.13784461,   5.18796992,\n",
        "         5.23809524,   5.28822055,   5.33834586,   5.38847118,\n",
        "         5.43859649,   5.4887218 ,   5.53884712,   5.58897243,\n",
        "         5.63909774,   5.68922306,   5.73934837,   5.78947368,\n",
        "         5.839599  ,   5.88972431,   5.93984962,   5.98997494,\n",
        "         6.04010025,   6.09022556,   6.14035088,   6.19047619,\n",
        "         6.2406015 ,   6.29072682,   6.34085213,   6.39097744,\n",
        "         6.44110276,   6.49122807,   6.54135338,   6.5914787 ,\n",
        "         6.64160401,   6.69172932,   6.74185464,   6.79197995,\n",
        "         6.84210526,   6.89223058,   6.94235589,   6.9924812 ,\n",
        "         7.04260652,   7.09273183,   7.14285714,   7.19298246,\n",
        "         7.24310777,   7.29323308,   7.3433584 ,   7.39348371,\n",
        "         7.44360902,   7.49373434,   7.54385965,   7.59398496,\n",
        "         7.64411028,   7.69423559,   7.7443609 ,   7.79448622,\n",
        "         7.84461153,   7.89473684,   7.94486216,   7.99498747,\n",
        "         8.04511278,   8.0952381 ,   8.14536341,   8.19548872,\n",
        "         8.24561404,   8.29573935,   8.34586466,   8.39598997,\n",
        "         8.44611529,   8.4962406 ,   8.54636591,   8.59649123,\n",
        "         8.64661654,   8.69674185,   8.74686717,   8.79699248,\n",
        "         8.84711779,   8.89724311,   8.94736842,   8.99749373,\n",
        "         9.04761905,   9.09774436,   9.14786967,   9.19799499,\n",
        "         9.2481203 ,   9.29824561,   9.34837093,   9.39849624,\n",
        "         9.44862155,   9.49874687,   9.54887218,   9.59899749,\n",
        "         9.64912281,   9.69924812,   9.74937343,   9.79949875,\n",
        "         9.84962406,   9.89974937,   9.94987469,  10.        ]),\n",
        " <a list of 399 Patch objects>)"
       ]
      },
      {
       "metadata": {},
       "output_type": "display_data",
       "png": "[encoded data removed]",
       "text": [
        "<matplotlib.figure.Figure at 0x7f61303a6750>"
       ]
      }
     ],
     "prompt_number": 41
    },
    {
     "cell_type": "code",
     "collapsed": false,
     "input": [
      "#----------------------------------------------------------\n",
      "'''Calculation qty_indicator'''\n",
      "qty_indicator = pd.Series(data=None, index=None)\n",
      "for d in range(0, 30, 1):\n",
      "    mysample = ta.ix[day_len * (d): day_len * (d+1), :]\n",
      "    biddic = GetQty2(mysample, b=True, depth=3)\n",
      "    askdic = GetQty2(mysample, b=False, depth=3)\n",
      "    biddic = biddic.T #TODO: this transformation is because the GetQty2 func is not good enough\n",
      "    askdic = askdic.T\n",
      "    bidask = biddic.combine_first((-1)*askdic)\n",
      "    print '\\n-------%d -------------------' %d\n",
      "#     bidask2 = bidask + 2 * abs(bidask).max().max()\n",
      "    qty_indicator = pd.concat([qty_indicator, QtyDiffLog(bidask)], axis=0, join='outer')"
     ],
     "language": "python",
     "metadata": {},
     "outputs": [
      {
       "output_type": "stream",
       "stream": "stdout",
       "text": [
        "!!!\n",
        "!!!"
       ]
      },
      {
       "output_type": "stream",
       "stream": "stdout",
       "text": [
        "\n",
        "\n",
        "-------0 -------------------"
       ]
      },
      {
       "output_type": "stream",
       "stream": "stdout",
       "text": [
        "\n",
        "!!!"
       ]
      },
      {
       "output_type": "stream",
       "stream": "stdout",
       "text": [
        "\n",
        "!!!"
       ]
      },
      {
       "output_type": "stream",
       "stream": "stdout",
       "text": [
        "\n",
        "\n",
        "-------1 -------------------"
       ]
      },
      {
       "output_type": "stream",
       "stream": "stdout",
       "text": [
        "\n",
        "!!!"
       ]
      },
      {
       "output_type": "stream",
       "stream": "stdout",
       "text": [
        "\n",
        "!!!"
       ]
      },
      {
       "output_type": "stream",
       "stream": "stdout",
       "text": [
        "\n",
        "\n",
        "-------2 -------------------"
       ]
      },
      {
       "output_type": "stream",
       "stream": "stdout",
       "text": [
        "\n",
        "!!!"
       ]
      },
      {
       "output_type": "stream",
       "stream": "stdout",
       "text": [
        "\n",
        "!!!"
       ]
      },
      {
       "output_type": "stream",
       "stream": "stdout",
       "text": [
        "\n",
        "\n",
        "-------3 -------------------"
       ]
      },
      {
       "output_type": "stream",
       "stream": "stdout",
       "text": [
        "\n",
        "!!!"
       ]
      },
      {
       "output_type": "stream",
       "stream": "stdout",
       "text": [
        "\n",
        "!!!"
       ]
      },
      {
       "output_type": "stream",
       "stream": "stdout",
       "text": [
        "\n",
        "\n",
        "-------4 -------------------"
       ]
      },
      {
       "output_type": "stream",
       "stream": "stdout",
       "text": [
        "\n",
        "!!!"
       ]
      },
      {
       "output_type": "stream",
       "stream": "stdout",
       "text": [
        "\n",
        "!!!"
       ]
      },
      {
       "output_type": "stream",
       "stream": "stdout",
       "text": [
        "\n",
        "\n",
        "-------5 -------------------"
       ]
      },
      {
       "output_type": "stream",
       "stream": "stdout",
       "text": [
        "\n",
        "!!!"
       ]
      },
      {
       "output_type": "stream",
       "stream": "stdout",
       "text": [
        "\n",
        "!!!"
       ]
      },
      {
       "output_type": "stream",
       "stream": "stdout",
       "text": [
        "\n",
        "\n",
        "-------6 -------------------"
       ]
      },
      {
       "output_type": "stream",
       "stream": "stdout",
       "text": [
        "\n",
        "!!!"
       ]
      },
      {
       "output_type": "stream",
       "stream": "stdout",
       "text": [
        "\n",
        "!!!"
       ]
      },
      {
       "output_type": "stream",
       "stream": "stdout",
       "text": [
        "\n",
        "\n",
        "-------7 -------------------"
       ]
      },
      {
       "output_type": "stream",
       "stream": "stdout",
       "text": [
        "\n",
        "!!!"
       ]
      },
      {
       "output_type": "stream",
       "stream": "stdout",
       "text": [
        "\n",
        "!!!"
       ]
      },
      {
       "output_type": "stream",
       "stream": "stdout",
       "text": [
        "\n",
        "\n",
        "-------8 -------------------"
       ]
      },
      {
       "output_type": "stream",
       "stream": "stdout",
       "text": [
        "\n",
        "!!!"
       ]
      },
      {
       "output_type": "stream",
       "stream": "stdout",
       "text": [
        "\n",
        "!!!"
       ]
      },
      {
       "output_type": "stream",
       "stream": "stdout",
       "text": [
        "\n",
        "\n",
        "-------9 -------------------"
       ]
      },
      {
       "output_type": "stream",
       "stream": "stdout",
       "text": [
        "\n",
        "!!!"
       ]
      },
      {
       "output_type": "stream",
       "stream": "stdout",
       "text": [
        "\n",
        "!!!"
       ]
      },
      {
       "output_type": "stream",
       "stream": "stdout",
       "text": [
        "\n",
        "\n",
        "-------10 -------------------"
       ]
      },
      {
       "output_type": "stream",
       "stream": "stdout",
       "text": [
        "\n",
        "!!!"
       ]
      },
      {
       "output_type": "stream",
       "stream": "stdout",
       "text": [
        "\n",
        "!!!"
       ]
      },
      {
       "output_type": "stream",
       "stream": "stdout",
       "text": [
        "\n",
        "\n",
        "-------11 -------------------"
       ]
      },
      {
       "output_type": "stream",
       "stream": "stdout",
       "text": [
        "\n",
        "!!!"
       ]
      },
      {
       "output_type": "stream",
       "stream": "stdout",
       "text": [
        "\n",
        "!!!"
       ]
      },
      {
       "output_type": "stream",
       "stream": "stdout",
       "text": [
        "\n",
        "\n",
        "-------12 -------------------"
       ]
      },
      {
       "output_type": "stream",
       "stream": "stdout",
       "text": [
        "\n",
        "!!!"
       ]
      },
      {
       "output_type": "stream",
       "stream": "stdout",
       "text": [
        "\n",
        "!!!"
       ]
      },
      {
       "output_type": "stream",
       "stream": "stdout",
       "text": [
        "\n",
        "\n",
        "-------13 -------------------"
       ]
      },
      {
       "output_type": "stream",
       "stream": "stdout",
       "text": [
        "\n",
        "!!!"
       ]
      },
      {
       "output_type": "stream",
       "stream": "stdout",
       "text": [
        "\n",
        "!!!"
       ]
      },
      {
       "output_type": "stream",
       "stream": "stdout",
       "text": [
        "\n",
        "\n",
        "-------14 -------------------"
       ]
      },
      {
       "output_type": "stream",
       "stream": "stdout",
       "text": [
        "\n",
        "!!!"
       ]
      },
      {
       "output_type": "stream",
       "stream": "stdout",
       "text": [
        "\n",
        "!!!"
       ]
      },
      {
       "output_type": "stream",
       "stream": "stdout",
       "text": [
        "\n",
        "\n",
        "-------15 -------------------"
       ]
      },
      {
       "output_type": "stream",
       "stream": "stdout",
       "text": [
        "\n",
        "!!!"
       ]
      },
      {
       "output_type": "stream",
       "stream": "stdout",
       "text": [
        "\n",
        "!!!"
       ]
      },
      {
       "output_type": "stream",
       "stream": "stdout",
       "text": [
        "\n",
        "\n",
        "-------16 -------------------"
       ]
      },
      {
       "output_type": "stream",
       "stream": "stdout",
       "text": [
        "\n",
        "!!!"
       ]
      },
      {
       "output_type": "stream",
       "stream": "stdout",
       "text": [
        "\n",
        "!!!"
       ]
      },
      {
       "output_type": "stream",
       "stream": "stdout",
       "text": [
        "\n",
        "\n",
        "-------17 -------------------"
       ]
      },
      {
       "output_type": "stream",
       "stream": "stdout",
       "text": [
        "\n",
        "!!!"
       ]
      },
      {
       "output_type": "stream",
       "stream": "stdout",
       "text": [
        "\n",
        "!!!"
       ]
      },
      {
       "output_type": "stream",
       "stream": "stdout",
       "text": [
        "\n",
        "\n",
        "-------18 -------------------"
       ]
      },
      {
       "output_type": "stream",
       "stream": "stdout",
       "text": [
        "\n",
        "!!!"
       ]
      },
      {
       "output_type": "stream",
       "stream": "stdout",
       "text": [
        "\n",
        "!!!"
       ]
      },
      {
       "output_type": "stream",
       "stream": "stdout",
       "text": [
        "\n",
        "\n",
        "-------19 -------------------"
       ]
      },
      {
       "output_type": "stream",
       "stream": "stdout",
       "text": [
        "\n",
        "!!!"
       ]
      },
      {
       "output_type": "stream",
       "stream": "stdout",
       "text": [
        "\n",
        "!!!"
       ]
      },
      {
       "output_type": "stream",
       "stream": "stdout",
       "text": [
        "\n",
        "\n",
        "-------20 -------------------"
       ]
      },
      {
       "output_type": "stream",
       "stream": "stdout",
       "text": [
        "\n",
        "!!!"
       ]
      },
      {
       "output_type": "stream",
       "stream": "stdout",
       "text": [
        "\n",
        "!!!"
       ]
      },
      {
       "output_type": "stream",
       "stream": "stdout",
       "text": [
        "\n",
        "\n",
        "-------21 -------------------"
       ]
      },
      {
       "output_type": "stream",
       "stream": "stdout",
       "text": [
        "\n",
        "!!!"
       ]
      },
      {
       "output_type": "stream",
       "stream": "stdout",
       "text": [
        "\n",
        "!!!"
       ]
      },
      {
       "output_type": "stream",
       "stream": "stdout",
       "text": [
        "\n",
        "\n",
        "-------22 -------------------"
       ]
      },
      {
       "output_type": "stream",
       "stream": "stdout",
       "text": [
        "\n",
        "!!!"
       ]
      },
      {
       "output_type": "stream",
       "stream": "stdout",
       "text": [
        "\n",
        "!!!"
       ]
      },
      {
       "output_type": "stream",
       "stream": "stdout",
       "text": [
        "\n",
        "\n",
        "-------23 -------------------"
       ]
      },
      {
       "output_type": "stream",
       "stream": "stdout",
       "text": [
        "\n",
        "!!!"
       ]
      },
      {
       "output_type": "stream",
       "stream": "stdout",
       "text": [
        "\n",
        "!!!"
       ]
      },
      {
       "output_type": "stream",
       "stream": "stdout",
       "text": [
        "\n",
        "\n",
        "-------24 -------------------"
       ]
      },
      {
       "output_type": "stream",
       "stream": "stdout",
       "text": [
        "\n",
        "!!!"
       ]
      },
      {
       "output_type": "stream",
       "stream": "stdout",
       "text": [
        "\n",
        "!!!"
       ]
      },
      {
       "output_type": "stream",
       "stream": "stdout",
       "text": [
        "\n",
        "\n",
        "-------25 -------------------"
       ]
      },
      {
       "output_type": "stream",
       "stream": "stdout",
       "text": [
        "\n",
        "!!!"
       ]
      },
      {
       "output_type": "stream",
       "stream": "stdout",
       "text": [
        "\n",
        "!!!"
       ]
      },
      {
       "output_type": "stream",
       "stream": "stdout",
       "text": [
        "\n",
        "\n",
        "-------26 -------------------"
       ]
      },
      {
       "output_type": "stream",
       "stream": "stdout",
       "text": [
        "\n",
        "!!!"
       ]
      },
      {
       "output_type": "stream",
       "stream": "stdout",
       "text": [
        "\n",
        "!!!"
       ]
      },
      {
       "output_type": "stream",
       "stream": "stdout",
       "text": [
        "\n",
        "\n",
        "-------27 -------------------"
       ]
      },
      {
       "output_type": "stream",
       "stream": "stdout",
       "text": [
        "\n",
        "!!!"
       ]
      },
      {
       "output_type": "stream",
       "stream": "stdout",
       "text": [
        "\n",
        "!!!"
       ]
      },
      {
       "output_type": "stream",
       "stream": "stdout",
       "text": [
        "\n",
        "\n",
        "-------28 -------------------"
       ]
      },
      {
       "output_type": "stream",
       "stream": "stdout",
       "text": [
        "\n",
        "!!!"
       ]
      },
      {
       "output_type": "stream",
       "stream": "stdout",
       "text": [
        "\n",
        "!!!"
       ]
      },
      {
       "output_type": "stream",
       "stream": "stdout",
       "text": [
        "\n",
        "\n",
        "-------29 -------------------"
       ]
      },
      {
       "output_type": "stream",
       "stream": "stdout",
       "text": [
        "\n"
       ]
      }
     ],
     "prompt_number": 60
    },
    {
     "cell_type": "code",
     "collapsed": false,
     "input": [
      "%matplotlib auto"
     ],
     "language": "python",
     "metadata": {},
     "outputs": [
      {
       "output_type": "stream",
       "stream": "stdout",
       "text": [
        "Using matplotlib backend: TkAgg\n"
       ]
      }
     ],
     "prompt_number": 44
    },
    {
     "cell_type": "code",
     "collapsed": false,
     "input": [
      "fig = plt.figure()\n",
      "ax1 = fig.add_subplot(211)\n",
      "ax1.plot(mysample.ix[:, 'midPrc'])\n",
      "ax2 = fig.add_subplot(212, sharex=ax1)\n",
      "ax2.plot(QtyLogDiffMean2(bidask, halfwindow=mywind))"
     ],
     "language": "python",
     "metadata": {},
     "outputs": [
      {
       "metadata": {},
       "output_type": "pyout",
       "prompt_number": 46,
       "text": [
        "[<matplotlib.lines.Line2D at 0x7f7bf6ee0890>]"
       ]
      }
     ],
     "prompt_number": 46
    },
    {
     "cell_type": "code",
     "collapsed": false,
     "input": [
      "def QtyLogDiffMean2(df, halfwindow=15, method='ewm'):\n",
      "    mydiff = df.diff(axis=0)\n",
      "    logscale = np.sign(mydiff) * np.log(np.abs(mydiff) + 1) # minimum is 1, so no need to add 1.\n",
      "    mymean = logscale.mean(axis=1)\n",
      "    ret = MyMA(mymean, method, halfwindow)\n",
      "    return ret"
     ],
     "language": "python",
     "metadata": {},
     "outputs": [],
     "prompt_number": 17
    },
    {
     "cell_type": "code",
     "collapsed": false,
     "input": [
      "qty_indicator.hist(bins=100)"
     ],
     "language": "python",
     "metadata": {},
     "outputs": [
      {
       "metadata": {},
       "output_type": "pyout",
       "prompt_number": 61,
       "text": [
        "<matplotlib.axes.AxesSubplot at 0x7f8388524850>"
       ]
      },
      {
       "metadata": {},
       "output_type": "display_data",
       "png": "[encoded data removed]",
       "text": [
        "<matplotlib.figure.Figure at 0x7f83885b2c10>"
       ]
      }
     ],
     "prompt_number": 61
    },
    {
     "cell_type": "code",
     "collapsed": false,
     "input": [
      "qty_indicator[ta_pm.index].hist(bins=100)"
     ],
     "language": "python",
     "metadata": {},
     "outputs": [
      {
       "metadata": {},
       "output_type": "pyout",
       "prompt_number": 38,
       "text": [
        "<matplotlib.axes.AxesSubplot at 0x7f7bf7f5b650>"
       ]
      },
      {
       "metadata": {},
       "output_type": "display_data",
       "png": "[encoded data removed]",
       "text": [
        "<matplotlib.figure.Figure at 0x7f7bfc05ce90>"
       ]
      }
     ],
     "prompt_number": 38
    },
    {
     "cell_type": "markdown",
     "metadata": {},
     "source": [
      "### Use power transformation"
     ]
    },
    {
     "cell_type": "code",
     "collapsed": false,
     "input": [
      "qty_indicator_power = np.power(qty_indicator, 1./3)"
     ],
     "language": "python",
     "metadata": {},
     "outputs": [],
     "prompt_number": 94
    },
    {
     "cell_type": "code",
     "collapsed": false,
     "input": [
      "len(qty_indicator_out.index)"
     ],
     "language": "python",
     "metadata": {},
     "outputs": [
      {
       "metadata": {},
       "output_type": "pyout",
       "prompt_number": 146,
       "text": [
        "450020"
       ]
      }
     ],
     "prompt_number": 146
    },
    {
     "cell_type": "code",
     "collapsed": false,
     "input": [
      "len(qty_indicator.index)"
     ],
     "language": "python",
     "metadata": {},
     "outputs": [
      {
       "metadata": {},
       "output_type": "pyout",
       "prompt_number": 135,
       "text": [
        "1800080"
       ]
      }
     ],
     "prompt_number": 135
    },
    {
     "cell_type": "code",
     "collapsed": false,
     "input": [
      "%matplotlib auto"
     ],
     "language": "python",
     "metadata": {},
     "outputs": [
      {
       "output_type": "stream",
       "stream": "stdout",
       "text": [
        "Using matplotlib backend: TkAgg\n"
       ]
      }
     ],
     "prompt_number": 32
    },
    {
     "cell_type": "markdown",
     "metadata": {},
     "source": [
      "## Near lowLimit, price depth is shalow"
     ]
    },
    {
     "cell_type": "code",
     "collapsed": false,
     "input": [
      "ta_in.ix[164841, ['last', 'bidPrc_0', 'lowLimit',]]"
     ],
     "language": "python",
     "metadata": {},
     "outputs": [
      {
       "metadata": {},
       "output_type": "pyout",
       "prompt_number": 116,
       "text": [
        "last        1712.0\n",
        "bidPrc_0    1711.0\n",
        "lowLimit    1709.0\n",
        "Name: 2015-11-23 13:56:48.500000, dtype: float64"
       ]
      }
     ],
     "prompt_number": 116
    },
    {
     "cell_type": "code",
     "collapsed": false,
     "input": [
      "ta_in.ix[164841: 199946, 'last'].plot()"
     ],
     "language": "python",
     "metadata": {},
     "outputs": [
      {
       "metadata": {},
       "output_type": "pyout",
       "prompt_number": 108,
       "text": [
        "<matplotlib.axes.AxesSubplot at 0x7f045c868cd0>"
       ]
      },
      {
       "metadata": {},
       "output_type": "display_data",
       "png": "[encoded data removed]",
       "text": [
        "<matplotlib.figure.Figure at 0x7f045c84f390>"
       ]
      }
     ],
     "prompt_number": 108
    },
    {
     "cell_type": "code",
     "collapsed": false,
     "input": [
      "(ta_in.ix[:, 'bidPrc_0'] == 0).sum()"
     ],
     "language": "python",
     "metadata": {},
     "outputs": [
      {
       "metadata": {},
       "output_type": "pyout",
       "prompt_number": 112,
       "text": [
        "7262"
       ]
      }
     ],
     "prompt_number": 112
    },
    {
     "cell_type": "code",
     "collapsed": false,
     "input": [
      "ta_in.ix[164841-13000: 199946, 'bidPrc_0'].plot()"
     ],
     "language": "python",
     "metadata": {},
     "outputs": [
      {
       "metadata": {},
       "output_type": "pyout",
       "prompt_number": 110,
       "text": [
        "<matplotlib.axes.AxesSubplot at 0x7f04577a1c90>"
       ]
      },
      {
       "metadata": {},
       "output_type": "display_data",
       "png": "[encoded data removed]",
       "text": [
        "<matplotlib.figure.Figure at 0x7f04584f1e10>"
       ]
      }
     ],
     "prompt_number": 110
    },
    {
     "cell_type": "markdown",
     "metadata": {},
     "source": [
      "# Test!"
     ]
    },
    {
     "cell_type": "code",
     "collapsed": false,
     "input": [],
     "language": "python",
     "metadata": {},
     "outputs": [],
     "prompt_number": 19
    },
    {
     "cell_type": "code",
     "collapsed": false,
     "input": [
      "insample_index0, outsample_index0 = GiveMeIndex([[0,2], [4, 6], [8, 10], [14, 16], [18,20], [22, 24], [26,28]],\n",
      "                                               [[2, 4], [6, 8], [12, 14], [16, 18], [20,22], [24, 26], [28,30]])\n",
      "insample_index1, outsample_index1 = GiveMeIndex([[0, 20]], [[20, 25]])\n",
      "insample_index2, outsample_index2 = GiveMeIndex([[5, 25]], [[0, 5]])\n",
      "insample_index3, outsample_index3 = GiveMeIndex([[0, 5], [10, 25]], [[5, 10]])\n",
      "insample_index4, outsample_index4 = GiveMeIndex([[0, 10], [15, 25]], [[10, 15]])\n",
      "insample_index5, outsample_index5 = GiveMeIndex([[10, 30]], [[0, 5]])\n",
      "insample_index6, outsample_index6 = GiveMeIndex([[0, 18]], [[18, 25]])\n",
      "# different_io_index = ((insample_index0, outsample_index0), (insample_index1, outsample_index1), \n",
      "#                       (insample_index2, outsample_index2), (insample_index3, outsample_index3),\n",
      "#                       (insample_index4, outsample_index4), (insample_index5, outsample_index5))\n",
      "insample_index00, outsample_index00 = GiveMeIndex([[0, 20]],\n",
      "                                               [[25, 30]])"
     ],
     "language": "python",
     "metadata": {},
     "outputs": [],
     "prompt_number": 44
    },
    {
     "cell_type": "code",
     "collapsed": false,
     "input": [
      "\n",
      "for forward_ticks in range(44, 45, 1):\n",
      "    ta_in_pm = GiveMePM(ta, nforward=forward_ticks, nbackward=mywind, lim=insample_index1)\n",
      "    ta_out_pm = GiveMePM(ta, nforward=forward_ticks, nbackward=mywind, lim=outsample_index1)\n",
      "    for mywind in range(12, 13, 1):\n",
      "        qty_indicator_ma = MyMA(qty_indicator, method='sma', length=mywind)\n",
      "        \n",
      "        res = myols(qty_indicator_ma, ta_in_pm)\n",
      "        print ('\\n\\n\\n------halflife: %d,     forward_ticks: %d ------------' %(mywind, forward_ticks))\n",
      "        print res.summary()\n",
      "        print '\\n[OutSample R_SQUARE: %f]' % (PredictedRsquare(res, qty_indicator_ma, ta_out_pm))[1]"
     ],
     "language": "python",
     "metadata": {},
     "outputs": [
      {
       "output_type": "stream",
       "stream": "stdout",
       "text": [
        "\n",
        "\n",
        "\n",
        "------halflife: 12,     forward_ticks: 44 ------------\n",
        "                            OLS Regression Results                            \n",
        "==============================================================================\n",
        "Dep. Variable:                 midPrc   R-squared:                       0.018\n",
        "Model:                            OLS   Adj. R-squared:                  0.018\n",
        "Method:                 Least Squares   F-statistic:                 3.243e+04\n",
        "Date:                Tue, 19 Jul 2016   Prob (F-statistic):               0.00\n",
        "Time:                        09:34:53   Log-Likelihood:            -3.0901e+06\n",
        "No. Observations:             1786394   AIC:                         6.180e+06\n",
        "Df Residuals:                 1786392   BIC:                         6.180e+06\n",
        "Df Model:                           1                                         \n",
        "==============================================================================\n",
        "                 coef    std err          t      P>|t|      [95.0% Conf. Int.]\n",
        "------------------------------------------------------------------------------\n",
        "const          0.0038      0.001      3.705      0.000         0.002     0.006\n",
        "None           1.3327      0.007    180.079      0.000         1.318     1.347\n",
        "==============================================================================\n",
        "Omnibus:                   633345.200   Durbin-Watson:                   0.089\n",
        "Prob(Omnibus):                  0.000   Jarque-Bera (JB):        134099992.967\n",
        "Skew:                           0.514   Prob(JB):                         0.00\n",
        "Kurtosis:                      45.433   Cond. No.                         7.25\n",
        "=============================================================================="
       ]
      },
      {
       "output_type": "stream",
       "stream": "stdout",
       "text": [
        "\n",
        "\n",
        "[OutSample R_SQUARE: 0.017340]"
       ]
      },
      {
       "output_type": "stream",
       "stream": "stdout",
       "text": [
        "\n"
       ]
      }
     ],
     "prompt_number": 75
    },
    {
     "cell_type": "code",
     "collapsed": false,
     "input": [
      "qty_indicator_ma.to_hdf('qty_indicator_ma.hdf', 'Series')"
     ],
     "language": "python",
     "metadata": {},
     "outputs": [],
     "prompt_number": 67
    },
    {
     "cell_type": "code",
     "collapsed": false,
     "input": [
      "qty_indicator_ma"
     ],
     "language": "python",
     "metadata": {},
     "outputs": [
      {
       "metadata": {},
       "output_type": "pyout",
       "prompt_number": 68,
       "text": [
        "2015-11-19 21:00:00.000         NaN\n",
        "2015-11-19 21:00:00.250         NaN\n",
        "2015-11-19 21:00:00.500         NaN\n",
        "2015-11-19 21:00:00.750         NaN\n",
        "2015-11-19 21:00:01.000         NaN\n",
        "2015-11-19 21:00:01.250         NaN\n",
        "2015-11-19 21:00:01.500         NaN\n",
        "2015-11-19 21:00:01.750         NaN\n",
        "2015-11-19 21:00:02.000         NaN\n",
        "2015-11-19 21:00:02.250         NaN\n",
        "2015-11-19 21:00:02.500         NaN\n",
        "2015-11-19 21:00:02.750         NaN\n",
        "2015-11-19 21:00:03.000   -1.640657\n",
        "2015-11-19 21:00:03.250   -1.626457\n",
        "2015-11-19 21:00:03.500   -1.322582\n",
        "2015-11-19 21:00:03.750   -1.439046\n",
        "2015-11-19 21:00:04.000   -1.241234\n",
        "2015-11-19 21:00:04.250   -0.777578\n",
        "2015-11-19 21:00:04.500   -0.221908\n",
        "2015-11-19 21:00:04.750   -0.020437\n",
        "2015-11-19 21:00:05.000    0.110051\n",
        "2015-11-19 21:00:05.250    0.119745\n",
        "2015-11-19 21:00:05.500    0.167736\n",
        "2015-11-19 21:00:05.750    0.128773\n",
        "2015-11-19 21:00:06.000    0.151381\n",
        "2015-11-19 21:00:06.250    0.134217\n",
        "2015-11-19 21:00:06.500    0.296813\n",
        "2015-11-19 21:00:06.750    0.372457\n",
        "2015-11-19 21:00:07.000    0.473416\n",
        "2015-11-19 21:00:07.250    0.446648\n",
        "                             ...   \n",
        "2015-12-31 14:59:52.750    0.090232\n",
        "2015-12-31 14:59:53.000    0.061351\n",
        "2015-12-31 14:59:53.250   -0.000393\n",
        "2015-12-31 14:59:53.500    0.066711\n",
        "2015-12-31 14:59:53.750    0.089064\n",
        "2015-12-31 14:59:54.000    0.169353\n",
        "2015-12-31 14:59:54.250    0.194524\n",
        "2015-12-31 14:59:54.500    0.190825\n",
        "2015-12-31 14:59:54.750    0.062302\n",
        "2015-12-31 14:59:55.000    0.113530\n",
        "2015-12-31 14:59:55.250    0.160091\n",
        "2015-12-31 14:59:55.500    0.069244\n",
        "2015-12-31 14:59:55.750    0.069244\n",
        "2015-12-31 14:59:56.000    0.059617\n",
        "2015-12-31 14:59:56.250   -0.047820\n",
        "2015-12-31 14:59:56.500    0.007813\n",
        "2015-12-31 14:59:56.750    0.023072\n",
        "2015-12-31 14:59:57.000    0.007813\n",
        "2015-12-31 14:59:57.250   -0.035289\n",
        "2015-12-31 14:59:57.500   -0.033953\n",
        "2015-12-31 14:59:57.750   -0.003433\n",
        "2015-12-31 14:59:58.000   -0.087537\n",
        "2015-12-31 14:59:58.250   -0.129145\n",
        "2015-12-31 14:59:58.500   -0.014633\n",
        "2015-12-31 14:59:58.750    0.017691\n",
        "2015-12-31 14:59:59.000    0.013268\n",
        "2015-12-31 14:59:59.250    0.106635\n",
        "2015-12-31 14:59:59.500   -0.009263\n",
        "2015-12-31 14:59:59.750   -0.017012\n",
        "2015-12-31 15:00:00.000   -0.039365\n",
        "dtype: float64"
       ]
      }
     ],
     "prompt_number": 68
    },
    {
     "cell_type": "code",
     "collapsed": false,
     "input": [
      "fig, ax = plt.subplots()\n",
      "fig = sm.graphics.plot_fit(res, res.model.exog_names[1], ax=ax)\n",
      "fig.show()"
     ],
     "language": "python",
     "metadata": {},
     "outputs": [
      {
       "output_type": "stream",
       "stream": "stderr",
       "text": [
        "/usr/lib/pymodules/python2.7/matplotlib/figure.py:371: UserWarning: matplotlib is currently using a non-GUI backend, so cannot show the figure\n",
        "  \"matplotlib is currently using a non-GUI backend, \"\n",
        "/usr/lib/pymodules/python2.7/matplotlib/collections.py:548: FutureWarning: elementwise comparison failed; returning scalar instead, but in the future will perform elementwise comparison\n",
        "  if self._edgecolors == 'face':\n"
       ]
      },
      {
       "metadata": {},
       "output_type": "display_data",
       "png": "[encoded data removed]",
       "text": [
        "<matplotlib.figure.Figure at 0x7f46a554d6d0>"
       ]
      }
     ],
     "prompt_number": 47
    },
    {
     "cell_type": "markdown",
     "metadata": {},
     "source": [
      "### TOtallotINDICATOR"
     ]
    },
    {
     "cell_type": "code",
     "collapsed": false,
     "input": [
      "def Normalize(ser):\n",
      "    mx = ser.max()\n",
      "    mn = ser.min()\n",
      "    ret = (ser - mn + .01) / (mx + mn - .001)\n",
      "    return ret"
     ],
     "language": "python",
     "metadata": {},
     "outputs": [],
     "prompt_number": 17
    },
    {
     "cell_type": "code",
     "collapsed": false,
     "input": [
      "def Standardize(ser):\n",
      "    mystd = ser.std()\n",
      "    mymean = ser.mean()\n",
      "    ret = (ser - mymean) / mystd\n",
      "    return ret"
     ],
     "language": "python",
     "metadata": {},
     "outputs": [],
     "prompt_number": 18
    },
    {
     "cell_type": "code",
     "collapsed": false,
     "input": [
      "def PowerTrans(ser, power):\n",
      "    condi = np.where(ser > 0, 1, -1)\n",
      "    ret = np.power(np.abs(ser), power) * condi\n",
      "    return ret"
     ],
     "language": "python",
     "metadata": {},
     "outputs": [],
     "prompt_number": 19
    },
    {
     "cell_type": "code",
     "collapsed": false,
     "input": [
      "def NormDiffMean(df, halfwindow=15, method='ewma'):\n",
      "    '''\n",
      "    mean_arr:\n",
      "    row 0 is keys\n",
      "    row 1 are mean Qty\n",
      "    '''\n",
      "    df2 = Normalize(df)\n",
      "    df2 = np.log(df2)\n",
      "    df2 = df2.diff()\n",
      "    if df2.ndim > 1:\n",
      "        df2 = df2.mean(axis=1, skipna=True)\n",
      "    if method == 'ewma':\n",
      "        roll = df2.ewm(halflife=halfwindow)\n",
      "    elif method == 'sma':\n",
      "        roll = df2.rolling(window=halfwindow)\n",
      "    else:\n",
      "        print 'ERROR!'\n",
      "    ret = roll.mean()\n",
      "    return ret"
     ],
     "language": "python",
     "metadata": {},
     "outputs": [],
     "prompt_number": 31
    },
    {
     "cell_type": "code",
     "collapsed": false,
     "input": [
      "temp = NormDiffMean(ta.ix[:, 'TotalBidLot'], 15) - NormDiffMean(ta.ix[:, 'TotalAskLot'], 15)\n",
      "#temp = temp[ta_pm.index].dropna()\n",
      "NormDiffMean(temp).hist(bins=100)"
     ],
     "language": "python",
     "metadata": {},
     "outputs": [
      {
       "metadata": {},
       "output_type": "pyout",
       "prompt_number": 37,
       "text": [
        "<matplotlib.axes.AxesSubplot at 0x7f46a5fa0310>"
       ]
      },
      {
       "metadata": {},
       "output_type": "display_data",
       "png": "[encoded data removed]",
       "text": [
        "<matplotlib.figure.Figure at 0x7f46a582e050>"
       ]
      }
     ],
     "prompt_number": 37
    },
    {
     "cell_type": "code",
     "collapsed": false,
     "input": [
      "fig = plt.figure(figsize=(16,8))\n",
      "ax1 = fig.add_subplot(121)\n",
      "ax2 = fig.add_subplot(122)\n",
      "NormDiffMean(ta.ix[:, 'TotalBidLot'], 15).hist(ax=ax1)\n",
      "NormDiffMean(ta.ix[:, 'TotalAskLot'], 15).hist(ax=ax2)"
     ],
     "language": "python",
     "metadata": {},
     "outputs": [
      {
       "metadata": {},
       "output_type": "pyout",
       "prompt_number": 35,
       "text": [
        "<matplotlib.axes.AxesSubplot at 0x7f46a52955d0>"
       ]
      },
      {
       "metadata": {},
       "output_type": "display_data",
       "png": "[encoded data removed]",
       "text": [
        "<matplotlib.figure.Figure at 0x7f46a5f496d0>"
       ]
      }
     ],
     "prompt_number": 35
    },
    {
     "cell_type": "code",
     "collapsed": false,
     "input": [
      "fig = plt.figure(figsize=(16,8))\n",
      "ax1 = fig.add_subplot(121)\n",
      "ax2 = fig.add_subplot(122)\n",
      "ta.ix[:, 'TotalBidLot'].hist(ax=ax1)\n",
      "ta.ix[:, 'TotalAskLot'].hist(ax=ax2)"
     ],
     "language": "python",
     "metadata": {},
     "outputs": [
      {
       "metadata": {},
       "output_type": "pyout",
       "prompt_number": 86,
       "text": [
        "<matplotlib.axes.AxesSubplot at 0x7fc0659aafd0>"
       ]
      },
      {
       "metadata": {},
       "output_type": "display_data",
       "png": "[encoded data removed]",
       "text": [
        "<matplotlib.figure.Figure at 0x7fc065c6d990>"
       ]
      }
     ],
     "prompt_number": 86
    },
    {
     "cell_type": "code",
     "collapsed": false,
     "input": [
      "ta.ix[:, 'TotalBidLot'].describe()"
     ],
     "language": "python",
     "metadata": {},
     "outputs": [
      {
       "metadata": {},
       "output_type": "pyout",
       "prompt_number": 76,
       "text": [
        "count    2.700120e+06\n",
        "mean     4.558636e+04\n",
        "std      1.672607e+04\n",
        "min      0.000000e+00\n",
        "25%      3.189700e+04\n",
        "50%      4.357200e+04\n",
        "75%      5.826400e+04\n",
        "max      8.950600e+04\n",
        "Name: TotalBidLot, dtype: float64"
       ]
      }
     ],
     "prompt_number": 76
    },
    {
     "cell_type": "code",
     "collapsed": false,
     "input": [
      "insample_index0, outsample_index0 = GiveMeIndex([[0,2], [4, 6], [8, 10], [14, 16], [18,20], [22, 24], [26,28]],\n",
      "                                               [[2, 4], [6, 8], [12, 14], [16, 18], [20,22], [24, 26], [28,30]])\n",
      "insample_index1, outsample_index1 = GiveMeIndex([[0, 12], [14,20]], [[20, 25]])\n",
      "insample_index2, outsample_index2 = GiveMeIndex([[5, 25]], [[0, 5]])\n",
      "insample_index3, outsample_index3 = GiveMeIndex([[0, 5], [10, 25]], [[5, 10]])\n",
      "insample_index4, outsample_index4 = GiveMeIndex([[0, 10], [15, 25]], [[10, 15]])\n",
      "insample_index5, outsample_index5 = GiveMeIndex([[0, 13]], [[13, 25]])\n",
      "insample_index6, outsample_index6 = GiveMeIndex([[0, 18]], [[18, 25]])\n",
      "# different_io_index = ((insample_index0, outsample_index0), (insample_index1, outsample_index1), \n",
      "#                       (insample_index2, outsample_index2), (insample_index3, outsample_index3),\n",
      "#                       (insample_index4, outsample_index4), (insample_index5, outsample_index5))\n",
      "insample_index00, outsample_index00 = GiveMeIndex([[0, 20]],\n",
      "                                               [[25, 30]])"
     ],
     "language": "python",
     "metadata": {},
     "outputs": [],
     "prompt_number": 23
    },
    {
     "cell_type": "code",
     "collapsed": false,
     "input": [
      "import statsmodels.api as sm\n",
      "import matplotlib.pyplot as plt\n",
      "def myols(ser, pm, norm=False):\n",
      "    '''\n",
      "    ser is indicator Series\n",
      "    pm is Price move Series\n",
      "    sm is satatsmodel module\n",
      "    this function also automatically align index of df and pm\n",
      "    '''\n",
      "    global sm\n",
      "    ser = ser[pm.index]\n",
      "    ser = ser.dropna()\n",
      "    if norm:\n",
      "        ser = (ser - ser.mean()) / ser.std()\n",
      "    X = sm.add_constant(ser)\n",
      "    Y = pm[X.index]\n",
      "    model = sm.OLS(Y, X)\n",
      "    ret = model.fit()\n",
      "    return ret\n",
      "\n",
      "def Rsquare(y, yhat):\n",
      "    # ret = 1 - (y-yhat).var() / y.var()\n",
      "    ret = 1 - ((y-yhat)**2).mean() / y.var()\n",
      "    return ret\n",
      "\n",
      "def PredictedRsquare(res, xnew, pm):\n",
      "    '''\n",
      "    pm: outsample price move Series\n",
      "    xnew: indicator Series (or DataFrame)\n",
      "    res: insample regression results (comes from statsmodel's model.fit() )\n",
      "    '''\n",
      "    # first we need to align xnew with outsample\n",
      "    xnew = xnew[pm.index]\n",
      "    xnew = xnew.dropna()\n",
      "    y = pm[xnew.index]\n",
      "    \n",
      "    xnew = sm.add_constant(xnew)\n",
      "    ynew = res.predict(xnew)\n",
      "    rsq = Rsquare(y, ynew)\n",
      "    return ynew, rsq\n",
      "\n",
      "def PlotFit(fitres):\n",
      "    fig, ax = plt.subplots()\n",
      "    fig = sm.graphics.plot_fit(fitres, fitres.model.exog_names[1], ax=ax)\n",
      "    fig.show()\n",
      "\n",
      "\n"
     ],
     "language": "python",
     "metadata": {},
     "outputs": [],
     "prompt_number": 28
    },
    {
     "cell_type": "code",
     "collapsed": false,
     "input": [
      "for mywind in range(5, 30, 5):\n",
      "    totallot_indicator =QtyLogDiffMean(ta.ix[:, 'TotalBidLot'], halfwindow=mywind) \n",
      "    - QtyLogDiffMean(ta.ix[:, 'TotalAskLot'], halfwindow=mywind)\n",
      "    \n",
      "#     totallot_indicator = (QtyLogDiffMean(ta.ix[:, 'TotalBidLot'], halfwindow=windou) \n",
      "#                            - QtyLogDiffMean(ta.ix[:, 'TotalAskLot'], halfwindow=windou))\n",
      "   # totallot_indicator = totallot_indicator[ta_pm].dropna()\n",
      "    totallot_indicator.name = 'totallot_indicator'\n",
      "    for forward_ticks in range(44, 45, 1):\n",
      "        ta_in_pm = GiveMePM(ta, nforward=forward_ticks, nbackward=mywind, lim=insample_index1)\n",
      "        ta_out_pm = GiveMePM(ta, nforward=forward_ticks, nbackward=mywind, lim=outsample_index1)\n",
      "        res = myols(totallot_indicator, ta_in_pm)\n",
      "        print ('\\n\\n\\n------halflife: %d,     forward_ticks: %d ------------' %(mywind, forward_ticks))\n",
      "        print res.summary()\n",
      "        print '\\n[OutSample R_SQUARE: %f]' % (PredictedRsquare(res, totallot_indicator, ta_out_pm))[1]"
     ],
     "language": "python",
     "metadata": {},
     "outputs": [
      {
       "output_type": "stream",
       "stream": "stdout",
       "text": [
        "\n",
        "\n",
        "\n",
        "------halflife: 5,     forward_ticks: 44 ------------\n",
        "                            OLS Regression Results                            \n",
        "==============================================================================\n",
        "Dep. Variable:                 midPrc   R-squared:                       0.003\n",
        "Model:                            OLS   Adj. R-squared:                  0.003\n",
        "Method:                 Least Squares   F-statistic:                     5511.\n",
        "Date:                Sun, 17 Jul 2016   Prob (F-statistic):               0.00\n",
        "Time:                        11:35:17   Log-Likelihood:            -2.8086e+06\n",
        "No. Observations:             1612062   AIC:                         5.617e+06\n",
        "Df Residuals:                 1612060   BIC:                         5.617e+06\n",
        "Df Model:                           1                                         \n",
        "======================================================================================\n",
        "                         coef    std err          t      P>|t|      [95.0% Conf. Int.]\n",
        "--------------------------------------------------------------------------------------\n",
        "const                  0.0035      0.001      3.189      0.001         0.001     0.006\n",
        "totallot_indicator   155.2199      2.091     74.238      0.000       151.122   159.318\n",
        "==============================================================================\n",
        "Omnibus:                   608914.445   Durbin-Watson:                   0.085\n",
        "Prob(Omnibus):                  0.000   Jarque-Bera (JB):        135465283.861\n",
        "Skew:                           0.638   Prob(JB):                         0.00\n",
        "Kurtosis:                      47.890   Cond. No.                     1.92e+03\n",
        "==============================================================================\n",
        "\n",
        "Warnings:\n",
        "[1] The condition number is large, 1.92e+03. This might indicate that there are\n",
        "strong multicollinearity or other numerical problems."
       ]
      },
      {
       "output_type": "stream",
       "stream": "stdout",
       "text": [
        "\n",
        "\n",
        "[OutSample R_SQUARE: -0.000107]"
       ]
      },
      {
       "output_type": "stream",
       "stream": "stdout",
       "text": [
        "\n",
        "\n",
        "\n",
        "\n",
        "------halflife: 10,     forward_ticks: 44 ------------"
       ]
      },
      {
       "output_type": "stream",
       "stream": "stdout",
       "text": [
        "\n",
        "                            OLS Regression Results                            \n",
        "==============================================================================\n",
        "Dep. Variable:                 midPrc   R-squared:                       0.004\n",
        "Model:                            OLS   Adj. R-squared:                  0.004\n",
        "Method:                 Least Squares   F-statistic:                     6723.\n",
        "Date:                Sun, 17 Jul 2016   Prob (F-statistic):               0.00\n",
        "Time:                        11:35:26   Log-Likelihood:            -2.8080e+06\n",
        "No. Observations:             1612062   AIC:                         5.616e+06\n",
        "Df Residuals:                 1612060   BIC:                         5.616e+06\n",
        "Df Model:                           1                                         \n",
        "======================================================================================\n",
        "                         coef    std err          t      P>|t|      [95.0% Conf. Int.]\n",
        "--------------------------------------------------------------------------------------\n",
        "const                  0.0024      0.001      2.237      0.025         0.000     0.005\n",
        "totallot_indicator   231.0883      2.818     81.996      0.000       225.564   236.612\n",
        "==============================================================================\n",
        "Omnibus:                   610401.057   Durbin-Watson:                   0.084\n",
        "Prob(Omnibus):                  0.000   Jarque-Bera (JB):        135548141.646\n",
        "Skew:                           0.644   Prob(JB):                         0.00\n",
        "Kurtosis:                      47.904   Cond. No.                     2.59e+03\n",
        "==============================================================================\n",
        "\n",
        "Warnings:\n",
        "[1] The condition number is large, 2.59e+03. This might indicate that there are\n",
        "strong multicollinearity or other numerical problems."
       ]
      },
      {
       "output_type": "stream",
       "stream": "stdout",
       "text": [
        "\n",
        "\n",
        "[OutSample R_SQUARE: -0.000413]"
       ]
      },
      {
       "output_type": "stream",
       "stream": "stdout",
       "text": [
        "\n",
        "\n",
        "\n",
        "\n",
        "------halflife: 15,     forward_ticks: 44 ------------"
       ]
      },
      {
       "output_type": "stream",
       "stream": "stdout",
       "text": [
        "\n",
        "                            OLS Regression Results                            \n",
        "==============================================================================\n",
        "Dep. Variable:                 midPrc   R-squared:                       0.004\n",
        "Model:                            OLS   Adj. R-squared:                  0.004\n",
        "Method:                 Least Squares   F-statistic:                     7070.\n",
        "Date:                Sun, 17 Jul 2016   Prob (F-statistic):               0.00\n",
        "Time:                        11:35:34   Log-Likelihood:            -2.8078e+06\n",
        "No. Observations:             1612062   AIC:                         5.616e+06\n",
        "Df Residuals:                 1612060   BIC:                         5.616e+06\n",
        "Df Model:                           1                                         \n",
        "======================================================================================\n",
        "                         coef    std err          t      P>|t|      [95.0% Conf. Int.]\n",
        "--------------------------------------------------------------------------------------\n",
        "const                  0.0017      0.001      1.602      0.109        -0.000     0.004\n",
        "totallot_indicator   280.8695      3.340     84.082      0.000       274.322   287.417\n",
        "==============================================================================\n",
        "Omnibus:                   610844.146   Durbin-Watson:                   0.084\n",
        "Prob(Omnibus):                  0.000   Jarque-Bera (JB):        135575904.728\n",
        "Skew:                           0.645   Prob(JB):                         0.00\n",
        "Kurtosis:                      47.908   Cond. No.                     3.07e+03\n",
        "==============================================================================\n",
        "\n",
        "Warnings:\n",
        "[1] The condition number is large, 3.07e+03. This might indicate that there are\n",
        "strong multicollinearity or other numerical problems."
       ]
      },
      {
       "output_type": "stream",
       "stream": "stdout",
       "text": [
        "\n",
        "\n",
        "[OutSample R_SQUARE: -0.000459]"
       ]
      },
      {
       "output_type": "stream",
       "stream": "stdout",
       "text": [
        "\n",
        "\n",
        "\n",
        "\n",
        "------halflife: 20,     forward_ticks: 44 ------------"
       ]
      },
      {
       "output_type": "stream",
       "stream": "stdout",
       "text": [
        "\n",
        "                            OLS Regression Results                            \n",
        "==============================================================================\n",
        "Dep. Variable:                 midPrc   R-squared:                       0.004\n",
        "Model:                            OLS   Adj. R-squared:                  0.004\n",
        "Method:                 Least Squares   F-statistic:                     7079.\n",
        "Date:                Sun, 17 Jul 2016   Prob (F-statistic):               0.00\n",
        "Time:                        11:35:43   Log-Likelihood:            -2.8078e+06\n",
        "No. Observations:             1612062   AIC:                         5.616e+06\n",
        "Df Residuals:                 1612060   BIC:                         5.616e+06\n",
        "Df Model:                           1                                         \n",
        "======================================================================================\n",
        "                         coef    std err          t      P>|t|      [95.0% Conf. Int.]\n",
        "--------------------------------------------------------------------------------------\n",
        "const                  0.0012      0.001      1.139      0.255        -0.001     0.003\n",
        "totallot_indicator   316.7386      3.765     84.138      0.000       309.360   324.117\n",
        "==============================================================================\n",
        "Omnibus:                   610870.805   Durbin-Watson:                   0.084\n",
        "Prob(Omnibus):                  0.000   Jarque-Bera (JB):        135552880.987\n",
        "Skew:                           0.645   Prob(JB):                         0.00\n",
        "Kurtosis:                      47.904   Cond. No.                     3.46e+03\n",
        "==============================================================================\n",
        "\n",
        "Warnings:\n",
        "[1] The condition number is large, 3.46e+03. This might indicate that there are\n",
        "strong multicollinearity or other numerical problems."
       ]
      },
      {
       "output_type": "stream",
       "stream": "stdout",
       "text": [
        "\n",
        "\n",
        "[OutSample R_SQUARE: -0.000459]"
       ]
      },
      {
       "output_type": "stream",
       "stream": "stdout",
       "text": [
        "\n",
        "\n",
        "\n",
        "\n",
        "------halflife: 25,     forward_ticks: 44 ------------"
       ]
      },
      {
       "output_type": "stream",
       "stream": "stdout",
       "text": [
        "\n",
        "                            OLS Regression Results                            \n",
        "==============================================================================\n",
        "Dep. Variable:                 midPrc   R-squared:                       0.004\n",
        "Model:                            OLS   Adj. R-squared:                  0.004\n",
        "Method:                 Least Squares   F-statistic:                     6936.\n",
        "Date:                Sun, 17 Jul 2016   Prob (F-statistic):               0.00\n",
        "Time:                        11:35:52   Log-Likelihood:            -2.8079e+06\n",
        "No. Observations:             1612062   AIC:                         5.616e+06\n",
        "Df Residuals:                 1612060   BIC:                         5.616e+06\n",
        "Df Model:                           1                                         \n",
        "======================================================================================\n",
        "                         coef    std err          t      P>|t|      [95.0% Conf. Int.]\n",
        "--------------------------------------------------------------------------------------\n",
        "const                  0.0009      0.001      0.789      0.430        -0.001     0.003\n",
        "totallot_indicator   343.9778      4.130     83.283      0.000       335.883   352.073\n",
        "==============================================================================\n",
        "Omnibus:                   610729.860   Durbin-Watson:                   0.084\n",
        "Prob(Omnibus):                  0.000   Jarque-Bera (JB):        135512148.997\n",
        "Skew:                           0.645   Prob(JB):                         0.00\n",
        "Kurtosis:                      47.898   Cond. No.                     3.80e+03\n",
        "==============================================================================\n",
        "\n",
        "Warnings:\n",
        "[1] The condition number is large, 3.8e+03. This might indicate that there are\n",
        "strong multicollinearity or other numerical problems."
       ]
      },
      {
       "output_type": "stream",
       "stream": "stdout",
       "text": [
        "\n",
        "\n",
        "[OutSample R_SQUARE: -0.000459]"
       ]
      },
      {
       "output_type": "stream",
       "stream": "stdout",
       "text": [
        "\n"
       ]
      }
     ],
     "prompt_number": 38
    },
    {
     "cell_type": "code",
     "collapsed": false,
     "input": [
      "fig, ax = plt.subplots()\n",
      "fig = sm.graphics.plot_fit(res, res.model.exog_names[1], ax=ax)"
     ],
     "language": "python",
     "metadata": {},
     "outputs": [
      {
       "output_type": "stream",
       "stream": "stderr",
       "text": [
        "/usr/lib/pymodules/python2.7/matplotlib/collections.py:548: FutureWarning: elementwise comparison failed; returning scalar instead, but in the future will perform elementwise comparison\n",
        "  if self._edgecolors == 'face':\n"
       ]
      },
      {
       "metadata": {},
       "output_type": "display_data",
       "png": "[encoded data removed]",
       "text": [
        "<matplotlib.figure.Figure at 0x7fc06cb26550>"
       ]
      }
     ],
     "prompt_number": 63
    },
    {
     "cell_type": "markdown",
     "metadata": {},
     "source": [
      "# check the distribution of indicator"
     ]
    },
    {
     "cell_type": "code",
     "collapsed": false,
     "input": [
      "totallot_indicator.describe()"
     ],
     "language": "python",
     "metadata": {},
     "outputs": [
      {
       "metadata": {},
       "output_type": "pyout",
       "prompt_number": 69,
       "text": [
        "count    2.700119e+06\n",
        "mean    -3.549160e-04\n",
        "std      1.086576e-02\n",
        "min     -4.168572e-01\n",
        "25%     -1.137495e-04\n",
        "50%     -2.959191e-07\n",
        "75%      1.126383e-04\n",
        "max      3.923453e+00\n",
        "Name: totallot_indicator, dtype: float64"
       ]
      }
     ],
     "prompt_number": 69
    },
    {
     "cell_type": "code",
     "collapsed": false,
     "input": [
      "totallot_indicator.hist(bins=100)"
     ],
     "language": "python",
     "metadata": {},
     "outputs": [
      {
       "metadata": {},
       "output_type": "pyout",
       "prompt_number": 30,
       "text": [
        "<matplotlib.axes.AxesSubplot at 0x7f46a5dc9ad0>"
       ]
      },
      {
       "metadata": {},
       "output_type": "display_data",
       "png": "[encoded data removed]",
       "text": [
        "<matplotlib.figure.Figure at 0x7f46a5be24d0>"
       ]
      }
     ],
     "prompt_number": 30
    },
    {
     "cell_type": "code",
     "collapsed": false,
     "input": [
      "ta_pm = ForwardDiff(ta.ix[:, 'last'], forward_ticks)"
     ],
     "language": "python",
     "metadata": {},
     "outputs": [],
     "prompt_number": 58
    },
    {
     "cell_type": "code",
     "collapsed": false,
     "input": [
      "roll = ta.ix[:, 'last'].rolling(window=80000)"
     ],
     "language": "python",
     "metadata": {},
     "outputs": [],
     "prompt_number": 185
    },
    {
     "cell_type": "code",
     "collapsed": false,
     "input": [
      "temp = roll.std()"
     ],
     "language": "python",
     "metadata": {},
     "outputs": [],
     "prompt_number": 186
    },
    {
     "cell_type": "code",
     "collapsed": false,
     "input": [
      "plt.plot(temp)"
     ],
     "language": "python",
     "metadata": {},
     "outputs": [
      {
       "metadata": {},
       "output_type": "pyout",
       "prompt_number": 188,
       "text": [
        "[<matplotlib.lines.Line2D at 0x7ffd0b107790>]"
       ]
      },
      {
       "metadata": {},
       "output_type": "display_data",
       "png": "[encoded data removed]",
       "text": [
        "<matplotlib.figure.Figure at 0x7ffd31501790>"
       ]
      }
     ],
     "prompt_number": 188
    },
    {
     "cell_type": "code",
     "collapsed": false,
     "input": [
      "plt.plot(res.resid)"
     ],
     "language": "python",
     "metadata": {},
     "outputs": [
      {
       "metadata": {},
       "output_type": "pyout",
       "prompt_number": 189,
       "text": [
        "[<matplotlib.lines.Line2D at 0x7ffd0b97e090>]"
       ]
      },
      {
       "metadata": {},
       "output_type": "display_data",
       "png": "[encoded data removed]",
       "text": [
        "<matplotlib.figure.Figure at 0x7ffd315c9e90>"
       ]
      }
     ],
     "prompt_number": 189
    },
    {
     "cell_type": "code",
     "collapsed": false,
     "input": [
      "%matplotlib inline"
     ],
     "language": "python",
     "metadata": {},
     "outputs": [],
     "prompt_number": 309
    },
    {
     "cell_type": "code",
     "collapsed": false,
     "input": [
      "qty_indicator.hist(bins=np.arange(-.01005, .01005, .0001))"
     ],
     "language": "python",
     "metadata": {},
     "outputs": [
      {
       "metadata": {},
       "output_type": "pyout",
       "prompt_number": 26,
       "text": [
        "<matplotlib.axes.AxesSubplot at 0x7f4a98a95750>"
       ]
      },
      {
       "metadata": {},
       "output_type": "display_data",
       "png": "[encoded data removed]",
       "text": [
        "<matplotlib.figure.Figure at 0x7f4a9951bf90>"
       ]
      }
     ],
     "prompt_number": 26
    },
    {
     "cell_type": "markdown",
     "metadata": {},
     "source": [
      "## Using Power transformation to adjust the distribution of indicator"
     ]
    },
    {
     "cell_type": "code",
     "collapsed": false,
     "input": [
      "def PowerTrans(ser, power):\n",
      "condi = np.where(ser > 0, 1, -1)\n",
      "indicator_power = np.power(np.abs(power),power) * condi"
     ],
     "language": "python",
     "metadata": {},
     "outputs": [],
     "prompt_number": 136
    },
    {
     "cell_type": "code",
     "collapsed": false,
     "input": [
      "indicator_power = np.power(np.abs(totallot_indicator), 1.05) * condi"
     ],
     "language": "python",
     "metadata": {},
     "outputs": [],
     "prompt_number": 169
    },
    {
     "cell_type": "code",
     "collapsed": false,
     "input": [
      "indicator_power.hist(bins=np.arange(-.01005, .01005, .0001))"
     ],
     "language": "python",
     "metadata": {},
     "outputs": [
      {
       "metadata": {},
       "output_type": "pyout",
       "prompt_number": 171,
       "text": [
        "<matplotlib.axes.AxesSubplot at 0x7ffd0c00b590>"
       ]
      },
      {
       "metadata": {},
       "output_type": "display_data",
       "png": "[encoded data removed]",
       "text": [
        "<matplotlib.figure.Figure at 0x7ffd0d489710>"
       ]
      }
     ],
     "prompt_number": 171
    },
    {
     "cell_type": "code",
     "collapsed": false,
     "input": [
      "qty_indicator.hist(bins=np.arange(-0.505, 0.505, .01), color='lightyellow')"
     ],
     "language": "python",
     "metadata": {},
     "outputs": [
      {
       "metadata": {},
       "output_type": "pyout",
       "prompt_number": 53,
       "text": [
        "<matplotlib.axes.AxesSubplot at 0x7ff354b3e890>"
       ]
      },
      {
       "metadata": {},
       "output_type": "display_data",
       "png": "[encoded data removed]",
       "text": [
        "<matplotlib.figure.Figure at 0x7ff354b4fd90>"
       ]
      }
     ],
     "prompt_number": 53
    },
    {
     "cell_type": "markdown",
     "metadata": {},
     "source": [
      "# Boolinger bands"
     ]
    },
    {
     "cell_type": "code",
     "collapsed": false,
     "input": [
      "def BoolingerIndicator(df, window=33):\n",
      "    mid_roll = df.ix[:, 'midPrc'].rolling(window=200)\n",
      "    mymean = mid_roll.mean()\n",
      "    mystd =mid_roll.std()\n",
      "    ret = mymean - df.ix[:, 'midPrc']) / mystd\n",
      "    "
     ],
     "language": "python",
     "metadata": {},
     "outputs": []
    },
    {
     "cell_type": "code",
     "collapsed": false,
     "input": [
      "temp = pd.Series(data=None, index=[0,1,2,3])\n",
      "temp.fillna(value=0.)"
     ],
     "language": "python",
     "metadata": {},
     "outputs": [
      {
       "metadata": {},
       "output_type": "pyout",
       "prompt_number": 110,
       "text": [
        "0    0.0\n",
        "1    0.0\n",
        "2    0.0\n",
        "3    0.0\n",
        "dtype: float64"
       ]
      }
     ],
     "prompt_number": 110
    },
    {
     "cell_type": "code",
     "collapsed": false,
     "input": [
      "def LWAP(df, level=4):\n",
      "    fenzi = pd.Series(data=None, index=df.index)\n",
      "    fenzi = fenzi.fillna(value=0.)\n",
      "    fenmu = pd.Series(data=None, index=df.index)\n",
      "    fenmu = fenmu.fillna(value=0.)\n",
      "    for i in range(level):\n",
      "        s1 = 'bidPrc_' + str(i)\n",
      "        s2 = 'askPrc_' + str(i)\n",
      "        s3 = 'bidQty_' + str(i)\n",
      "        s4 = 'askQty_' + str(i)\n",
      "        fenzi += df[s1] * df[s3] + df[s2] * df[s4]\n",
      "        fenmu += df[s3] + df[s4]\n",
      "    lwap = fenzi/fenmu\n",
      "    lwap.name = 'lwap_indicator'\n",
      "#     indicator = \n",
      "    return lwap"
     ],
     "language": "python",
     "metadata": {},
     "outputs": [],
     "prompt_number": 119
    },
    {
     "cell_type": "code",
     "collapsed": false,
     "input": [
      "lwap = LWAP(ta)"
     ],
     "language": "python",
     "metadata": {},
     "outputs": [],
     "prompt_number": 137
    },
    {
     "cell_type": "code",
     "collapsed": false,
     "input": [
      "temp = lwap - ta['midPrc']\n",
      "#temp = temp[selected_arr]"
     ],
     "language": "python",
     "metadata": {},
     "outputs": [],
     "prompt_number": 138
    },
    {
     "cell_type": "code",
     "collapsed": false,
     "input": [
      "selected_arr = CuthlLimit(ta, 44, 10, depth=4)"
     ],
     "language": "python",
     "metadata": {},
     "outputs": [],
     "prompt_number": 198
    },
    {
     "cell_type": "code",
     "collapsed": false,
     "input": [
      "plt.plot(temp[selected_arr])\n",
      "plt.figure()\n",
      "temp[selected_arr].hist(bins=200)"
     ],
     "language": "python",
     "metadata": {},
     "outputs": [
      {
       "metadata": {},
       "output_type": "pyout",
       "prompt_number": 194,
       "text": [
        "<matplotlib.axes.AxesSubplot at 0x7f4654b24190>"
       ]
      },
      {
       "metadata": {},
       "output_type": "display_data",
       "png": "[encoded data removed]",
       "text": [
        "<matplotlib.figure.Figure at 0x7f4655018110>"
       ]
      },
      {
       "metadata": {},
       "output_type": "display_data",
       "png": "[encoded data removed]",
       "text": [
        "<matplotlib.figure.Figure at 0x7f465643c2d0>"
       ]
      }
     ],
     "prompt_number": 194
    },
    {
     "cell_type": "code",
     "collapsed": false,
     "input": [
      "plt.plot((ta.ix[:, 'bidPrc_4'] - ta.ix[:, 'bidPrc_0'])[selected_arr])\n",
      "plt.figure()\n",
      "plt.hist((ta.ix[:, 'bidPrc_4'] - ta.ix[:, 'bidPrc_0'])[selected_arr])"
     ],
     "language": "python",
     "metadata": {},
     "outputs": [
      {
       "metadata": {},
       "output_type": "pyout",
       "prompt_number": 200,
       "text": [
        "(array([  1.00000000e+00,   0.00000000e+00,   3.00000000e+00,\n",
        "         0.00000000e+00,   0.00000000e+00,   3.10000000e+01,\n",
        "         0.00000000e+00,   4.39000000e+02,   0.00000000e+00,\n",
        "         2.68311600e+06]),\n",
        " array([-16. , -15.2, -14.4, -13.6, -12.8, -12. , -11.2, -10.4,  -9.6,\n",
        "        -8.8,  -8. ]),\n",
        " <a list of 10 Patch objects>)"
       ]
      },
      {
       "metadata": {},
       "output_type": "display_data",
       "png": "[encoded data removed]",
       "text": [
        "<matplotlib.figure.Figure at 0x7f465456d950>"
       ]
      },
      {
       "metadata": {},
       "output_type": "display_data",
       "png": "[encoded data removed]",
       "text": [
        "<matplotlib.figure.Figure at 0x7f4654399a50>"
       ]
      }
     ],
     "prompt_number": 200
    },
    {
     "cell_type": "code",
     "collapsed": false,
     "input": [
      "temp1 = np.sign(temp) * np.log(np.abs(temp) + 1)"
     ],
     "language": "python",
     "metadata": {},
     "outputs": [],
     "prompt_number": 176
    },
    {
     "cell_type": "code",
     "collapsed": false,
     "input": [
      "plt.plot(temp1[selected_arr])\n",
      "plt.figure()\n",
      "temp1[selected_arr].hist(bins=50)"
     ],
     "language": "python",
     "metadata": {},
     "outputs": [
      {
       "metadata": {},
       "output_type": "pyout",
       "prompt_number": 175,
       "text": [
        "<matplotlib.axes.AxesSubplot at 0x7f465608bf90>"
       ]
      },
      {
       "metadata": {},
       "output_type": "display_data",
       "png": "[encoded data removed]",
       "text": [
        "<matplotlib.figure.Figure at 0x7f4655db1f10>"
       ]
      },
      {
       "metadata": {},
       "output_type": "display_data",
       "png": "[encoded data removed]",
       "text": [
        "<matplotlib.figure.Figure at 0x7f46563592d0>"
       ]
      }
     ],
     "prompt_number": 175
    },
    {
     "cell_type": "code",
     "collapsed": false,
     "input": [
      "temp2 = np.where(np.abs(temp) > 1, np.sign(temp) * np.log(np.abs(temp)), temp)\n"
     ],
     "language": "python",
     "metadata": {},
     "outputs": [],
     "prompt_number": 184
    },
    {
     "cell_type": "code",
     "collapsed": false,
     "input": [
      "temp2[selected_arr]"
     ],
     "language": "python",
     "metadata": {},
     "outputs": [
      {
       "metadata": {},
       "output_type": "pyout",
       "prompt_number": 190,
       "text": [
        "array([-0.07307692, -0.07307692, -0.07307692, ..., -0.07307692,\n",
        "       -0.07307692, -0.07307692])"
       ]
      }
     ],
     "prompt_number": 190
    },
    {
     "cell_type": "code",
     "collapsed": false,
     "input": [
      "plt.plot(temp2)\n",
      "plt.figure()\n",
      "plt.hist(temp2, bins=100)"
     ],
     "language": "python",
     "metadata": {},
     "outputs": [
      {
       "metadata": {},
       "output_type": "pyout",
       "prompt_number": 193,
       "text": [
        "(array([  1.10000000e+01,   2.94000000e+02,   3.68300000e+03,\n",
        "         1.38990000e+04,   1.92340000e+04,   2.46640000e+04,\n",
        "         4.40810000e+04,   4.68020000e+04,   5.62610000e+04,\n",
        "         5.55430000e+04,   1.06975000e+05,   1.15086000e+05,\n",
        "         1.22516000e+05,   1.15142000e+05,   1.09652000e+05,\n",
        "         9.66190000e+04,   9.46790000e+04,   9.50350000e+04,\n",
        "         8.77130000e+04,   9.46230000e+04,   8.86780000e+04,\n",
        "         8.86030000e+04,   9.54420000e+04,   9.84320000e+04,\n",
        "         1.04834000e+05,   1.09023000e+05,   1.22273000e+05,\n",
        "         1.25661000e+05,   1.16100000e+05,   1.09326000e+05,\n",
        "         1.11775000e+05,   6.80870000e+04,   5.25300000e+04,\n",
        "         3.79070000e+04,   2.46790000e+04,   1.82240000e+04,\n",
        "         1.21080000e+04,   9.13200000e+03,   7.42000000e+02,\n",
        "         1.60000000e+02,   3.00000000e+01,   0.00000000e+00,\n",
        "         2.00000000e+00,   1.00000000e+00,   1.00000000e+00,\n",
        "         0.00000000e+00,   0.00000000e+00,   0.00000000e+00,\n",
        "         0.00000000e+00,   0.00000000e+00,   0.00000000e+00,\n",
        "         0.00000000e+00,   0.00000000e+00,   0.00000000e+00,\n",
        "         0.00000000e+00,   0.00000000e+00,   0.00000000e+00,\n",
        "         0.00000000e+00,   0.00000000e+00,   0.00000000e+00,\n",
        "         0.00000000e+00,   0.00000000e+00,   0.00000000e+00,\n",
        "         0.00000000e+00,   0.00000000e+00,   0.00000000e+00,\n",
        "         0.00000000e+00,   0.00000000e+00,   0.00000000e+00,\n",
        "         0.00000000e+00,   0.00000000e+00,   0.00000000e+00,\n",
        "         0.00000000e+00,   0.00000000e+00,   0.00000000e+00,\n",
        "         0.00000000e+00,   0.00000000e+00,   0.00000000e+00,\n",
        "         0.00000000e+00,   0.00000000e+00,   0.00000000e+00,\n",
        "         0.00000000e+00,   0.00000000e+00,   0.00000000e+00,\n",
        "         0.00000000e+00,   0.00000000e+00,   0.00000000e+00,\n",
        "         0.00000000e+00,   0.00000000e+00,   0.00000000e+00,\n",
        "         0.00000000e+00,   0.00000000e+00,   0.00000000e+00,\n",
        "         0.00000000e+00,   0.00000000e+00,   0.00000000e+00,\n",
        "         0.00000000e+00,   0.00000000e+00,   0.00000000e+00,\n",
        "         3.85800000e+03]),\n",
        " array([-1.98786188, -1.89124058, -1.79461928, -1.69799798, -1.60137668,\n",
        "       -1.50475538, -1.40813408, -1.31151278, -1.21489147, -1.11827017,\n",
        "       -1.02164887, -0.92502757, -0.82840627, -0.73178497, -0.63516367,\n",
        "       -0.53854237, -0.44192107, -0.34529977, -0.24867846, -0.15205716,\n",
        "       -0.05543586,  0.04118544,  0.13780674,  0.23442804,  0.33104934,\n",
        "        0.42767064,  0.52429194,  0.62091325,  0.71753455,  0.81415585,\n",
        "        0.91077715,  1.00739845,  1.10401975,  1.20064105,  1.29726235,\n",
        "        1.39388365,  1.49050495,  1.58712626,  1.68374756,  1.78036886,\n",
        "        1.87699016,  1.97361146,  2.07023276,  2.16685406,  2.26347536,\n",
        "        2.36009666,  2.45671797,  2.55333927,  2.64996057,  2.74658187,\n",
        "        2.84320317,  2.93982447,  3.03644577,  3.13306707,  3.22968837,\n",
        "        3.32630967,  3.42293098,  3.51955228,  3.61617358,  3.71279488,\n",
        "        3.80941618,  3.90603748,  4.00265878,  4.09928008,  4.19590138,\n",
        "        4.29252269,  4.38914399,  4.48576529,  4.58238659,  4.67900789,\n",
        "        4.77562919,  4.87225049,  4.96887179,  5.06549309,  5.16211439,\n",
        "        5.2587357 ,  5.355357  ,  5.4519783 ,  5.5485996 ,  5.6452209 ,\n",
        "        5.7418422 ,  5.8384635 ,  5.9350848 ,  6.0317061 ,  6.12832741,\n",
        "        6.22494871,  6.32157001,  6.41819131,  6.51481261,  6.61143391,\n",
        "        6.70805521,  6.80467651,  6.90129781,  6.99791912,  7.09454042,\n",
        "        7.19116172,  7.28778302,  7.38440432,  7.48102562,  7.57764692,\n",
        "        7.67426822]),\n",
        " <a list of 100 Patch objects>)"
       ]
      },
      {
       "metadata": {},
       "output_type": "display_data",
       "png": "[encoded data removed]",
       "text": [
        "<matplotlib.figure.Figure at 0x7f465671acd0>"
       ]
      },
      {
       "metadata": {},
       "output_type": "display_data",
       "png": "[encoded data removed]",
       "text": [
        "<matplotlib.figure.Figure at 0x7f4655f8e790>"
       ]
      }
     ],
     "prompt_number": 193
    },
    {
     "cell_type": "code",
     "collapsed": false,
     "input": [
      "for mywind in range(10, 15, 5):\n",
      "    for forward_ticks in range(44, 45, 1):\n",
      "        ta_in_pm = GiveMePM(ta, nforward=forward_ticks, nbackward=mywind, lim=insample_index1)\n",
      "        ta_out_pm = GiveMePM(ta, nforward=forward_ticks, nbackward=mywind, lim=outsample_index1)\n",
      "        res = myols(temp1, ta_in_pm)\n",
      "        print ('\\n\\n\\n------halflife: %d,     forward_ticks: %d ------------' %(mywind, forward_ticks))\n",
      "        print res.summary()\n",
      "        print '\\n[OutSample R_SQUARE: %f]' % (PredictedRsquare(res, temp1, ta_out_pm))[1]"
     ],
     "language": "python",
     "metadata": {},
     "outputs": [
      {
       "output_type": "stream",
       "stream": "stdout",
       "text": [
        "\n",
        "\n",
        "\n",
        "------halflife: 10,     forward_ticks: 44 ------------\n",
        "                            OLS Regression Results                            \n",
        "==============================================================================\n",
        "Dep. Variable:                 midPrc   R-squared:                       0.002\n",
        "Model:                            OLS   Adj. R-squared:                  0.002\n",
        "Method:                 Least Squares   F-statistic:                     2447.\n",
        "Date:                Mon, 18 Jul 2016   Prob (F-statistic):               0.00\n",
        "Time:                        01:53:50   Log-Likelihood:            -2.8101e+06\n",
        "No. Observations:             1612062   AIC:                         5.620e+06\n",
        "Df Residuals:                 1612060   BIC:                         5.620e+06\n",
        "Df Model:                           1                                         \n",
        "==============================================================================\n",
        "                 coef    std err          t      P>|t|      [95.0% Conf. Int.]\n",
        "------------------------------------------------------------------------------\n",
        "const          0.0039      0.001      3.618      0.000         0.002     0.006\n",
        "None          -0.0536      0.001    -49.463      0.000        -0.056    -0.052\n",
        "==============================================================================\n",
        "Omnibus:                   606008.457   Durbin-Watson:                   0.082\n",
        "Prob(Omnibus):                  0.000   Jarque-Bera (JB):        135839676.831\n",
        "Skew:                           0.625   Prob(JB):                         0.00\n",
        "Kurtosis:                      47.953   Cond. No.                         1.03\n",
        "=============================================================================="
       ]
      },
      {
       "output_type": "stream",
       "stream": "stdout",
       "text": [
        "\n",
        "\n",
        "[OutSample R_SQUARE: 0.000994]"
       ]
      },
      {
       "output_type": "stream",
       "stream": "stdout",
       "text": [
        "\n"
       ]
      }
     ],
     "prompt_number": 177
    },
    {
     "cell_type": "code",
     "collapsed": false,
     "input": [
      "plt.plot(bdown[:10000])"
     ],
     "language": "python",
     "metadata": {},
     "outputs": [
      {
       "metadata": {},
       "output_type": "pyout",
       "prompt_number": 89,
       "text": [
        "[<matplotlib.lines.Line2D at 0x7f4659acba90>]"
       ]
      }
     ],
     "prompt_number": 89
    },
    {
     "cell_type": "code",
     "collapsed": false,
     "input": [
      "plt.plot(mid_rmean[:10000], marker='*')"
     ],
     "language": "python",
     "metadata": {},
     "outputs": [
      {
       "metadata": {},
       "output_type": "pyout",
       "prompt_number": 90,
       "text": [
        "[<matplotlib.lines.Line2D at 0x7f4659ad4ad0>]"
       ]
      }
     ],
     "prompt_number": 90
    },
    {
     "cell_type": "code",
     "collapsed": false,
     "input": [
      "ta.ix[mid_std==0, 'midPrc']"
     ],
     "language": "python",
     "metadata": {},
     "outputs": [
      {
       "metadata": {},
       "output_type": "pyout",
       "prompt_number": 100,
       "text": [
        "2015-11-19 21:32:56.000    4495.0\n",
        "2015-11-19 21:32:56.250    4495.0\n",
        "2015-11-19 21:32:56.500    4495.0\n",
        "2015-11-19 21:32:56.750    4495.0\n",
        "2015-11-19 21:32:57.000    4495.0\n",
        "2015-11-19 21:32:57.250    4495.0\n",
        "2015-11-19 21:32:57.500    4495.0\n",
        "2015-11-19 21:32:57.750    4495.0\n",
        "2015-11-19 21:32:58.000    4495.0\n",
        "2015-11-19 21:32:58.250    4495.0\n",
        "2015-11-19 21:32:58.500    4495.0\n",
        "2015-11-19 21:32:58.750    4495.0\n",
        "2015-11-19 21:32:59.000    4495.0\n",
        "2015-11-19 21:32:59.250    4495.0\n",
        "2015-11-19 21:32:59.500    4495.0\n",
        "2015-11-19 21:32:59.750    4495.0\n",
        "2015-11-19 21:33:00.000    4495.0\n",
        "2015-11-19 21:33:00.250    4495.0\n",
        "2015-11-19 21:33:00.500    4495.0\n",
        "2015-11-19 21:33:00.750    4495.0\n",
        "2015-11-19 21:33:01.000    4495.0\n",
        "2015-11-19 21:33:01.250    4495.0\n",
        "2015-11-19 21:33:01.500    4495.0\n",
        "2015-11-19 21:33:01.750    4495.0\n",
        "2015-11-19 21:33:02.000    4495.0\n",
        "2015-11-19 21:33:02.250    4495.0\n",
        "2015-11-19 21:33:02.500    4495.0\n",
        "2015-11-19 21:33:02.750    4495.0\n",
        "2015-11-19 21:33:03.000    4495.0\n",
        "2015-11-19 21:33:03.250    4495.0\n",
        "                            ...  \n",
        "2015-12-31 14:55:00.750    4461.0\n",
        "2015-12-31 14:55:01.000    4461.0\n",
        "2015-12-31 14:55:01.250    4461.0\n",
        "2015-12-31 14:55:01.500    4461.0\n",
        "2015-12-31 14:55:01.750    4461.0\n",
        "2015-12-31 14:55:02.000    4461.0\n",
        "2015-12-31 14:55:02.250    4461.0\n",
        "2015-12-31 14:55:02.500    4461.0\n",
        "2015-12-31 14:55:02.750    4461.0\n",
        "2015-12-31 14:55:03.000    4461.0\n",
        "2015-12-31 14:55:03.250    4461.0\n",
        "2015-12-31 14:55:03.500    4461.0\n",
        "2015-12-31 14:55:03.750    4461.0\n",
        "2015-12-31 14:55:04.000    4461.0\n",
        "2015-12-31 14:55:04.250    4461.0\n",
        "2015-12-31 14:55:04.500    4461.0\n",
        "2015-12-31 14:55:04.750    4461.0\n",
        "2015-12-31 14:55:05.000    4461.0\n",
        "2015-12-31 14:55:05.250    4461.0\n",
        "2015-12-31 14:55:05.500    4461.0\n",
        "2015-12-31 14:55:05.750    4461.0\n",
        "2015-12-31 14:55:06.000    4461.0\n",
        "2015-12-31 14:55:06.250    4461.0\n",
        "2015-12-31 14:55:06.500    4461.0\n",
        "2015-12-31 14:55:06.750    4461.0\n",
        "2015-12-31 14:55:07.000    4461.0\n",
        "2015-12-31 14:55:07.250    4461.0\n",
        "2015-12-31 14:55:07.500    4461.0\n",
        "2015-12-31 14:55:07.750    4461.0\n",
        "2015-12-31 14:55:08.000    4461.0\n",
        "Name: midPrc, dtype: float64"
       ]
      }
     ],
     "prompt_number": 100
    },
    {
     "cell_type": "code",
     "collapsed": false,
     "input": [
      "openpos = (ta.ix[:, 'openInt_diff'] + ta.ix[:, 'vol_diff']) / 2.\n",
      "closepos = (- ta.ix[:, 'openInt_diff'] + ta.ix[:, 'vol_diff']) / 2."
     ],
     "language": "python",
     "metadata": {},
     "outputs": [],
     "prompt_number": 201
    },
    {
     "cell_type": "code",
     "collapsed": false,
     "input": [
      "%matplotlib auto"
     ],
     "language": "python",
     "metadata": {},
     "outputs": [
      {
       "output_type": "stream",
       "stream": "stdout",
       "text": [
        "Using matplotlib backend: TkAgg\n"
       ]
      }
     ],
     "prompt_number": 203
    },
    {
     "cell_type": "code",
     "collapsed": false,
     "input": [
      "plt.plot(openpos[ta_ta_pm.index"
     ],
     "language": "python",
     "metadata": {},
     "outputs": [
      {
       "metadata": {},
       "output_type": "pyout",
       "prompt_number": 206,
       "text": [
        "[<matplotlib.lines.Line2D at 0x7f4653f408d0>]"
       ]
      }
     ],
     "prompt_number": 206
    }
   ],
   "metadata": {}
  }
 ]
}
