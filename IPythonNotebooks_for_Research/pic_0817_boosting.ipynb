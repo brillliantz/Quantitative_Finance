{
 "metadata": {
  "name": ""
 },
 "nbformat": 3,
 "nbformat_minor": 0,
 "worksheets": [
  {
   "cells": [
    {
     "cell_type": "code",
     "collapsed": false,
     "input": [
      "from sys import path\n",
      "path.append('/home/bingnan/ecworkspace/HFT1')"
     ],
     "language": "python",
     "metadata": {},
     "outputs": [],
     "prompt_number": 1
    },
    {
     "cell_type": "code",
     "collapsed": false,
     "input": [
      "from init import *"
     ],
     "language": "python",
     "metadata": {},
     "outputs": [],
     "prompt_number": 2
    },
    {
     "cell_type": "code",
     "collapsed": false,
     "input": [
      "sns.set_context('talk')"
     ],
     "language": "python",
     "metadata": {},
     "outputs": [],
     "prompt_number": 3
    },
    {
     "cell_type": "code",
     "collapsed": false,
     "input": [
      "%matplotlib inline"
     ],
     "language": "python",
     "metadata": {},
     "outputs": [],
     "prompt_number": 4
    },
    {
     "cell_type": "code",
     "collapsed": false,
     "input": [],
     "language": "python",
     "metadata": {},
     "outputs": [],
     "prompt_number": 4
    },
    {
     "cell_type": "markdown",
     "metadata": {},
     "source": [
      "### benchmark"
     ]
    },
    {
     "cell_type": "code",
     "collapsed": false,
     "input": [
      "rgs2.half_life/5"
     ],
     "language": "python",
     "metadata": {},
     "outputs": [
      {
       "metadata": {},
       "output_type": "pyout",
       "prompt_number": 83,
       "text": [
        "0.011569049498593637"
       ]
      }
     ],
     "prompt_number": 83
    },
    {
     "cell_type": "code",
     "collapsed": false,
     "input": [
      "rgs_bcmk_eusq = myRgr()\n",
      "rgs_bcmk_eusq.dataGo(xin_stdzd, yin2, xout_stdzd, yout2, xtest_stdzd, ytest2, align=True)\n",
      "rgs_bcmk_eusq.disPrep(my_distance, metric='eu', w=None, squared=True)"
     ],
     "language": "python",
     "metadata": {},
     "outputs": [],
     "prompt_number": 84
    },
    {
     "cell_type": "code",
     "collapsed": false,
     "input": [
      "rgs_bcmk_eusq.kernelGo(my_kernel_exp, gamma=rgs_bcmk_eusq.half_life/5)\n",
      "rgs_bcmk_eusq.regressorGo('svr', epsilon=0.2, C=.1)\n",
      "rgs_bcmk_eusq.fit()\n",
      "rgs_bcmk_eusq.rsqGo()\n",
      "rgs_bcmk_eusq.test()"
     ],
     "language": "python",
     "metadata": {},
     "outputs": [
      {
       "output_type": "stream",
       "stream": "stdout",
       "text": [
        "in-in\n",
        "'fit' 6.67 sec"
       ]
      },
      {
       "output_type": "stream",
       "stream": "stdout",
       "text": [
        "\n",
        "in-in\n",
        "'predict' 4.61 sec"
       ]
      },
      {
       "output_type": "stream",
       "stream": "stdout",
       "text": [
        "\n",
        "out-in\n",
        "'predict' 5.11 sec"
       ]
      },
      {
       "output_type": "stream",
       "stream": "stdout",
       "text": [
        "\n",
        "'residualGo' 9.72 sec\n",
        "using residual\n",
        "using residual\n",
        "\t\t\t\t\t  ---rsq_in: 0.091258\n",
        "\t\t\t\t\t ---rsq_out: 0.090886\n",
        "'rsqGo' 9.73 sec\n",
        "re-calc!!!\n",
        "\t\t\t\t\t---rsq_test: 0.057090 "
       ]
      },
      {
       "output_type": "stream",
       "stream": "stdout",
       "text": [
        "\n",
        "'test' 8.85 sec\n"
       ]
      }
     ],
     "prompt_number": 85
    },
    {
     "cell_type": "code",
     "collapsed": false,
     "input": [
      "print rgs_bcmk_eusq.result.support_.shape\n",
      "plt.figure(figsize=(15, 5))\n",
      "sns.distplot(rgs_bcmk_eusq.result.dual_coef_)"
     ],
     "language": "python",
     "metadata": {},
     "outputs": [
      {
       "output_type": "stream",
       "stream": "stdout",
       "text": [
        "(4473,)\n"
       ]
      },
      {
       "metadata": {},
       "output_type": "pyout",
       "prompt_number": 49,
       "text": [
        "<matplotlib.axes.AxesSubplot at 0x7f115c808950>"
       ]
      },
      {
       "metadata": {},
       "output_type": "display_data",
       "png": "[encoded data removed]",
       "text": [
        "<matplotlib.figure.Figure at 0x7f115c899490>"
       ]
      }
     ],
     "prompt_number": 49
    },
    {
     "cell_type": "code",
     "collapsed": false,
     "input": [
      "Corr2D(rgs_bcmk_eu._yin_predict, rgs1._yin_predict)"
     ],
     "language": "python",
     "metadata": {},
     "outputs": [
      {
       "metadata": {},
       "output_type": "pyout",
       "prompt_number": 26,
       "text": [
        "0.9478216007454503"
       ]
      }
     ],
     "prompt_number": 26
    },
    {
     "cell_type": "markdown",
     "metadata": {},
     "source": [
      "above is SVR benchmark result\n",
      "\n",
      "below is boosting result"
     ]
    },
    {
     "cell_type": "code",
     "collapsed": false,
     "input": [
      "def tst_bst(rgs_linear, rgs_svr_list, x, y, w):\n",
      "    ypre_linear = rgs_linear.predict(x)\n",
      "    \n",
      "    x = np.dot(x, w.T)\n",
      "    try:\n",
      "        ypre_list = []\n",
      "        \n",
      "        for i, rgs_svr in enumerate(rgs_svr_list):\n",
      "            ypre_list.append(rgs_svr.predict(x))\n",
      "            print '\\t\\t\\t\\tNo.{0} Residual_rsq = {1}, Combined_rsq = {2}'.format(i, \n",
      "                    rsquare(rgs_svr.yout, rgs_svr._yout_predict), rsquare(y, yhat=(ypre_linear + ypre_list[i])))\n",
      "        \n",
      "        ypre_svr = np.zeros_like(ypre_linear)\n",
      "        for ypre in ypre_list:\n",
      "            ypre_svr = ypre_svr + ypre\n",
      "        ypre_svr = ypre_svr / len(ypre_list)\n",
      "    \n",
      "    except:\n",
      "        ypre_svr = rgs_svr_list.predict(x)\n",
      "    rsq = rsquare(y, yhat=(ypre_linear + ypre_svr))\n",
      "    print '\\t\\t\\t\\tAll in all rsq = {0}'.format(rsq)"
     ],
     "language": "python",
     "metadata": {},
     "outputs": [],
     "prompt_number": 73
    },
    {
     "cell_type": "code",
     "collapsed": false,
     "input": [
      "tst_bst(rgs1, [rgs2, rgs3, rgs4], \n",
      "        xtest_stdzd.ix[ytest2.index], \n",
      "        ytest2, \n",
      "        pca_mat[:7, :])"
     ],
     "language": "python",
     "metadata": {},
     "outputs": [
      {
       "output_type": "stream",
       "stream": "stdout",
       "text": [
        "'predict' 0.06 sec\n",
        "out-in\n",
        "'predict' 5.22 sec"
       ]
      },
      {
       "output_type": "stream",
       "stream": "stdout",
       "text": [
        "\n",
        "using yhat\n",
        "using yhat\n",
        "\t\t\t\tNo.0 Residual_rsq = 0.000827642050765, Combined_rsq = 0.0588711216764\n",
        "out-in\n",
        "'predict' 16.13 sec"
       ]
      },
      {
       "output_type": "stream",
       "stream": "stdout",
       "text": [
        "\n",
        "using yhat\n",
        "using yhat\n",
        "\t\t\t\tNo.1 Residual_rsq = 0.000294289392113, Combined_rsq = 0.0585375809833\n",
        "'predict' 0.79 sec"
       ]
      },
      {
       "output_type": "stream",
       "stream": "stdout",
       "text": [
        "\n",
        "using yhat\n",
        "using yhat\n",
        "\t\t\t\tNo.2 Residual_rsq = 0.00110030516693, Combined_rsq = 0.0591965912826\n",
        "using yhat\n",
        "\t\t\t\tAll in all rsq = 0.0589918952466\n"
       ]
      }
     ],
     "prompt_number": 82
    },
    {
     "cell_type": "code",
     "collapsed": false,
     "input": [
      "tst_bst(rgs1, bager, \n",
      "        xtest_stdzd.ix[ytest2.index], \n",
      "        ytest2, \n",
      "        pca_mat[:7, :])"
     ],
     "language": "python",
     "metadata": {},
     "outputs": [
      {
       "output_type": "stream",
       "stream": "stdout",
       "text": [
        "'predict' 0.01 sec\n"
       ]
      },
      {
       "output_type": "stream",
       "stream": "stdout",
       "text": [
        "using yhat\n",
        "\t\t\t\tAll in all rsq = 0.0593426340871\n"
       ]
      }
     ],
     "prompt_number": 47
    },
    {
     "cell_type": "code",
     "collapsed": false,
     "input": [
      "print Corr2D(rgs2._yout_predict, rgs4._yout_predict)\n",
      "# print rsquare(rgs2.yout, rgs2._yout_predict)\n",
      "# print rsquare(rgs3.yout, rgs3._yout_predict)\n",
      "# print rsquare(rgs2.yout, (rgs2._yout_predict + rgs3._yout_predict)/2)"
     ],
     "language": "python",
     "metadata": {},
     "outputs": [
      {
       "output_type": "stream",
       "stream": "stdout",
       "text": [
        "0.941109399373\n"
       ]
      }
     ],
     "prompt_number": 200
    },
    {
     "cell_type": "markdown",
     "metadata": {},
     "source": [
      "# boosting"
     ]
    },
    {
     "cell_type": "code",
     "collapsed": false,
     "input": [
      "yin2 = yin.ix[::50]\n",
      "yout2 = yout.ix[::15]\n",
      "ytest2 = ytest.ix[::15]\n",
      "print yin2.shape, yout2.shape"
     ],
     "language": "python",
     "metadata": {},
     "outputs": [
      {
       "output_type": "stream",
       "stream": "stdout",
       "text": [
        "(10448,) (11609,)\n"
       ]
      }
     ],
     "prompt_number": 56
    },
    {
     "cell_type": "code",
     "collapsed": false,
     "input": [
      "rgs1 = myRgr()\n",
      "rgs1.dataGo(xin_stdzd, yin2, xout_stdzd, yout2, xtest_stdzd, ytest2, align=True)\n",
      "rgs1.regressorGo('Ridge', alpha=6000)\n",
      "rgs1.fit()\n",
      "rgs1.rsqGo()\n",
      "rgs1.test()\n",
      "#---------------------"
     ],
     "language": "python",
     "metadata": {},
     "outputs": [
      {
       "output_type": "stream",
       "stream": "stdout",
       "text": [
        "'fit' 0.07 sec\n",
        "'predict' 0.01 sec\n",
        "'predict' 0.00 sec\n",
        "'residualGo' 0.02 sec\n",
        "using residual\n",
        "using residual\n",
        "\t\t\t\t\t  ---rsq_in: 0.092371\n",
        "\t\t\t\t\t ---rsq_out: 0.095636\n",
        "'rsqGo' 0.02 sec\n",
        "\t\t\t\t\t---rsq_test: 0.058292 \n",
        "'test' 0.01 sec\n"
       ]
      }
     ],
     "prompt_number": 86
    },
    {
     "cell_type": "code",
     "collapsed": false,
     "input": [],
     "language": "python",
     "metadata": {},
     "outputs": [
      {
       "metadata": {},
       "output_type": "pyout",
       "prompt_number": 197,
       "text": [
        "array([ 1.06884203,  0.20401049,  0.1170549 ])"
       ]
      }
     ],
     "prompt_number": 197
    },
    {
     "cell_type": "code",
     "collapsed": false,
     "input": [
      "rgs_stack = myRgr()\n",
      "rgs_stack.dataGo(pd.DataFrame([rgs2._yin_predict, rgs3._yin_predict]).T, rgs1.rzdu_in, \n",
      "                 pd.DataFrame([rgs2._yout_predict, rgs3._yout_predict]).T, rgs1.rzdu_out, \n",
      "                 xtest_stdzd,#pd.DataFrame([rgs2.predict(rgs2.xtest), rgs3.predict(rgs3.xtest)]).T, \n",
      "                 ytest2, align=False)\n",
      "rgs_stack.regressorGo('Ridge', alpha=.5)\n",
      "rgs_stack.fit()\n",
      "rgs_stack.rsqGo()\n",
      "#rgs_stack.test()\n",
      "#---------------------\n",
      "print rgs_stack.result.coef_"
     ],
     "language": "python",
     "metadata": {},
     "outputs": [
      {
       "output_type": "stream",
       "stream": "stdout",
       "text": [
        "'fit' 0.00 sec\n",
        "'predict' 0.01 sec\n",
        "'predict' 0.00 sec\n",
        "'residualGo' 0.02 sec\n",
        "using residual\n",
        "using residual\n",
        "\t\t\t\t\t  ---rsq_in: 0.001023\n",
        "\t\t\t\t\t ---rsq_out: 0.000711\n",
        "'rsqGo' 0.03 sec\n",
        "[ 0.96915858 -0.07995365]\n"
       ]
      }
     ],
     "prompt_number": 44
    },
    {
     "cell_type": "markdown",
     "metadata": {},
     "source": [
      "### PCA\n",
      "\n",
      "$X_{projected}$ = np.dot($X_{original}$, pca.components[:$n_{you want}$, :].T)"
     ]
    },
    {
     "cell_type": "code",
     "collapsed": false,
     "input": [
      "pca_mat = np.load('pca_components_calc_from_xinstdzd.npy')\n",
      "explain_var = np.load('pca_explain_ratio_calc_from_xinstdzd.npy')"
     ],
     "language": "python",
     "metadata": {},
     "outputs": [],
     "prompt_number": 20
    },
    {
     "cell_type": "code",
     "collapsed": false,
     "input": [
      "plt.figure(figsize=(15,10))\n",
      "plt.plot(explain_var, marker='d')\n",
      "plt.show()"
     ],
     "language": "python",
     "metadata": {},
     "outputs": [
      {
       "metadata": {},
       "output_type": "display_data",
       "png": "[encoded data removed]",
       "text": [
        "<matplotlib.figure.Figure at 0x7f117f385110>"
       ]
      }
     ],
     "prompt_number": 21
    },
    {
     "cell_type": "code",
     "collapsed": false,
     "input": [
      "from sklearn.ensemble import BaggingRegressor"
     ],
     "language": "python",
     "metadata": {},
     "outputs": [],
     "prompt_number": 61
    },
    {
     "cell_type": "code",
     "collapsed": false,
     "input": [
      "temp = svm.SVR(kernel='linear', \n",
      "               gamma=rgs2.half_life*.2, \n",
      "               epsilon=.17, C=.0004)"
     ],
     "language": "python",
     "metadata": {},
     "outputs": [],
     "prompt_number": 62
    },
    {
     "cell_type": "code",
     "collapsed": false,
     "input": [
      "bager = BaggingRegressor(temp, n_estimators=100, max_samples=0.5, n_jobs=7)"
     ],
     "language": "python",
     "metadata": {},
     "outputs": [],
     "prompt_number": 63
    },
    {
     "cell_type": "code",
     "collapsed": false,
     "input": [
      "bager.fit(rgs4.xin, rgs4.yin)"
     ],
     "language": "python",
     "metadata": {},
     "outputs": [
      {
       "metadata": {},
       "output_type": "pyout",
       "prompt_number": 64,
       "text": [
        "BaggingRegressor(base_estimator=SVR(C=0.0004, cache_size=200, coef0=0.0, degree=3, epsilon=0.17,\n",
        "  gamma=0.011521131276865269, kernel='linear', max_iter=-1, shrinking=True,\n",
        "  tol=0.001, verbose=False),\n",
        "         bootstrap=True, bootstrap_features=False, max_features=1.0,\n",
        "         max_samples=0.5, n_estimators=100, n_jobs=7, oob_score=False,\n",
        "         random_state=None, verbose=0, warm_start=False)"
       ]
      }
     ],
     "prompt_number": 64
    },
    {
     "cell_type": "code",
     "collapsed": false,
     "input": [
      "print bager.score(rgs4.xin, rgs4.yin)\n",
      "print bager.score(rgs4.xout, rgs4.yout)"
     ],
     "language": "python",
     "metadata": {},
     "outputs": [
      {
       "output_type": "stream",
       "stream": "stdout",
       "text": [
        "-0.000270303553432\n"
       ]
      },
      {
       "output_type": "stream",
       "stream": "stdout",
       "text": [
        "0.00106919910111\n"
       ]
      }
     ],
     "prompt_number": 66
    },
    {
     "cell_type": "code",
     "collapsed": false,
     "input": [
      "rgs2 = myRgr()\n",
      "rgs2.dataGo(xin_stdzd, rgs1.rzdu_in, xout_stdzd, rgs1.rzdu_out, xtest_stdzd, ytest2, align=True, w=pca_mat[:7, :])\n",
      "rgs2.disPrep(my_distance, metric='eu', w=None, squared=True)"
     ],
     "language": "python",
     "metadata": {},
     "outputs": [
      {
       "output_type": "stream",
       "stream": "stdout",
       "text": [
        "PCA!\n"
       ]
      }
     ],
     "prompt_number": 75
    },
    {
     "cell_type": "code",
     "collapsed": false,
     "input": [
      "for myepsilon in np.arange(.17, .2, .2):\n",
      "    for myc in np.arange(.015, .09, 9.01):\n",
      "        for mygamma in np.arange(.2, 2.04, 2.001):\n",
      "            print '==================== C: {0} epsilon: {1} gamma: {2:.4f}'.format(myc, myepsilon, mygamma)\n",
      "            rgs2.kernelGo(my_kernel_exp, gamma=rgs2.half_life * mygamma)\n",
      "            rgs2.regressorGo('svr', epsilon=myepsilon, C=myc)\n",
      "            rgs2.fit()\n",
      "            rgs2.rsqGo()"
     ],
     "language": "python",
     "metadata": {},
     "outputs": [
      {
       "output_type": "stream",
       "stream": "stdout",
       "text": [
        "==================== C: 0.015 epsilon: 0.17 gamma: 0.2000\n",
        "in-in\n",
        "'fit' 6.42 sec"
       ]
      },
      {
       "output_type": "stream",
       "stream": "stdout",
       "text": [
        "\n",
        "in-in\n",
        "'predict' 4.51 sec"
       ]
      },
      {
       "output_type": "stream",
       "stream": "stdout",
       "text": [
        "\n",
        "out-in\n",
        "'predict' 5.02 sec"
       ]
      },
      {
       "output_type": "stream",
       "stream": "stdout",
       "text": [
        "\n",
        "'residualGo' 9.53 sec\n",
        "using residual\n",
        "using residual\n",
        "\t\t\t\t\t  ---rsq_in: 0.001018\n",
        "\t\t\t\t\t ---rsq_out: 0.000828\n",
        "'rsqGo' 9.54 sec\n"
       ]
      }
     ],
     "prompt_number": 76
    },
    {
     "cell_type": "code",
     "collapsed": false,
     "input": [
      "def my_kernel_spherical(dis, gamma=.1):\n",
      "    dis /= 20.\n",
      "    dis[dis > 1.] = 1.\n",
      "    f_s = lambda x: 1 - x * 3 / 2. + x**3 / 2.\n",
      "    return f_s(dis)"
     ],
     "language": "python",
     "metadata": {},
     "outputs": [],
     "prompt_number": 68
    },
    {
     "cell_type": "code",
     "collapsed": false,
     "input": [
      "rgs3 = myRgr()\n",
      "rgs3.dataGo(xin_stdzd, rgs1.rzdu_in, xout_stdzd, rgs1.rzdu_out, xtest_stdzd, ytest2, align=True, w=pca_mat[:7, :])\n",
      "rgs3.disPrep(my_distance, metric='eu', w=None, squared=True)\n",
      "#rgs3.partial_kernel = pairwise.cosine_similarity"
     ],
     "language": "python",
     "metadata": {},
     "outputs": [
      {
       "output_type": "stream",
       "stream": "stdout",
       "text": [
        "PCA!\n"
       ]
      }
     ],
     "prompt_number": 69
    },
    {
     "cell_type": "code",
     "collapsed": false,
     "input": [
      "for myepsilon in np.arange(.17, .19, 1.002):\n",
      "    for myc in np.arange(10e-5, 100e-5, 200e-5):\n",
      "        for mygamma in np.arange(.2, 6., 9.3):\n",
      "            print '==================== C: {0} epsilon: {1} gamma: {2:.4f}'.format(myc, myepsilon, mygamma)\n",
      "            rgs3.kernelGo(my_kernel_spherical)\n",
      "            rgs3.regressorGo('svr', epsilon=myepsilon, C=myc)\n",
      "            rgs3.fit()\n",
      "            rgs3.rsqGo()"
     ],
     "language": "python",
     "metadata": {},
     "outputs": [
      {
       "output_type": "stream",
       "stream": "stdout",
       "text": [
        "==================== C: 0.0001 epsilon: 0.17 gamma: 0.2000\n",
        "in-in\n",
        "'fit' 16.11 sec"
       ]
      },
      {
       "output_type": "stream",
       "stream": "stdout",
       "text": [
        "\n",
        "in-in\n",
        "'predict' 14.27 sec"
       ]
      },
      {
       "output_type": "stream",
       "stream": "stdout",
       "text": [
        "\n",
        "out-in\n",
        "'predict' 15.96 sec"
       ]
      },
      {
       "output_type": "stream",
       "stream": "stdout",
       "text": [
        "\n",
        "'residualGo' 30.23 sec\n",
        "using residual\n",
        "using residual\n",
        "\t\t\t\t\t  ---rsq_in: 0.000377\n",
        "\t\t\t\t\t ---rsq_out: 0.000294\n",
        "'rsqGo' 30.23 sec\n"
       ]
      }
     ],
     "prompt_number": 71
    },
    {
     "cell_type": "code",
     "collapsed": false,
     "input": [
      "rgs4 = myRgr()\n",
      "rgs4.dataGo(xin_stdzd, rgs1.rzdu_in, xout_stdzd, rgs1.rzdu_out, xtest_stdzd, ytest2, align=True, w=pca_mat[:7, :])\n",
      "#rgs4.disPrep(my_distance, metric='mh', w=pca_mat[:6, :], squared=False)"
     ],
     "language": "python",
     "metadata": {},
     "outputs": [
      {
       "output_type": "stream",
       "stream": "stdout",
       "text": [
        "PCA!\n"
       ]
      }
     ],
     "prompt_number": 77
    },
    {
     "cell_type": "code",
     "collapsed": false,
     "input": [
      "sns.distplot(np.dot(xin_stdzd.ix[::1000], xin_stdzd.ix[::1000].T).ravel() * 1e-2)"
     ],
     "language": "python",
     "metadata": {},
     "outputs": [
      {
       "metadata": {},
       "output_type": "pyout",
       "prompt_number": 97,
       "text": [
        "<matplotlib.axes.AxesSubplot at 0x7f6e35c23e10>"
       ]
      },
      {
       "metadata": {},
       "output_type": "display_data",
       "png": "[encoded data removed]",
       "text": [
        "<matplotlib.figure.Figure at 0x7f6e35b229d0>"
       ]
      }
     ],
     "prompt_number": 97
    },
    {
     "cell_type": "code",
     "collapsed": false,
     "input": [
      "sns.distplot(pairwise.sigmoid_kernel(xin_stdzd.ix[::300], xin_stdzd.ix[::300], gamma=5e-2, coef0=0.).ravel())"
     ],
     "language": "python",
     "metadata": {},
     "outputs": [
      {
       "metadata": {},
       "output_type": "pyout",
       "prompt_number": 138,
       "text": [
        "<matplotlib.axes.AxesSubplot at 0x7f6dcf9408d0>"
       ]
      },
      {
       "metadata": {},
       "output_type": "display_data",
       "png": "[encoded data removed]",
       "text": [
        "<matplotlib.figure.Figure at 0x7f6e328d9e10>"
       ]
      }
     ],
     "prompt_number": 138
    },
    {
     "cell_type": "code",
     "collapsed": false,
     "input": [
      "for myepsilon in np.arange(.17,.18, 1.003):\n",
      "    for myc in np.arange(2e-2, 20e-2, 20e-2):\n",
      "        for mygamma in np.arange(10e-2, 16., 19.3):\n",
      "            print '==================== C: {0} epsilon: {1} gamma: {2:.4f}'.format(myc, myepsilon, mygamma)\n",
      "            rgs4.kernelGo('linear')\n",
      "            rgs4.regressorGo('svr', epsilon=myepsilon, C=myc, \n",
      "                             gamma=mygamma, coef0=1.\n",
      "                             )\n",
      "            rgs4.fit()\n",
      "            rgs4.rsqGo()"
     ],
     "language": "python",
     "metadata": {},
     "outputs": [
      {
       "output_type": "stream",
       "stream": "stdout",
       "text": [
        "==================== C: 0.02 epsilon: 0.17 gamma: 0.1000\n",
        "'fit' 5.27 sec"
       ]
      },
      {
       "output_type": "stream",
       "stream": "stdout",
       "text": [
        "\n",
        "'predict' 0.71 sec"
       ]
      },
      {
       "output_type": "stream",
       "stream": "stdout",
       "text": [
        "\n",
        "'predict' 0.79 sec"
       ]
      },
      {
       "output_type": "stream",
       "stream": "stdout",
       "text": [
        "\n",
        "'residualGo' 1.50 sec\n",
        "using residual\n",
        "using residual\n",
        "\t\t\t\t\t  ---rsq_in: 0.000325\n",
        "\t\t\t\t\t ---rsq_out: 0.001100\n",
        "'rsqGo' 1.50 sec\n"
       ]
      }
     ],
     "prompt_number": 78
    },
    {
     "cell_type": "code",
     "collapsed": false,
     "input": [],
     "language": "python",
     "metadata": {},
     "outputs": [],
     "prompt_number": 67
    },
    {
     "cell_type": "code",
     "collapsed": false,
     "input": [
      "Corr2D(rgs2._yout_predict, rgs4._yout_predict)"
     ],
     "language": "python",
     "metadata": {},
     "outputs": [
      {
       "metadata": {},
       "output_type": "pyout",
       "prompt_number": 81,
       "text": [
        "0.89093919137807143"
       ]
      }
     ],
     "prompt_number": 81
    },
    {
     "cell_type": "code",
     "collapsed": false,
     "input": [
      "print rgs3.result.support_.shape\n",
      "print rgs3.result.intercept_\n",
      "sns.distplot(rgs3.result.dual_coef_)"
     ],
     "language": "python",
     "metadata": {},
     "outputs": [
      {
       "output_type": "stream",
       "stream": "stdout",
       "text": [
        "(4474,)\n",
        "[ 0.10437228]\n"
       ]
      },
      {
       "metadata": {},
       "output_type": "pyout",
       "prompt_number": 79,
       "text": [
        "<matplotlib.axes.AxesSubplot at 0x7fa931c5d190>"
       ]
      },
      {
       "metadata": {},
       "output_type": "display_data",
       "png": "[encoded data removed]",
       "text": [
        "<matplotlib.figure.Figure at 0x7fa931c5db50>"
       ]
      }
     ],
     "prompt_number": 79
    },
    {
     "cell_type": "code",
     "collapsed": false,
     "input": [
      "np.median(rgs3.partial_kernel(rgs3.xin, rgs3.xin))"
     ],
     "language": "python",
     "metadata": {},
     "outputs": [
      {
       "output_type": "stream",
       "stream": "stdout",
       "text": [
        "in-in\n"
       ]
      },
      {
       "metadata": {},
       "output_type": "pyout",
       "prompt_number": 75,
       "text": [
        "0.98931190872007368"
       ]
      }
     ],
     "prompt_number": 75
    },
    {
     "cell_type": "code",
     "collapsed": false,
     "input": [
      "%matplotlib inline"
     ],
     "language": "python",
     "metadata": {},
     "outputs": [],
     "prompt_number": 121
    },
    {
     "cell_type": "code",
     "collapsed": false,
     "input": [
      "sns.distplot(rgs3.yin, bins=300, kde=False, norm_hist=True)\n",
      "sns.distplot(rgs1.yin.values, bins=300, kde=False, norm_hist=True)"
     ],
     "language": "python",
     "metadata": {},
     "outputs": [
      {
       "metadata": {},
       "output_type": "pyout",
       "prompt_number": 120,
       "text": [
        "<matplotlib.axes.AxesSubplot at 0x7f7e3a74f790>"
       ]
      }
     ],
     "prompt_number": 120
    },
    {
     "cell_type": "code",
     "collapsed": false,
     "input": [
      "temp = rgs3.partial_kernel(rgs3.xin, rgs3.xin).ravel()"
     ],
     "language": "python",
     "metadata": {},
     "outputs": [
      {
       "output_type": "stream",
       "stream": "stdout",
       "text": [
        "in-in\n"
       ]
      }
     ],
     "prompt_number": 52
    },
    {
     "cell_type": "code",
     "collapsed": false,
     "input": [],
     "language": "python",
     "metadata": {},
     "outputs": [
      {
       "metadata": {},
       "output_type": "pyout",
       "prompt_number": 54,
       "text": [
        "array([ 0.37795561])"
       ]
      }
     ],
     "prompt_number": 54
    },
    {
     "cell_type": "code",
     "collapsed": false,
     "input": [
      "sns.distplot(temp[::10])\n",
      "print np.median(temp)"
     ],
     "language": "python",
     "metadata": {},
     "outputs": [
      {
       "output_type": "stream",
       "stream": "stdout",
       "text": [
        "0.870550563296\n"
       ]
      },
      {
       "metadata": {},
       "output_type": "display_data",
       "png": "[encoded data removed]",
       "text": [
        "<matplotlib.figure.Figure at 0x7f7ecb903d10>"
       ]
      }
     ],
     "prompt_number": 53
    },
    {
     "cell_type": "code",
     "collapsed": false,
     "input": [
      "rgs3.result.support_.shape"
     ],
     "language": "python",
     "metadata": {},
     "outputs": [
      {
       "metadata": {},
       "output_type": "pyout",
       "prompt_number": 47,
       "text": [
        "(6608,)"
       ]
      }
     ],
     "prompt_number": 47
    },
    {
     "cell_type": "code",
     "collapsed": false,
     "input": [
      "rgs2.result.dual_coef_"
     ],
     "language": "python",
     "metadata": {},
     "outputs": [
      {
       "metadata": {},
       "output_type": "pyout",
       "prompt_number": 169,
       "text": [
        "array([[-0.5, -0.5,  0.5, ..., -0.5,  0.5,  0.5]])"
       ]
      }
     ],
     "prompt_number": 169
    },
    {
     "cell_type": "code",
     "collapsed": false,
     "input": [
      "for myepsilon in np.arange(.17, .9, .9):\n",
      "    for myc in np.arange(.8, 2., 2.2):\n",
      "        for mygamma in np.arange(.2, 2., 2.2):\n",
      "            print '==================== C: {0} epsilon: {1} gamma: {2}'.format(myc, myepsilon, mygamma)\n",
      "            rgs2 = myRgr()\n",
      "            rgs2.modelGo('svr', regressor_kws={'epsilon': myepsilon, 'C': myc}, \n",
      "                         kernel=my_kernel_exp, \n",
      "                         kernel_kws={'gamma': half_life*mygamma, 'metric': 'eu', 'squared': True, 'w': None, 'full_output': False})\n",
      "            rgs2.dataGo(xin_stdzd.ix[:, feature], rgs1.rzdu_in, xout_stdzd.ix[:, feature], rgs1.rzdu_out, xtest_stdzd, ytest2, align=True)\n",
      "            rgs2.fit()\n",
      "            rgs2.rsqGo()"
     ],
     "language": "python",
     "metadata": {},
     "outputs": [
      {
       "output_type": "stream",
       "stream": "stdout",
       "text": [
        "==================== C: 0.8 epsilon: 0.17 gamma: 0.2\n",
        "'fit' 9.42 sec"
       ]
      },
      {
       "output_type": "stream",
       "stream": "stdout",
       "text": [
        "\n",
        "'predict' 7.10 sec"
       ]
      },
      {
       "output_type": "stream",
       "stream": "stdout",
       "text": [
        "\n",
        "'predict' 7.86 sec"
       ]
      },
      {
       "output_type": "stream",
       "stream": "stdout",
       "text": [
        "\n",
        "'residualGo' 14.97 sec\n",
        "using residual\n",
        "using residual\n",
        "\t\t\t\t\t  ---rsq_in: 1.580003\n",
        "\t\t\t\t\t ---rsq_out: -0.408104\n",
        "'rsqGo' 14.97 sec\n"
       ]
      }
     ],
     "prompt_number": 84
    },
    {
     "cell_type": "code",
     "collapsed": false,
     "input": [
      "rsquare(yout2, rgs2.predict(xout_stdzd.ix[yout2.index]))"
     ],
     "language": "python",
     "metadata": {},
     "outputs": [
      {
       "output_type": "stream",
       "stream": "stdout",
       "text": [
        "'predict' 2.96 sec\n",
        "using yhat\n"
       ]
      },
      {
       "metadata": {},
       "output_type": "pyout",
       "prompt_number": 28,
       "text": [
        "-0.18474196731434001"
       ]
      }
     ],
     "prompt_number": 28
    },
    {
     "cell_type": "code",
     "collapsed": false,
     "input": [
      "sns.set_context('poster')"
     ],
     "language": "python",
     "metadata": {},
     "outputs": [],
     "prompt_number": 33
    },
    {
     "cell_type": "code",
     "collapsed": false,
     "input": [
      "sns.distplot(rgs1.rzdu_in, kde=False, bins=100)"
     ],
     "language": "python",
     "metadata": {},
     "outputs": [
      {
       "metadata": {},
       "output_type": "pyout",
       "prompt_number": 37,
       "text": [
        "<matplotlib.axes.AxesSubplot at 0x7f117f267350>"
       ]
      },
      {
       "metadata": {},
       "output_type": "display_data",
       "png": "[encoded data removed]",
       "text": [
        "<matplotlib.figure.Figure at 0x7f117f267e90>"
       ]
      }
     ],
     "prompt_number": 37
    },
    {
     "cell_type": "code",
     "collapsed": false,
     "input": [
      "fig, ((ax1, ax2), (ax3, ax4)) = plt.subplots(2, 2, figsize=(16, 5))\n",
      "sns.distplot(rgs_bcmk.yin, norm_hist=True, ax=ax1)\n",
      "sns.distplot(rgs_bcmk.yout, norm_hist=True, ax=ax2)\n",
      "sns.distplot(rgs_bcmk.rzdu_in, norm_hist=True, ax=ax3)\n",
      "sns.distplot(rgs_bcmk.rzdu_out, norm_hist=True, ax=ax4)"
     ],
     "language": "python",
     "metadata": {},
     "outputs": [
      {
       "metadata": {},
       "output_type": "pyout",
       "prompt_number": 339,
       "text": [
        "<matplotlib.axes.AxesSubplot at 0x7f2ef30eb690>"
       ]
      },
      {
       "metadata": {},
       "output_type": "display_data",
       "png": "[encoded data removed]",
       "text": [
        "<matplotlib.figure.Figure at 0x7f2ef3606690>"
       ]
      }
     ],
     "prompt_number": 339
    },
    {
     "cell_type": "code",
     "collapsed": false,
     "input": [
      "fig, ((ax1, ax2), (ax3, ax4)) = plt.subplots(2, 2, figsize=(16, 5))\n",
      "sns.distplot(rgs1.rzdu_in, norm_hist=True, ax=ax1)\n",
      "sns.distplot(rgs1.rzdu_out, norm_hist=True, ax=ax2)\n",
      "# sns.distplot(rgs_bcmk.rzdu_in, norm_hist=True, ax=ax3)\n",
      "# sns.distplot(rgs_bcmk.rzdu_out, norm_hist=True, ax=ax4)"
     ],
     "language": "python",
     "metadata": {},
     "outputs": [
      {
       "metadata": {},
       "output_type": "pyout",
       "prompt_number": 380,
       "text": [
        "<matplotlib.axes.AxesSubplot at 0x7f2ef22e6510>"
       ]
      },
      {
       "metadata": {},
       "output_type": "display_data",
       "png": "[encoded data removed]",
       "text": [
        "<matplotlib.figure.Figure at 0x7f2ef2dbe2d0>"
       ]
      }
     ],
     "prompt_number": 380
    },
    {
     "cell_type": "code",
     "collapsed": false,
     "input": [
      "fig, (ax1, ax2) = plt.subplots(1, 2, figsize=(16, 3))\n",
      "sns.distplot(rgs1.rzdu_in, ax=ax1)\n",
      "sns.distplot(rgs1.rzdu_out, ax=ax2)"
     ],
     "language": "python",
     "metadata": {},
     "outputs": [
      {
       "metadata": {},
       "output_type": "pyout",
       "prompt_number": 250,
       "text": [
        "<matplotlib.axes.AxesSubplot at 0x7f2efaf11c50>"
       ]
      },
      {
       "metadata": {},
       "output_type": "display_data",
       "png": "[encoded data removed]",
       "text": [
        "<matplotlib.figure.Figure at 0x7f2efb298650>"
       ]
      }
     ],
     "prompt_number": 250
    },
    {
     "cell_type": "code",
     "collapsed": false,
     "input": [],
     "language": "python",
     "metadata": {},
     "outputs": []
    },
    {
     "cell_type": "markdown",
     "metadata": {},
     "source": [
      "# Feature selection"
     ]
    },
    {
     "cell_type": "code",
     "collapsed": false,
     "input": [
      "rgs_lasso = myRgr()\n",
      "rgs_lasso.dataGo(xin_stdzd, yin2, xout_stdzd, yout2, xtest_stdzd, ytest2, align=True)\n",
      "rgs_lasso.regressorGo('Lasso', alpha=5e-3)\n",
      "rgs_lasso.fit()\n",
      "rgs_lasso.rsqGo()\n",
      "rgs_lasso.test()\n",
      "#---------------------"
     ],
     "language": "python",
     "metadata": {},
     "outputs": [
      {
       "output_type": "stream",
       "stream": "stdout",
       "text": [
        "'fit' 0.54 sec\n",
        "'predict' 0.00 sec\n",
        "'predict' 0.01 sec\n",
        "'residualGo' 0.01 sec\n",
        "using residual\n",
        "using residual\n",
        "\t\t\t\t\t  ---rsq_in: 0.109058\n",
        "\t\t\t\t\t ---rsq_out: 0.092796\n",
        "'rsqGo' 0.02 sec\n",
        "\t\t\t\t\t---rsq_test: 0.055742 \n",
        "'test' 0.01 sec\n"
       ]
      }
     ],
     "prompt_number": 242
    },
    {
     "cell_type": "code",
     "collapsed": false,
     "input": [
      "feature = rgs_lasso.result.coef_ != 0"
     ],
     "language": "python",
     "metadata": {},
     "outputs": [],
     "prompt_number": 244
    },
    {
     "cell_type": "code",
     "collapsed": false,
     "input": [
      "feature"
     ],
     "language": "python",
     "metadata": {},
     "outputs": [
      {
       "metadata": {},
       "output_type": "pyout",
       "prompt_number": 245,
       "text": [
        "array([False, False, False,  True, False, False, False, False, False,\n",
        "       False,  True,  True, False,  True,  True, False, False,  True,\n",
        "        True, False, False, False, False, False, False, False, False,\n",
        "       False,  True, False,  True, False, False, False, False,  True,\n",
        "       False, False,  True, False, False, False, False,  True, False,\n",
        "       False, False,  True,  True,  True,  True, False, False,  True,\n",
        "        True, False, False, False, False,  True, False, False, False,\n",
        "       False, False,  True,  True,  True,  True,  True,  True, False,\n",
        "       False, False, False, False, False,  True,  True,  True], dtype=bool)"
       ]
      }
     ],
     "prompt_number": 245
    },
    {
     "cell_type": "markdown",
     "metadata": {},
     "source": [
      "# KNN"
     ]
    },
    {
     "cell_type": "code",
     "collapsed": false,
     "input": [
      "from sklearn.neighbors import KNeighborsRegressor"
     ],
     "language": "python",
     "metadata": {},
     "outputs": [],
     "prompt_number": 17
    },
    {
     "cell_type": "code",
     "collapsed": false,
     "input": [
      "def sigmaEst(y, yhat):\n",
      "    err = y - yhat\n",
      "    N = len(err)\n",
      "    sns.distplot(err)\n",
      "    #err /= np.sqrt(N)\n",
      "    return err.std()"
     ],
     "language": "python",
     "metadata": {},
     "outputs": [],
     "prompt_number": 35
    },
    {
     "cell_type": "code",
     "collapsed": false,
     "input": [
      "def noiseEst(y, yhat, nnn):\n",
      "    res = y - yhat\n",
      "    res = res**2\n",
      "    res = res.sum()\n",
      "    N = len(y)\n",
      "    ddof = N / (N**(1./5) * nnn)\n",
      "    print 'ddof = {0}'.format(ddof)\n",
      "    res /= N - ddof\n",
      "    return res"
     ],
     "language": "python",
     "metadata": {},
     "outputs": [],
     "prompt_number": 36
    },
    {
     "cell_type": "code",
     "collapsed": false,
     "input": [
      "def epsilonEst(x, y, nnn, w=None):\n",
      "    if w is not None:\n",
      "        x = np.dot(x, w.T)\n",
      "    neigh = KNeighborsRegressor(n_neighbors=nnn)\n",
      "    neigh.fit(x, y)\n",
      "    ypre = neigh.predict(x)\n",
      "    print 'rsq: {0}'.format(rsquare(y, ypre))\n",
      "#     sigma2 = noiseEst(y, ypre, nnn)\n",
      "#     print sigma2\n",
      "#     n = len(y)\n",
      "#     print 'n = {0}'.format(n)\n",
      "#     return 3 * np.sqrt(sigma2 * np.log(n) / n)\n",
      "    return noiseEst(y, ypre, nnn), sigmaEst(y, ypre)"
     ],
     "language": "python",
     "metadata": {},
     "outputs": [],
     "prompt_number": 37
    },
    {
     "cell_type": "code",
     "collapsed": false,
     "input": [
      "epsilonEst(xin_stdzd.ix[rgs1.rzdu_in.ix[::].index], rgs1.rzdu_in.ix[::], 3, w=pca_mat[:5, :])"
     ],
     "language": "python",
     "metadata": {},
     "outputs": [
      {
       "output_type": "stream",
       "stream": "stdout",
       "text": [
        "using yhat\n",
        "rsq: 0.336963260836\n",
        "ddof = 547.148579973\n"
       ]
      },
      {
       "metadata": {},
       "output_type": "pyout",
       "prompt_number": 38,
       "text": [
        "(0.12054365010053021, 0.33799127931216399)"
       ]
      },
      {
       "metadata": {},
       "output_type": "display_data",
       "png": "[encoded data removed]",
       "text": [
        "<matplotlib.figure.Figure at 0x7f7ecba5a950>"
       ]
      }
     ],
     "prompt_number": 38
    },
    {
     "cell_type": "code",
     "collapsed": false,
     "input": [
      "max(abs(yin2.mean() - 3*(yin2.std())), abs(yin2.mean() + 3*(yin2.std())))"
     ],
     "language": "python",
     "metadata": {},
     "outputs": [
      {
       "metadata": {},
       "output_type": "pyout",
       "prompt_number": 26,
       "text": [
        "1.3118310100563189"
       ]
      }
     ],
     "prompt_number": 26
    },
    {
     "cell_type": "code",
     "collapsed": false,
     "input": [
      "neigh = KNeighborsRegressor(n_neighbors=6)"
     ],
     "language": "python",
     "metadata": {},
     "outputs": [],
     "prompt_number": 148
    },
    {
     "cell_type": "code",
     "collapsed": false,
     "input": [
      "temp_resample = 10\n",
      "neigh.fit(xin_stdzd.ix[yin2.ix[::temp_resample].index], yin2.ix[::temp_resample])"
     ],
     "language": "python",
     "metadata": {},
     "outputs": [
      {
       "metadata": {},
       "output_type": "pyout",
       "prompt_number": 149,
       "text": [
        "KNeighborsRegressor(algorithm='auto', leaf_size=30, metric='minkowski',\n",
        "          metric_params=None, n_jobs=1, n_neighbors=6, p=2,\n",
        "          weights='uniform')"
       ]
      }
     ],
     "prompt_number": 149
    },
    {
     "cell_type": "code",
     "collapsed": false,
     "input": [
      "temp = neigh.predict(xin_stdzd.ix[yin2.ix[::temp_resample].index])"
     ],
     "language": "python",
     "metadata": {},
     "outputs": [],
     "prompt_number": 150
    },
    {
     "cell_type": "code",
     "collapsed": false,
     "input": [
      "sigma2 = noiseEst(yin2.ix[::temp_resample], temp)\n",
      "print sigma2"
     ],
     "language": "python",
     "metadata": {},
     "outputs": [
      {
       "output_type": "stream",
       "stream": "stdout",
       "text": [
        "180.491719911\n",
        "0.147849172851\n"
       ]
      }
     ],
     "prompt_number": 153
    },
    {
     "cell_type": "code",
     "collapsed": false,
     "input": [
      "n = len(yin2.ix[::temp_resample])\n",
      "3 * np.sqrt(sigma2 * np.log(n) / n)"
     ],
     "language": "python",
     "metadata": {},
     "outputs": [
      {
       "metadata": {},
       "output_type": "pyout",
       "prompt_number": 156,
       "text": [
        "0.063310063176152453"
       ]
      }
     ],
     "prompt_number": 156
    },
    {
     "cell_type": "code",
     "collapsed": false,
     "input": [
      "rsquare(yin2.ix[::temp_resample], temp)"
     ],
     "language": "python",
     "metadata": {},
     "outputs": [
      {
       "output_type": "stream",
       "stream": "stdout",
       "text": [
        "using yhat\n"
       ]
      },
      {
       "metadata": {},
       "output_type": "pyout",
       "prompt_number": 146,
       "text": [
        "0.60423117608552124"
       ]
      }
     ],
     "prompt_number": 146
    },
    {
     "cell_type": "code",
     "collapsed": false,
     "input": [
      "plt.scatter(yin2.ix[::temp_resample], temp, facecolor='')"
     ],
     "language": "python",
     "metadata": {},
     "outputs": [
      {
       "metadata": {},
       "output_type": "pyout",
       "prompt_number": 147,
       "text": [
        "<matplotlib.collections.PathCollection at 0x7f6b28d17f10>"
       ]
      },
      {
       "metadata": {},
       "output_type": "display_data",
       "png": "[encoded data removed]",
       "text": [
        "<matplotlib.figure.Figure at 0x7f6b28dc3dd0>"
       ]
      }
     ],
     "prompt_number": 147
    },
    {
     "cell_type": "code",
     "collapsed": false,
     "input": [],
     "language": "python",
     "metadata": {},
     "outputs": []
    }
   ],
   "metadata": {}
  }
 ]
}