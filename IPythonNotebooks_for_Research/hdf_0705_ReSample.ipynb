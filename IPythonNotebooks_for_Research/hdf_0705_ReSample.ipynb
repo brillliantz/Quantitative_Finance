{
 "metadata": {
  "name": ""
 },
 "nbformat": 3,
 "nbformat_minor": 0,
 "worksheets": [
  {
   "cells": [
    {
     "cell_type": "code",
     "collapsed": false,
     "input": [
      "import numpy as np\n",
      "import pandas as pd\n",
      "import seaborn as sns\n",
      "sns.set_context('talk')"
     ],
     "language": "python",
     "metadata": {},
     "outputs": [],
     "prompt_number": 4
    },
    {
     "cell_type": "code",
     "collapsed": false,
     "input": [
      "import matplotlib.pyplot as plt\n",
      "%matplotlib inline"
     ],
     "language": "python",
     "metadata": {},
     "outputs": [],
     "prompt_number": 5
    },
    {
     "cell_type": "code",
     "collapsed": false,
     "input": [
      "hft = pd.read_hdf('HFT_SR_RM_MA_TA.hdf')"
     ],
     "language": "python",
     "metadata": {},
     "outputs": [
      {
       "output_type": "stream",
       "stream": "stderr",
       "text": [
        "/usr/lib/python2.7/dist-packages/tables/leaf.py:392: PerformanceWarning: The Leaf ``/HFT/block0_values`` is exceeding the maximum recommended rowsize (104857600 bytes);\n",
        "be ready to see PyTables asking for *lots* of memory and possibly slow\n",
        "I/O.  You may want to reduce the rowsize by trimming the value of\n",
        "dimensions that are orthogonal (and preferably close) to the *main*\n",
        "dimension of this leave.  Alternatively, in case you have specified a\n",
        "very small/large chunksize, you may want to increase/decrease it.\n",
        "  PerformanceWarning)\n"
       ]
      }
     ],
     "prompt_number": 6
    },
    {
     "cell_type": "code",
     "collapsed": false,
     "input": [
      "hft.head"
     ],
     "language": "python",
     "metadata": {},
     "outputs": [
      {
       "metadata": {},
       "output_type": "pyout",
       "prompt_number": 7,
       "text": [
        "<bound method Panel.head of <class 'pandas.core.panel.Panel'>\n",
        "Dimensions: 38 (items) x 2700120 (major_axis) x 4 (minor_axis)\n",
        "Items axis: AveragePrice to volume\n",
        "Major_axis axis: 2015-11-19 21:00:00 to 2015-12-31 15:00:00\n",
        "Minor_axis axis: MA0001 to TA0001>"
       ]
      }
     ],
     "prompt_number": 7
    },
    {
     "cell_type": "code",
     "collapsed": false,
     "input": [
      "hft.items"
     ],
     "language": "python",
     "metadata": {},
     "outputs": [
      {
       "metadata": {},
       "output_type": "pyout",
       "prompt_number": 8,
       "text": [
        "Index([u'AveragePrice', u'LifeHigh', u'LifeLow', u'TotalAskLot',\n",
        "       u'TotalBidLot', u'askPrc_0', u'askPrc_1', u'askPrc_2', u'askPrc_3',\n",
        "       u'askPrc_4', u'askQty_0', u'askQty_1', u'askQty_2', u'askQty_3',\n",
        "       u'askQty_4', u'bidPrc_0', u'bidPrc_1', u'bidPrc_2', u'bidPrc_3',\n",
        "       u'bidPrc_4', u'bidQty_0', u'bidQty_1', u'bidQty_2', u'bidQty_3',\n",
        "       u'bidQty_4', u'close', u'high', u'highLimit', u'last', u'low',\n",
        "       u'lowLimit', u'open', u'openInterest', u'prevClose',\n",
        "       u'prevOpenInterest', u'prevSettle', u'settle', u'volume'],\n",
        "      dtype='object')"
       ]
      }
     ],
     "prompt_number": 8
    },
    {
     "cell_type": "code",
     "collapsed": false,
     "input": [
      "# output cols to csv\n",
      "cols = hft.items\n",
      "cols = np.array(cols).astype(str)\n",
      "np.savetxt('cols.csv', cols, delimiter=',', fmt='%s')"
     ],
     "language": "python",
     "metadata": {},
     "outputs": [],
     "prompt_number": 9
    },
    {
     "cell_type": "code",
     "collapsed": false,
     "input": [
      "hft.major_axis"
     ],
     "language": "python",
     "metadata": {},
     "outputs": [
      {
       "metadata": {},
       "output_type": "pyout",
       "prompt_number": 10,
       "text": [
        "DatetimeIndex([       '2015-11-19 21:00:00', '2015-11-19 21:00:00.250000',\n",
        "               '2015-11-19 21:00:00.500000', '2015-11-19 21:00:00.750000',\n",
        "                      '2015-11-19 21:00:01', '2015-11-19 21:00:01.250000',\n",
        "               '2015-11-19 21:00:01.500000', '2015-11-19 21:00:01.750000',\n",
        "                      '2015-11-19 21:00:02', '2015-11-19 21:00:02.250000',\n",
        "               ...\n",
        "               '2015-12-31 14:59:57.750000',        '2015-12-31 14:59:58',\n",
        "               '2015-12-31 14:59:58.250000', '2015-12-31 14:59:58.500000',\n",
        "               '2015-12-31 14:59:58.750000',        '2015-12-31 14:59:59',\n",
        "               '2015-12-31 14:59:59.250000', '2015-12-31 14:59:59.500000',\n",
        "               '2015-12-31 14:59:59.750000',        '2015-12-31 15:00:00'],\n",
        "              dtype='datetime64[ns]', length=2700120, freq=None)"
       ]
      }
     ],
     "prompt_number": 10
    },
    {
     "cell_type": "code",
     "collapsed": false,
     "input": [
      "hft.minor_axis"
     ],
     "language": "python",
     "metadata": {},
     "outputs": [
      {
       "metadata": {},
       "output_type": "pyout",
       "prompt_number": 11,
       "text": [
        "Index([u'MA0001', u'RM0001', u'SR0001', u'TA0001'], dtype='object')"
       ]
      }
     ],
     "prompt_number": 11
    },
    {
     "cell_type": "code",
     "collapsed": false,
     "input": [
      "night_len = int(4*3600*2.5)\n",
      "mor_len = int(4*3600*2.25)\n",
      "aftn_len = int(4*3600*1.5)"
     ],
     "language": "python",
     "metadata": {},
     "outputs": [],
     "prompt_number": 113
    },
    {
     "cell_type": "code",
     "collapsed": false,
     "input": [
      "mor_len"
     ],
     "language": "python",
     "metadata": {},
     "outputs": [
      {
       "metadata": {},
       "output_type": "pyout",
       "prompt_number": 29,
       "text": [
        "32400"
       ]
      }
     ],
     "prompt_number": 29
    },
    {
     "cell_type": "markdown",
     "metadata": {},
     "source": [
      "# FOCUS on RM"
     ]
    },
    {
     "cell_type": "code",
     "collapsed": false,
     "input": [
      "rm = hft.minor_xs('RM0001')\n",
      "type(rm)"
     ],
     "language": "python",
     "metadata": {},
     "outputs": [
      {
       "metadata": {},
       "output_type": "pyout",
       "prompt_number": 14,
       "text": [
        "pandas.core.frame.DataFrame"
       ]
      }
     ],
     "prompt_number": 14
    },
    {
     "cell_type": "markdown",
     "metadata": {},
     "source": [
      "## show columns"
     ]
    },
    {
     "cell_type": "code",
     "collapsed": false,
     "input": [
      "rm.iloc[:5, :12]"
     ],
     "language": "python",
     "metadata": {},
     "outputs": [
      {
       "html": [
        "<div style=\"max-width:1500px;overflow:auto;\">\n",
        "<table border=\"1\" class=\"dataframe\">\n",
        "  <thead>\n",
        "    <tr style=\"text-align: right;\">\n",
        "      <th></th>\n",
        "      <th>AveragePrice</th>\n",
        "      <th>LifeHigh</th>\n",
        "      <th>LifeLow</th>\n",
        "      <th>TotalAskLot</th>\n",
        "      <th>TotalBidLot</th>\n",
        "      <th>askPrc_0</th>\n",
        "      <th>askPrc_1</th>\n",
        "      <th>askPrc_2</th>\n",
        "      <th>askPrc_3</th>\n",
        "      <th>askPrc_4</th>\n",
        "      <th>askQty_0</th>\n",
        "      <th>askQty_1</th>\n",
        "    </tr>\n",
        "  </thead>\n",
        "  <tbody>\n",
        "    <tr>\n",
        "      <th>2015-11-19 21:00:00.000</th>\n",
        "      <td>1775.0</td>\n",
        "      <td>2322.0</td>\n",
        "      <td>1768.0</td>\n",
        "      <td>3103.0</td>\n",
        "      <td>2975.0</td>\n",
        "      <td>1776.0</td>\n",
        "      <td>1777.0</td>\n",
        "      <td>1778.0</td>\n",
        "      <td>1779.0</td>\n",
        "      <td>1780.0</td>\n",
        "      <td>21.0</td>\n",
        "      <td>7.0</td>\n",
        "    </tr>\n",
        "    <tr>\n",
        "      <th>2015-11-19 21:00:00.250</th>\n",
        "      <td>1775.0</td>\n",
        "      <td>2322.0</td>\n",
        "      <td>1768.0</td>\n",
        "      <td>3424.0</td>\n",
        "      <td>3010.0</td>\n",
        "      <td>1776.0</td>\n",
        "      <td>1777.0</td>\n",
        "      <td>1778.0</td>\n",
        "      <td>1779.0</td>\n",
        "      <td>1780.0</td>\n",
        "      <td>20.0</td>\n",
        "      <td>7.0</td>\n",
        "    </tr>\n",
        "    <tr>\n",
        "      <th>2015-11-19 21:00:00.500</th>\n",
        "      <td>1775.0</td>\n",
        "      <td>2322.0</td>\n",
        "      <td>1768.0</td>\n",
        "      <td>3648.0</td>\n",
        "      <td>3170.0</td>\n",
        "      <td>1776.0</td>\n",
        "      <td>1777.0</td>\n",
        "      <td>1778.0</td>\n",
        "      <td>1779.0</td>\n",
        "      <td>1780.0</td>\n",
        "      <td>8.0</td>\n",
        "      <td>13.0</td>\n",
        "    </tr>\n",
        "    <tr>\n",
        "      <th>2015-11-19 21:00:00.750</th>\n",
        "      <td>1775.0</td>\n",
        "      <td>2322.0</td>\n",
        "      <td>1768.0</td>\n",
        "      <td>3830.0</td>\n",
        "      <td>3234.0</td>\n",
        "      <td>1775.0</td>\n",
        "      <td>1776.0</td>\n",
        "      <td>1777.0</td>\n",
        "      <td>1778.0</td>\n",
        "      <td>1779.0</td>\n",
        "      <td>38.0</td>\n",
        "      <td>37.0</td>\n",
        "    </tr>\n",
        "    <tr>\n",
        "      <th>2015-11-19 21:00:01.000</th>\n",
        "      <td>1775.0</td>\n",
        "      <td>2322.0</td>\n",
        "      <td>1768.0</td>\n",
        "      <td>4012.0</td>\n",
        "      <td>3294.0</td>\n",
        "      <td>1775.0</td>\n",
        "      <td>1776.0</td>\n",
        "      <td>1777.0</td>\n",
        "      <td>1778.0</td>\n",
        "      <td>1779.0</td>\n",
        "      <td>96.0</td>\n",
        "      <td>88.0</td>\n",
        "    </tr>\n",
        "  </tbody>\n",
        "</table>\n",
        "</div>"
       ],
       "metadata": {},
       "output_type": "pyout",
       "prompt_number": 15,
       "text": [
        "                         AveragePrice  LifeHigh  LifeLow  TotalAskLot  \\\n",
        "2015-11-19 21:00:00.000        1775.0    2322.0   1768.0       3103.0   \n",
        "2015-11-19 21:00:00.250        1775.0    2322.0   1768.0       3424.0   \n",
        "2015-11-19 21:00:00.500        1775.0    2322.0   1768.0       3648.0   \n",
        "2015-11-19 21:00:00.750        1775.0    2322.0   1768.0       3830.0   \n",
        "2015-11-19 21:00:01.000        1775.0    2322.0   1768.0       4012.0   \n",
        "\n",
        "                         TotalBidLot  askPrc_0  askPrc_1  askPrc_2  askPrc_3  \\\n",
        "2015-11-19 21:00:00.000       2975.0    1776.0    1777.0    1778.0    1779.0   \n",
        "2015-11-19 21:00:00.250       3010.0    1776.0    1777.0    1778.0    1779.0   \n",
        "2015-11-19 21:00:00.500       3170.0    1776.0    1777.0    1778.0    1779.0   \n",
        "2015-11-19 21:00:00.750       3234.0    1775.0    1776.0    1777.0    1778.0   \n",
        "2015-11-19 21:00:01.000       3294.0    1775.0    1776.0    1777.0    1778.0   \n",
        "\n",
        "                         askPrc_4  askQty_0  askQty_1  \n",
        "2015-11-19 21:00:00.000    1780.0      21.0       7.0  \n",
        "2015-11-19 21:00:00.250    1780.0      20.0       7.0  \n",
        "2015-11-19 21:00:00.500    1780.0       8.0      13.0  \n",
        "2015-11-19 21:00:00.750    1779.0      38.0      37.0  \n",
        "2015-11-19 21:00:01.000    1779.0      96.0      88.0  "
       ]
      }
     ],
     "prompt_number": 15
    },
    {
     "cell_type": "code",
     "collapsed": false,
     "input": [
      "rm.iloc[:5, 12:24]"
     ],
     "language": "python",
     "metadata": {},
     "outputs": [
      {
       "html": [
        "<div style=\"max-width:1500px;overflow:auto;\">\n",
        "<table border=\"1\" class=\"dataframe\">\n",
        "  <thead>\n",
        "    <tr style=\"text-align: right;\">\n",
        "      <th></th>\n",
        "      <th>askQty_2</th>\n",
        "      <th>askQty_3</th>\n",
        "      <th>askQty_4</th>\n",
        "      <th>bidPrc_0</th>\n",
        "      <th>bidPrc_1</th>\n",
        "      <th>bidPrc_2</th>\n",
        "      <th>bidPrc_3</th>\n",
        "      <th>bidPrc_4</th>\n",
        "      <th>bidQty_0</th>\n",
        "      <th>bidQty_1</th>\n",
        "      <th>bidQty_2</th>\n",
        "      <th>bidQty_3</th>\n",
        "    </tr>\n",
        "  </thead>\n",
        "  <tbody>\n",
        "    <tr>\n",
        "      <th>2015-11-19 21:00:00.000</th>\n",
        "      <td>58.0</td>\n",
        "      <td>30.0</td>\n",
        "      <td>262.0</td>\n",
        "      <td>1775.0</td>\n",
        "      <td>1774.0</td>\n",
        "      <td>1773.0</td>\n",
        "      <td>1772.0</td>\n",
        "      <td>1771.0</td>\n",
        "      <td>83.0</td>\n",
        "      <td>26.0</td>\n",
        "      <td>68.0</td>\n",
        "      <td>154.0</td>\n",
        "    </tr>\n",
        "    <tr>\n",
        "      <th>2015-11-19 21:00:00.250</th>\n",
        "      <td>58.0</td>\n",
        "      <td>352.0</td>\n",
        "      <td>262.0</td>\n",
        "      <td>1775.0</td>\n",
        "      <td>1774.0</td>\n",
        "      <td>1773.0</td>\n",
        "      <td>1772.0</td>\n",
        "      <td>1771.0</td>\n",
        "      <td>83.0</td>\n",
        "      <td>56.0</td>\n",
        "      <td>68.0</td>\n",
        "      <td>159.0</td>\n",
        "    </tr>\n",
        "    <tr>\n",
        "      <th>2015-11-19 21:00:00.500</th>\n",
        "      <td>80.0</td>\n",
        "      <td>362.0</td>\n",
        "      <td>263.0</td>\n",
        "      <td>1775.0</td>\n",
        "      <td>1774.0</td>\n",
        "      <td>1773.0</td>\n",
        "      <td>1772.0</td>\n",
        "      <td>1771.0</td>\n",
        "      <td>83.0</td>\n",
        "      <td>109.0</td>\n",
        "      <td>89.0</td>\n",
        "      <td>160.0</td>\n",
        "    </tr>\n",
        "    <tr>\n",
        "      <th>2015-11-19 21:00:00.750</th>\n",
        "      <td>55.0</td>\n",
        "      <td>84.0</td>\n",
        "      <td>362.0</td>\n",
        "      <td>1774.0</td>\n",
        "      <td>1773.0</td>\n",
        "      <td>1772.0</td>\n",
        "      <td>1771.0</td>\n",
        "      <td>1770.0</td>\n",
        "      <td>183.0</td>\n",
        "      <td>90.0</td>\n",
        "      <td>164.0</td>\n",
        "      <td>88.0</td>\n",
        "    </tr>\n",
        "    <tr>\n",
        "      <th>2015-11-19 21:00:01.000</th>\n",
        "      <td>77.0</td>\n",
        "      <td>84.0</td>\n",
        "      <td>369.0</td>\n",
        "      <td>1774.0</td>\n",
        "      <td>1773.0</td>\n",
        "      <td>1772.0</td>\n",
        "      <td>1771.0</td>\n",
        "      <td>1770.0</td>\n",
        "      <td>185.0</td>\n",
        "      <td>94.0</td>\n",
        "      <td>174.0</td>\n",
        "      <td>89.0</td>\n",
        "    </tr>\n",
        "  </tbody>\n",
        "</table>\n",
        "</div>"
       ],
       "metadata": {},
       "output_type": "pyout",
       "prompt_number": 16,
       "text": [
        "                         askQty_2  askQty_3  askQty_4  bidPrc_0  bidPrc_1  \\\n",
        "2015-11-19 21:00:00.000      58.0      30.0     262.0    1775.0    1774.0   \n",
        "2015-11-19 21:00:00.250      58.0     352.0     262.0    1775.0    1774.0   \n",
        "2015-11-19 21:00:00.500      80.0     362.0     263.0    1775.0    1774.0   \n",
        "2015-11-19 21:00:00.750      55.0      84.0     362.0    1774.0    1773.0   \n",
        "2015-11-19 21:00:01.000      77.0      84.0     369.0    1774.0    1773.0   \n",
        "\n",
        "                         bidPrc_2  bidPrc_3  bidPrc_4  bidQty_0  bidQty_1  \\\n",
        "2015-11-19 21:00:00.000    1773.0    1772.0    1771.0      83.0      26.0   \n",
        "2015-11-19 21:00:00.250    1773.0    1772.0    1771.0      83.0      56.0   \n",
        "2015-11-19 21:00:00.500    1773.0    1772.0    1771.0      83.0     109.0   \n",
        "2015-11-19 21:00:00.750    1772.0    1771.0    1770.0     183.0      90.0   \n",
        "2015-11-19 21:00:01.000    1772.0    1771.0    1770.0     185.0      94.0   \n",
        "\n",
        "                         bidQty_2  bidQty_3  \n",
        "2015-11-19 21:00:00.000      68.0     154.0  \n",
        "2015-11-19 21:00:00.250      68.0     159.0  \n",
        "2015-11-19 21:00:00.500      89.0     160.0  \n",
        "2015-11-19 21:00:00.750     164.0      88.0  \n",
        "2015-11-19 21:00:01.000     174.0      89.0  "
       ]
      }
     ],
     "prompt_number": 16
    },
    {
     "cell_type": "code",
     "collapsed": false,
     "input": [
      "rm.iloc[:5, 24:]"
     ],
     "language": "python",
     "metadata": {},
     "outputs": [
      {
       "html": [
        "<div style=\"max-width:1500px;overflow:auto;\">\n",
        "<table border=\"1\" class=\"dataframe\">\n",
        "  <thead>\n",
        "    <tr style=\"text-align: right;\">\n",
        "      <th></th>\n",
        "      <th>bidQty_4</th>\n",
        "      <th>close</th>\n",
        "      <th>high</th>\n",
        "      <th>highLimit</th>\n",
        "      <th>last</th>\n",
        "      <th>low</th>\n",
        "      <th>lowLimit</th>\n",
        "      <th>open</th>\n",
        "      <th>openInterest</th>\n",
        "      <th>prevClose</th>\n",
        "      <th>prevOpenInterest</th>\n",
        "      <th>prevSettle</th>\n",
        "      <th>settle</th>\n",
        "      <th>volume</th>\n",
        "    </tr>\n",
        "  </thead>\n",
        "  <tbody>\n",
        "    <tr>\n",
        "      <th>2015-11-19 21:00:00.000</th>\n",
        "      <td>60.0</td>\n",
        "      <td>0.0</td>\n",
        "      <td>1775.0</td>\n",
        "      <td>1866.0</td>\n",
        "      <td>1775.0</td>\n",
        "      <td>1775.0</td>\n",
        "      <td>1722.0</td>\n",
        "      <td>1775.0</td>\n",
        "      <td>587568.0</td>\n",
        "      <td>1779.0</td>\n",
        "      <td>587568.0</td>\n",
        "      <td>1794.0</td>\n",
        "      <td>1775.0</td>\n",
        "      <td>520.0</td>\n",
        "    </tr>\n",
        "    <tr>\n",
        "      <th>2015-11-19 21:00:00.250</th>\n",
        "      <td>60.0</td>\n",
        "      <td>0.0</td>\n",
        "      <td>1776.0</td>\n",
        "      <td>1866.0</td>\n",
        "      <td>1776.0</td>\n",
        "      <td>1775.0</td>\n",
        "      <td>1722.0</td>\n",
        "      <td>1775.0</td>\n",
        "      <td>587566.0</td>\n",
        "      <td>1779.0</td>\n",
        "      <td>587568.0</td>\n",
        "      <td>1794.0</td>\n",
        "      <td>1775.0</td>\n",
        "      <td>522.0</td>\n",
        "    </tr>\n",
        "    <tr>\n",
        "      <th>2015-11-19 21:00:00.500</th>\n",
        "      <td>80.0</td>\n",
        "      <td>0.0</td>\n",
        "      <td>1777.0</td>\n",
        "      <td>1866.0</td>\n",
        "      <td>1775.0</td>\n",
        "      <td>1775.0</td>\n",
        "      <td>1722.0</td>\n",
        "      <td>1775.0</td>\n",
        "      <td>587534.0</td>\n",
        "      <td>1779.0</td>\n",
        "      <td>587568.0</td>\n",
        "      <td>1794.0</td>\n",
        "      <td>1775.0</td>\n",
        "      <td>674.0</td>\n",
        "    </tr>\n",
        "    <tr>\n",
        "      <th>2015-11-19 21:00:00.750</th>\n",
        "      <td>407.0</td>\n",
        "      <td>0.0</td>\n",
        "      <td>1777.0</td>\n",
        "      <td>1866.0</td>\n",
        "      <td>1775.0</td>\n",
        "      <td>1775.0</td>\n",
        "      <td>1722.0</td>\n",
        "      <td>1775.0</td>\n",
        "      <td>587648.0</td>\n",
        "      <td>1779.0</td>\n",
        "      <td>587568.0</td>\n",
        "      <td>1794.0</td>\n",
        "      <td>1775.0</td>\n",
        "      <td>1036.0</td>\n",
        "    </tr>\n",
        "    <tr>\n",
        "      <th>2015-11-19 21:00:01.000</th>\n",
        "      <td>422.0</td>\n",
        "      <td>0.0</td>\n",
        "      <td>1777.0</td>\n",
        "      <td>1866.0</td>\n",
        "      <td>1775.0</td>\n",
        "      <td>1774.0</td>\n",
        "      <td>1722.0</td>\n",
        "      <td>1775.0</td>\n",
        "      <td>587652.0</td>\n",
        "      <td>1779.0</td>\n",
        "      <td>587568.0</td>\n",
        "      <td>1794.0</td>\n",
        "      <td>1775.0</td>\n",
        "      <td>1086.0</td>\n",
        "    </tr>\n",
        "  </tbody>\n",
        "</table>\n",
        "</div>"
       ],
       "metadata": {},
       "output_type": "pyout",
       "prompt_number": 17,
       "text": [
        "                         bidQty_4  close    high  highLimit    last     low  \\\n",
        "2015-11-19 21:00:00.000      60.0    0.0  1775.0     1866.0  1775.0  1775.0   \n",
        "2015-11-19 21:00:00.250      60.0    0.0  1776.0     1866.0  1776.0  1775.0   \n",
        "2015-11-19 21:00:00.500      80.0    0.0  1777.0     1866.0  1775.0  1775.0   \n",
        "2015-11-19 21:00:00.750     407.0    0.0  1777.0     1866.0  1775.0  1775.0   \n",
        "2015-11-19 21:00:01.000     422.0    0.0  1777.0     1866.0  1775.0  1774.0   \n",
        "\n",
        "                         lowLimit    open  openInterest  prevClose  \\\n",
        "2015-11-19 21:00:00.000    1722.0  1775.0      587568.0     1779.0   \n",
        "2015-11-19 21:00:00.250    1722.0  1775.0      587566.0     1779.0   \n",
        "2015-11-19 21:00:00.500    1722.0  1775.0      587534.0     1779.0   \n",
        "2015-11-19 21:00:00.750    1722.0  1775.0      587648.0     1779.0   \n",
        "2015-11-19 21:00:01.000    1722.0  1775.0      587652.0     1779.0   \n",
        "\n",
        "                         prevOpenInterest  prevSettle  settle  volume  \n",
        "2015-11-19 21:00:00.000          587568.0      1794.0  1775.0   520.0  \n",
        "2015-11-19 21:00:00.250          587568.0      1794.0  1775.0   522.0  \n",
        "2015-11-19 21:00:00.500          587568.0      1794.0  1775.0   674.0  \n",
        "2015-11-19 21:00:00.750          587568.0      1794.0  1775.0  1036.0  \n",
        "2015-11-19 21:00:01.000          587568.0      1794.0  1775.0  1086.0  "
       ]
      }
     ],
     "prompt_number": 17
    },
    {
     "cell_type": "markdown",
     "metadata": {},
     "source": [
      "## ALL datatype are float64"
     ]
    },
    {
     "cell_type": "code",
     "collapsed": false,
     "input": [
      "for col, ser in rm.iteritems():\n",
      "    print col, ser.dtype, ser.std(axis=0)\n",
      "    #ser.plot(marker='*', linestyle='-')\n",
      "    #plt.show()"
     ],
     "language": "python",
     "metadata": {},
     "outputs": [
      {
       "output_type": "stream",
       "stream": "stdout",
       "text": [
        "AveragePrice float64 "
       ]
      },
      {
       "output_type": "stream",
       "stream": "stdout",
       "text": [
        "54.434424448\n",
        "LifeHigh float64 "
       ]
      },
      {
       "output_type": "stream",
       "stream": "stdout",
       "text": [
        "21.2264025889\n",
        "LifeLow float64 "
       ]
      },
      {
       "output_type": "stream",
       "stream": "stdout",
       "text": [
        "23.243718561\n",
        "TotalAskLot float64 "
       ]
      },
      {
       "output_type": "stream",
       "stream": "stdout",
       "text": [
        "4143.52344434\n",
        "TotalBidLot float64 "
       ]
      },
      {
       "output_type": "stream",
       "stream": "stdout",
       "text": [
        "5431.52860007\n",
        "askPrc_0 float64 "
       ]
      },
      {
       "output_type": "stream",
       "stream": "stdout",
       "text": [
        "54.7464276683\n",
        "askPrc_1 float64 "
       ]
      },
      {
       "output_type": "stream",
       "stream": "stdout",
       "text": [
        "54.7464246804\n",
        "askPrc_2 float64 "
       ]
      },
      {
       "output_type": "stream",
       "stream": "stdout",
       "text": [
        "54.746428347\n",
        "askPrc_3 float64 "
       ]
      },
      {
       "output_type": "stream",
       "stream": "stdout",
       "text": [
        "55.0503771675\n",
        "askPrc_4 float64 "
       ]
      },
      {
       "output_type": "stream",
       "stream": "stdout",
       "text": [
        "58.4466642821\n",
        "askQty_0 float64 "
       ]
      },
      {
       "output_type": "stream",
       "stream": "stdout",
       "text": [
        "748.917923457\n",
        "askQty_1 float64 "
       ]
      },
      {
       "output_type": "stream",
       "stream": "stdout",
       "text": [
        "421.785572043\n",
        "askQty_2 float64 "
       ]
      },
      {
       "output_type": "stream",
       "stream": "stdout",
       "text": [
        "418.087426985\n",
        "askQty_3 float64 "
       ]
      },
      {
       "output_type": "stream",
       "stream": "stdout",
       "text": [
        "413.856144793\n",
        "askQty_4 float64 "
       ]
      },
      {
       "output_type": "stream",
       "stream": "stdout",
       "text": [
        "394.690490296\n",
        "bidPrc_0 float64 "
       ]
      },
      {
       "output_type": "stream",
       "stream": "stdout",
       "text": [
        "110.444738874\n",
        "bidPrc_1 float64 "
       ]
      },
      {
       "output_type": "stream",
       "stream": "stdout",
       "text": [
        "126.184326121\n",
        "bidPrc_2 float64 "
       ]
      },
      {
       "output_type": "stream",
       "stream": "stdout",
       "text": [
        "138.026853276\n",
        "bidPrc_3 float64 "
       ]
      },
      {
       "output_type": "stream",
       "stream": "stdout",
       "text": [
        "143.214587735\n",
        "bidPrc_4 float64 "
       ]
      },
      {
       "output_type": "stream",
       "stream": "stdout",
       "text": [
        "147.346242573\n",
        "bidQty_0 float64 "
       ]
      },
      {
       "output_type": "stream",
       "stream": "stdout",
       "text": [
        "390.154663217\n",
        "bidQty_1 float64 "
       ]
      },
      {
       "output_type": "stream",
       "stream": "stdout",
       "text": [
        "431.977763012\n",
        "bidQty_2 float64 "
       ]
      },
      {
       "output_type": "stream",
       "stream": "stdout",
       "text": [
        "397.773367011\n",
        "bidQty_3 float64 "
       ]
      },
      {
       "output_type": "stream",
       "stream": "stdout",
       "text": [
        "393.917308311\n",
        "bidQty_4 float64 "
       ]
      },
      {
       "output_type": "stream",
       "stream": "stdout",
       "text": [
        "382.138728729\n",
        "close float64 "
       ]
      },
      {
       "output_type": "stream",
       "stream": "stdout",
       "text": [
        "2.53507178231\n",
        "high float64 "
       ]
      },
      {
       "output_type": "stream",
       "stream": "stdout",
       "text": [
        "52.5286801604\n",
        "highLimit float64 "
       ]
      },
      {
       "output_type": "stream",
       "stream": "stdout",
       "text": [
        "55.9599265724\n",
        "last float64 "
       ]
      },
      {
       "output_type": "stream",
       "stream": "stdout",
       "text": [
        "54.7501530753\n",
        "low float64 "
       ]
      },
      {
       "output_type": "stream",
       "stream": "stdout",
       "text": [
        "57.651762213\n",
        "lowLimit float64 "
       ]
      },
      {
       "output_type": "stream",
       "stream": "stdout",
       "text": [
        "51.8069267635\n",
        "open float64 "
       ]
      },
      {
       "output_type": "stream",
       "stream": "stdout",
       "text": [
        "55.7954302954\n",
        "openInterest float64 "
       ]
      },
      {
       "output_type": "stream",
       "stream": "stdout",
       "text": [
        "87128.4161217\n",
        "prevClose float64 "
       ]
      },
      {
       "output_type": "stream",
       "stream": "stdout",
       "text": [
        "55.845033993\n",
        "prevOpenInterest float64 "
       ]
      },
      {
       "output_type": "stream",
       "stream": "stdout",
       "text": [
        "87144.7523699\n",
        "prevSettle float64 "
       ]
      },
      {
       "output_type": "stream",
       "stream": "stdout",
       "text": [
        "53.8828045932\n",
        "settle float64 "
       ]
      },
      {
       "output_type": "stream",
       "stream": "stdout",
       "text": [
        "54.434424448\n",
        "volume float64 "
       ]
      },
      {
       "output_type": "stream",
       "stream": "stdout",
       "text": [
        "288637.682074\n"
       ]
      }
     ],
     "prompt_number": 18
    },
    {
     "cell_type": "markdown",
     "metadata": {},
     "source": [
      "## Standard Deviation"
     ]
    },
    {
     "cell_type": "code",
     "collapsed": false,
     "input": [
      "rm_20 = rm.ix[night_len + mor_len + aftn_len + 1: night_len + mor_len + aftn_len +night_len + mor_len + aftn_len, :]\n",
      "for col, ser in rm_20.iteritems():\n",
      "    print col, ser.dtype, ser.std(axis=0)\n",
      "    print ser.mean(axis=0)\n",
      "    #ser.plot(marker='*', linestyle='-')\n",
      "    #plt.show()"
     ],
     "language": "python",
     "metadata": {},
     "outputs": [
      {
       "output_type": "stream",
       "stream": "stdout",
       "text": [
        "AveragePrice float64 9.78584380897\n",
        "1778.29026989\n",
        "LifeHigh float64 0.0\n",
        "2322.0\n",
        "LifeLow float64 21.9351354691\n",
        "1749.2633807\n",
        "TotalAskLot float64 4756.83462798\n",
        "17630.6455627\n",
        "TotalBidLot float64 3782.283291\n",
        "8361.70233003\n",
        "askPrc_0 float64 30.1693681976\n",
        "1762.12290137\n",
        "askPrc_1 float64 30.1693681976\n",
        "1763.12290137\n",
        "askPrc_2 float64 30.1693681976\n",
        "1764.12290137\n",
        "askPrc_3 float64 30.1693681976\n",
        "1765.12290137\n",
        "askPrc_4 float64 30.1693681976\n",
        "1766.12290137"
       ]
      },
      {
       "output_type": "stream",
       "stream": "stdout",
       "text": [
        "\n",
        "askQty_0 float64 3464.61119866\n",
        "1296.75515284\n",
        "askQty_1 float64 383.672196245\n",
        "566.726741408\n",
        "askQty_2 float64 300.231166411\n",
        "522.411326793\n",
        "askQty_3 float64 329.549605872\n",
        "523.192935477\n",
        "askQty_4 float64 308.92017189\n",
        "474.665229614\n",
        "bidPrc_0 float64 481.373354751\n",
        "1623.45279392\n",
        "bidPrc_1 float64 560.935358248\n",
        "1566.35854843\n",
        "bidPrc_2 float64 616.038855766\n",
        "1518.06502294\n",
        "bidPrc_3 float64 638.889974348\n",
        "1494.88815431\n",
        "bidPrc_4 float64 "
       ]
      },
      {
       "output_type": "stream",
       "stream": "stdout",
       "text": [
        "656.518057259\n",
        "1475.57688419\n",
        "bidQty_0 float64 820.390116646\n",
        "502.691007678\n",
        "bidQty_1 float64 892.580542505\n",
        "643.946377182\n",
        "bidQty_2 float64 530.384970412\n",
        "498.109745664\n",
        "bidQty_3 float64 522.438849381\n",
        "524.685940955\n",
        "bidQty_4 float64 486.345020246\n",
        "523.983210925\n",
        "close float64 0.0\n",
        "0.0\n",
        "high float64 3.88692879213\n",
        "1794.10597896\n",
        "highLimit float64 0.0750551179951\n",
        "1853.00043334\n",
        "last float64 30.1111491551\n",
        "1761.64696274\n",
        "low float64 "
       ]
      },
      {
       "output_type": "stream",
       "stream": "stdout",
       "text": [
        "26.3038950071\n",
        "1755.01507795\n",
        "lowLimit float64 0.0750551179951\n",
        "1709.00043334\n",
        "open float64 0.01154694123\n",
        "1776.99993333\n",
        "openInterest float64 11622.1768732\n",
        "538866.873599\n",
        "prevClose float64 0.01154694123\n",
        "1777.00006667\n",
        "prevOpenInterest float64 237.047156511\n",
        "546511.368615\n",
        "prevSettle float64 0.0750551179951\n",
        "1781.00043334\n",
        "settle float64 9.78584380897\n",
        "1778.29026989\n",
        "volume float64 416314.41521\n",
        "635516.389782\n"
       ]
      }
     ],
     "prompt_number": 22
    },
    {
     "cell_type": "code",
     "collapsed": false,
     "input": [
      "rm_20['last'].plot()"
     ],
     "language": "python",
     "metadata": {},
     "outputs": [
      {
       "metadata": {},
       "output_type": "pyout",
       "prompt_number": 24,
       "text": [
        "<matplotlib.axes.AxesSubplot at 0x7f3e24283910>"
       ]
      },
      {
       "metadata": {},
       "output_type": "display_data",
       "png": "[encoded data removed]",
       "text": [
        "<matplotlib.figure.Figure at 0x7f3e241e91d0>"
       ]
      }
     ],
     "prompt_number": 24
    },
    {
     "cell_type": "code",
     "collapsed": false,
     "input": [
      "rm.ix[night_len + mor_len, :]"
     ],
     "language": "python",
     "metadata": {},
     "outputs": [
      {
       "metadata": {},
       "output_type": "pyout",
       "prompt_number": 28,
       "text": [
        "AveragePrice          1782.0\n",
        "LifeHigh              2322.0\n",
        "LifeLow               1765.0\n",
        "TotalAskLot          18021.0\n",
        "TotalBidLot           9921.0\n",
        "askPrc_0              1778.0\n",
        "askPrc_1              1779.0\n",
        "askPrc_2              1780.0\n",
        "askPrc_3              1781.0\n",
        "askPrc_4              1782.0\n",
        "askQty_0               361.0\n",
        "askQty_1               267.0\n",
        "askQty_2               942.0\n",
        "askQty_3               481.0\n",
        "askQty_4               508.0\n",
        "bidPrc_0              1777.0\n",
        "bidPrc_1              1776.0\n",
        "bidPrc_2              1775.0\n",
        "bidPrc_3              1774.0\n",
        "bidPrc_4              1773.0\n",
        "bidQty_0               155.0\n",
        "bidQty_1               476.0\n",
        "bidQty_2               540.0\n",
        "bidQty_3                95.0\n",
        "bidQty_4               315.0\n",
        "close                    0.0\n",
        "high                  1798.0\n",
        "highLimit             1866.0\n",
        "last                  1778.0\n",
        "low                   1765.0\n",
        "lowLimit              1722.0\n",
        "open                  1775.0\n",
        "openInterest        556792.0\n",
        "prevClose             1779.0\n",
        "prevOpenInterest    587568.0\n",
        "prevSettle            1794.0\n",
        "settle                1782.0\n",
        "volume              767392.0\n",
        "Name: 2015-11-20 11:29:59.500000, dtype: float64"
       ]
      }
     ],
     "prompt_number": 28
    },
    {
     "cell_type": "markdown",
     "metadata": {},
     "source": [
      "# Resample\n",
      "datetimeindex format: 2015-11-20 09:30:00.000000"
     ]
    },
    {
     "cell_type": "markdown",
     "metadata": {},
     "source": [
      "### In this data set, Monday's night trading begins at Sunday night."
     ]
    },
    {
     "cell_type": "code",
     "collapsed": false,
     "input": [
      "rm.ix['2015-11-20 14:59:00': '2015-11-23 09:01:00', 'last'].plot()"
     ],
     "language": "python",
     "metadata": {},
     "outputs": [
      {
       "metadata": {},
       "output_type": "pyout",
       "prompt_number": 120,
       "text": [
        "<matplotlib.axes.AxesSubplot at 0x7f3e20084f10>"
       ]
      },
      {
       "metadata": {},
       "output_type": "display_data",
       "png": "[encoded data removed]",
       "text": [
        "<matplotlib.figure.Figure at 0x7f3e200d2b90>"
       ]
      }
     ],
     "prompt_number": 120
    },
    {
     "cell_type": "code",
     "collapsed": false,
     "input": [
      "rm_23 = rm.ix['2015-11-22 21:00:00': '2015-11-23 15:00:00', :]\n",
      "rm_23.describe()"
     ],
     "language": "python",
     "metadata": {},
     "outputs": [
      {
       "html": [
        "<div style=\"max-width:1500px;overflow:auto;\">\n",
        "<table border=\"1\" class=\"dataframe\">\n",
        "  <thead>\n",
        "    <tr style=\"text-align: right;\">\n",
        "      <th></th>\n",
        "      <th>AveragePrice</th>\n",
        "      <th>LifeHigh</th>\n",
        "      <th>LifeLow</th>\n",
        "      <th>TotalAskLot</th>\n",
        "      <th>TotalBidLot</th>\n",
        "      <th>askPrc_0</th>\n",
        "      <th>askPrc_1</th>\n",
        "      <th>askPrc_2</th>\n",
        "      <th>askPrc_3</th>\n",
        "      <th>askPrc_4</th>\n",
        "      <th>...</th>\n",
        "      <th>last</th>\n",
        "      <th>low</th>\n",
        "      <th>lowLimit</th>\n",
        "      <th>open</th>\n",
        "      <th>openInterest</th>\n",
        "      <th>prevClose</th>\n",
        "      <th>prevOpenInterest</th>\n",
        "      <th>prevSettle</th>\n",
        "      <th>settle</th>\n",
        "      <th>volume</th>\n",
        "    </tr>\n",
        "  </thead>\n",
        "  <tbody>\n",
        "    <tr>\n",
        "      <th>count</th>\n",
        "      <td>90004.000000</td>\n",
        "      <td>90004.0</td>\n",
        "      <td>90004.000000</td>\n",
        "      <td>90004.000000</td>\n",
        "      <td>90004.000000</td>\n",
        "      <td>90004.000000</td>\n",
        "      <td>90004.000000</td>\n",
        "      <td>90004.000000</td>\n",
        "      <td>90004.000000</td>\n",
        "      <td>90004.000000</td>\n",
        "      <td>...</td>\n",
        "      <td>90004.000000</td>\n",
        "      <td>90004.000000</td>\n",
        "      <td>90004.0</td>\n",
        "      <td>90004.0</td>\n",
        "      <td>90004.000000</td>\n",
        "      <td>90004.0</td>\n",
        "      <td>90004.0</td>\n",
        "      <td>90004.0</td>\n",
        "      <td>90004.000000</td>\n",
        "      <td>9.000400e+04</td>\n",
        "    </tr>\n",
        "    <tr>\n",
        "      <th>mean</th>\n",
        "      <td>1778.288109</td>\n",
        "      <td>2322.0</td>\n",
        "      <td>1749.259277</td>\n",
        "      <td>17630.756733</td>\n",
        "      <td>8360.978768</td>\n",
        "      <td>1762.117684</td>\n",
        "      <td>1763.117684</td>\n",
        "      <td>1764.117684</td>\n",
        "      <td>1765.117684</td>\n",
        "      <td>1766.117684</td>\n",
        "      <td>...</td>\n",
        "      <td>1761.641805</td>\n",
        "      <td>1755.010655</td>\n",
        "      <td>1709.0</td>\n",
        "      <td>1777.0</td>\n",
        "      <td>538863.792909</td>\n",
        "      <td>1777.0</td>\n",
        "      <td>546510.0</td>\n",
        "      <td>1781.0</td>\n",
        "      <td>1778.288109</td>\n",
        "      <td>6.355760e+05</td>\n",
        "    </tr>\n",
        "    <tr>\n",
        "      <th>std</th>\n",
        "      <td>9.788023</td>\n",
        "      <td>0.0</td>\n",
        "      <td>21.937622</td>\n",
        "      <td>4756.631191</td>\n",
        "      <td>3782.998119</td>\n",
        "      <td>30.172564</td>\n",
        "      <td>30.172564</td>\n",
        "      <td>30.172564</td>\n",
        "      <td>30.172564</td>\n",
        "      <td>30.172564</td>\n",
        "      <td>...</td>\n",
        "      <td>30.114289</td>\n",
        "      <td>26.306678</td>\n",
        "      <td>0.0</td>\n",
        "      <td>0.0</td>\n",
        "      <td>11625.633963</td>\n",
        "      <td>0.0</td>\n",
        "      <td>0.0</td>\n",
        "      <td>0.0</td>\n",
        "      <td>9.788023</td>\n",
        "      <td>4.163665e+05</td>\n",
        "    </tr>\n",
        "    <tr>\n",
        "      <th>min</th>\n",
        "      <td>1755.000000</td>\n",
        "      <td>2322.0</td>\n",
        "      <td>1709.000000</td>\n",
        "      <td>4594.000000</td>\n",
        "      <td>0.000000</td>\n",
        "      <td>1709.000000</td>\n",
        "      <td>1710.000000</td>\n",
        "      <td>1711.000000</td>\n",
        "      <td>1712.000000</td>\n",
        "      <td>1713.000000</td>\n",
        "      <td>...</td>\n",
        "      <td>1709.000000</td>\n",
        "      <td>1709.000000</td>\n",
        "      <td>1709.0</td>\n",
        "      <td>1777.0</td>\n",
        "      <td>507074.000000</td>\n",
        "      <td>1777.0</td>\n",
        "      <td>546510.0</td>\n",
        "      <td>1781.0</td>\n",
        "      <td>1755.000000</td>\n",
        "      <td>4.900000e+02</td>\n",
        "    </tr>\n",
        "    <tr>\n",
        "      <th>25%</th>\n",
        "      <td>1775.000000</td>\n",
        "      <td>2322.0</td>\n",
        "      <td>1742.000000</td>\n",
        "      <td>15060.000000</td>\n",
        "      <td>6522.000000</td>\n",
        "      <td>1746.000000</td>\n",
        "      <td>1747.000000</td>\n",
        "      <td>1748.000000</td>\n",
        "      <td>1749.000000</td>\n",
        "      <td>1750.000000</td>\n",
        "      <td>...</td>\n",
        "      <td>1745.000000</td>\n",
        "      <td>1742.000000</td>\n",
        "      <td>1709.0</td>\n",
        "      <td>1777.0</td>\n",
        "      <td>532352.000000</td>\n",
        "      <td>1777.0</td>\n",
        "      <td>546510.0</td>\n",
        "      <td>1781.0</td>\n",
        "      <td>1775.000000</td>\n",
        "      <td>2.731060e+05</td>\n",
        "    </tr>\n",
        "    <tr>\n",
        "      <th>50%</th>\n",
        "      <td>1782.000000</td>\n",
        "      <td>2322.0</td>\n",
        "      <td>1765.000000</td>\n",
        "      <td>17409.000000</td>\n",
        "      <td>8422.000000</td>\n",
        "      <td>1778.000000</td>\n",
        "      <td>1779.000000</td>\n",
        "      <td>1780.000000</td>\n",
        "      <td>1781.000000</td>\n",
        "      <td>1782.000000</td>\n",
        "      <td>...</td>\n",
        "      <td>1778.000000</td>\n",
        "      <td>1776.000000</td>\n",
        "      <td>1709.0</td>\n",
        "      <td>1777.0</td>\n",
        "      <td>535940.000000</td>\n",
        "      <td>1777.0</td>\n",
        "      <td>546510.0</td>\n",
        "      <td>1781.0</td>\n",
        "      <td>1782.000000</td>\n",
        "      <td>5.432880e+05</td>\n",
        "    </tr>\n",
        "    <tr>\n",
        "      <th>75%</th>\n",
        "      <td>1786.000000</td>\n",
        "      <td>2322.0</td>\n",
        "      <td>1765.000000</td>\n",
        "      <td>19278.000000</td>\n",
        "      <td>11218.000000</td>\n",
        "      <td>1787.000000</td>\n",
        "      <td>1788.000000</td>\n",
        "      <td>1789.000000</td>\n",
        "      <td>1790.000000</td>\n",
        "      <td>1791.000000</td>\n",
        "      <td>...</td>\n",
        "      <td>1787.000000</td>\n",
        "      <td>1776.000000</td>\n",
        "      <td>1709.0</td>\n",
        "      <td>1777.0</td>\n",
        "      <td>549208.000000</td>\n",
        "      <td>1777.0</td>\n",
        "      <td>546510.0</td>\n",
        "      <td>1781.0</td>\n",
        "      <td>1786.000000</td>\n",
        "      <td>9.371845e+05</td>\n",
        "    </tr>\n",
        "    <tr>\n",
        "      <th>max</th>\n",
        "      <td>1788.000000</td>\n",
        "      <td>2322.0</td>\n",
        "      <td>1765.000000</td>\n",
        "      <td>37160.000000</td>\n",
        "      <td>15932.000000</td>\n",
        "      <td>1797.000000</td>\n",
        "      <td>1798.000000</td>\n",
        "      <td>1799.000000</td>\n",
        "      <td>1800.000000</td>\n",
        "      <td>1801.000000</td>\n",
        "      <td>...</td>\n",
        "      <td>1796.000000</td>\n",
        "      <td>1777.000000</td>\n",
        "      <td>1709.0</td>\n",
        "      <td>1777.0</td>\n",
        "      <td>560880.000000</td>\n",
        "      <td>1777.0</td>\n",
        "      <td>546510.0</td>\n",
        "      <td>1781.0</td>\n",
        "      <td>1788.000000</td>\n",
        "      <td>1.436512e+06</td>\n",
        "    </tr>\n",
        "  </tbody>\n",
        "</table>\n",
        "<p>8 rows \u00d7 38 columns</p>\n",
        "</div>"
       ],
       "metadata": {},
       "output_type": "pyout",
       "prompt_number": 122,
       "text": [
        "       AveragePrice  LifeHigh       LifeLow   TotalAskLot   TotalBidLot  \\\n",
        "count  90004.000000   90004.0  90004.000000  90004.000000  90004.000000   \n",
        "mean    1778.288109    2322.0   1749.259277  17630.756733   8360.978768   \n",
        "std        9.788023       0.0     21.937622   4756.631191   3782.998119   \n",
        "min     1755.000000    2322.0   1709.000000   4594.000000      0.000000   \n",
        "25%     1775.000000    2322.0   1742.000000  15060.000000   6522.000000   \n",
        "50%     1782.000000    2322.0   1765.000000  17409.000000   8422.000000   \n",
        "75%     1786.000000    2322.0   1765.000000  19278.000000  11218.000000   \n",
        "max     1788.000000    2322.0   1765.000000  37160.000000  15932.000000   \n",
        "\n",
        "           askPrc_0      askPrc_1      askPrc_2      askPrc_3      askPrc_4  \\\n",
        "count  90004.000000  90004.000000  90004.000000  90004.000000  90004.000000   \n",
        "mean    1762.117684   1763.117684   1764.117684   1765.117684   1766.117684   \n",
        "std       30.172564     30.172564     30.172564     30.172564     30.172564   \n",
        "min     1709.000000   1710.000000   1711.000000   1712.000000   1713.000000   \n",
        "25%     1746.000000   1747.000000   1748.000000   1749.000000   1750.000000   \n",
        "50%     1778.000000   1779.000000   1780.000000   1781.000000   1782.000000   \n",
        "75%     1787.000000   1788.000000   1789.000000   1790.000000   1791.000000   \n",
        "max     1797.000000   1798.000000   1799.000000   1800.000000   1801.000000   \n",
        "\n",
        "           ...               last           low  lowLimit     open  \\\n",
        "count      ...       90004.000000  90004.000000   90004.0  90004.0   \n",
        "mean       ...        1761.641805   1755.010655    1709.0   1777.0   \n",
        "std        ...          30.114289     26.306678       0.0      0.0   \n",
        "min        ...        1709.000000   1709.000000    1709.0   1777.0   \n",
        "25%        ...        1745.000000   1742.000000    1709.0   1777.0   \n",
        "50%        ...        1778.000000   1776.000000    1709.0   1777.0   \n",
        "75%        ...        1787.000000   1776.000000    1709.0   1777.0   \n",
        "max        ...        1796.000000   1777.000000    1709.0   1777.0   \n",
        "\n",
        "        openInterest  prevClose  prevOpenInterest  prevSettle        settle  \\\n",
        "count   90004.000000    90004.0           90004.0     90004.0  90004.000000   \n",
        "mean   538863.792909     1777.0          546510.0      1781.0   1778.288109   \n",
        "std     11625.633963        0.0               0.0         0.0      9.788023   \n",
        "min    507074.000000     1777.0          546510.0      1781.0   1755.000000   \n",
        "25%    532352.000000     1777.0          546510.0      1781.0   1775.000000   \n",
        "50%    535940.000000     1777.0          546510.0      1781.0   1782.000000   \n",
        "75%    549208.000000     1777.0          546510.0      1781.0   1786.000000   \n",
        "max    560880.000000     1777.0          546510.0      1781.0   1788.000000   \n",
        "\n",
        "             volume  \n",
        "count  9.000400e+04  \n",
        "mean   6.355760e+05  \n",
        "std    4.163665e+05  \n",
        "min    4.900000e+02  \n",
        "25%    2.731060e+05  \n",
        "50%    5.432880e+05  \n",
        "75%    9.371845e+05  \n",
        "max    1.436512e+06  \n",
        "\n",
        "[8 rows x 38 columns]"
       ]
      }
     ],
     "prompt_number": 122
    },
    {
     "cell_type": "code",
     "collapsed": false,
     "input": [
      "rm_1min = rm.ix[::240, :]\n",
      "rm_1min.head()"
     ],
     "language": "python",
     "metadata": {},
     "outputs": [
      {
       "html": [
        "<div style=\"max-width:1500px;overflow:auto;\">\n",
        "<table border=\"1\" class=\"dataframe\">\n",
        "  <thead>\n",
        "    <tr style=\"text-align: right;\">\n",
        "      <th></th>\n",
        "      <th>AveragePrice</th>\n",
        "      <th>LifeHigh</th>\n",
        "      <th>LifeLow</th>\n",
        "      <th>TotalAskLot</th>\n",
        "      <th>TotalBidLot</th>\n",
        "      <th>askPrc_0</th>\n",
        "      <th>askPrc_1</th>\n",
        "      <th>askPrc_2</th>\n",
        "      <th>askPrc_3</th>\n",
        "      <th>askPrc_4</th>\n",
        "      <th>...</th>\n",
        "      <th>last</th>\n",
        "      <th>low</th>\n",
        "      <th>lowLimit</th>\n",
        "      <th>open</th>\n",
        "      <th>openInterest</th>\n",
        "      <th>prevClose</th>\n",
        "      <th>prevOpenInterest</th>\n",
        "      <th>prevSettle</th>\n",
        "      <th>settle</th>\n",
        "      <th>volume</th>\n",
        "    </tr>\n",
        "  </thead>\n",
        "  <tbody>\n",
        "    <tr>\n",
        "      <th>2015-11-19 21:00:00</th>\n",
        "      <td>1775.0</td>\n",
        "      <td>2322.0</td>\n",
        "      <td>1768.0</td>\n",
        "      <td>3103.0</td>\n",
        "      <td>2975.0</td>\n",
        "      <td>1776.0</td>\n",
        "      <td>1777.0</td>\n",
        "      <td>1778.0</td>\n",
        "      <td>1779.0</td>\n",
        "      <td>1780.0</td>\n",
        "      <td>...</td>\n",
        "      <td>1775.0</td>\n",
        "      <td>1775.0</td>\n",
        "      <td>1722.0</td>\n",
        "      <td>1775.0</td>\n",
        "      <td>587568.0</td>\n",
        "      <td>1779.0</td>\n",
        "      <td>587568.0</td>\n",
        "      <td>1794.0</td>\n",
        "      <td>1775.0</td>\n",
        "      <td>520.0</td>\n",
        "    </tr>\n",
        "    <tr>\n",
        "      <th>2015-11-19 21:01:00</th>\n",
        "      <td>1777.0</td>\n",
        "      <td>2322.0</td>\n",
        "      <td>1768.0</td>\n",
        "      <td>4754.0</td>\n",
        "      <td>3981.0</td>\n",
        "      <td>1778.0</td>\n",
        "      <td>1779.0</td>\n",
        "      <td>1780.0</td>\n",
        "      <td>1781.0</td>\n",
        "      <td>1782.0</td>\n",
        "      <td>...</td>\n",
        "      <td>1778.0</td>\n",
        "      <td>1774.0</td>\n",
        "      <td>1722.0</td>\n",
        "      <td>1775.0</td>\n",
        "      <td>586902.0</td>\n",
        "      <td>1779.0</td>\n",
        "      <td>587568.0</td>\n",
        "      <td>1794.0</td>\n",
        "      <td>1777.0</td>\n",
        "      <td>8562.0</td>\n",
        "    </tr>\n",
        "    <tr>\n",
        "      <th>2015-11-19 21:02:00</th>\n",
        "      <td>1777.0</td>\n",
        "      <td>2322.0</td>\n",
        "      <td>1768.0</td>\n",
        "      <td>6424.0</td>\n",
        "      <td>4349.0</td>\n",
        "      <td>1776.0</td>\n",
        "      <td>1777.0</td>\n",
        "      <td>1778.0</td>\n",
        "      <td>1779.0</td>\n",
        "      <td>1780.0</td>\n",
        "      <td>...</td>\n",
        "      <td>1775.0</td>\n",
        "      <td>1774.0</td>\n",
        "      <td>1722.0</td>\n",
        "      <td>1775.0</td>\n",
        "      <td>587470.0</td>\n",
        "      <td>1779.0</td>\n",
        "      <td>587568.0</td>\n",
        "      <td>1794.0</td>\n",
        "      <td>1777.0</td>\n",
        "      <td>13102.0</td>\n",
        "    </tr>\n",
        "    <tr>\n",
        "      <th>2015-11-19 21:03:00</th>\n",
        "      <td>1775.0</td>\n",
        "      <td>2322.0</td>\n",
        "      <td>1768.0</td>\n",
        "      <td>6589.0</td>\n",
        "      <td>4588.0</td>\n",
        "      <td>1773.0</td>\n",
        "      <td>1774.0</td>\n",
        "      <td>1775.0</td>\n",
        "      <td>1776.0</td>\n",
        "      <td>1777.0</td>\n",
        "      <td>...</td>\n",
        "      <td>1772.0</td>\n",
        "      <td>1770.0</td>\n",
        "      <td>1722.0</td>\n",
        "      <td>1775.0</td>\n",
        "      <td>588386.0</td>\n",
        "      <td>1779.0</td>\n",
        "      <td>587568.0</td>\n",
        "      <td>1794.0</td>\n",
        "      <td>1775.0</td>\n",
        "      <td>20892.0</td>\n",
        "    </tr>\n",
        "    <tr>\n",
        "      <th>2015-11-19 21:04:00</th>\n",
        "      <td>1773.0</td>\n",
        "      <td>2322.0</td>\n",
        "      <td>1767.0</td>\n",
        "      <td>8793.0</td>\n",
        "      <td>4045.0</td>\n",
        "      <td>1768.0</td>\n",
        "      <td>1769.0</td>\n",
        "      <td>1770.0</td>\n",
        "      <td>1771.0</td>\n",
        "      <td>1772.0</td>\n",
        "      <td>...</td>\n",
        "      <td>1768.0</td>\n",
        "      <td>1767.0</td>\n",
        "      <td>1722.0</td>\n",
        "      <td>1775.0</td>\n",
        "      <td>589904.0</td>\n",
        "      <td>1779.0</td>\n",
        "      <td>587568.0</td>\n",
        "      <td>1794.0</td>\n",
        "      <td>1773.0</td>\n",
        "      <td>34234.0</td>\n",
        "    </tr>\n",
        "  </tbody>\n",
        "</table>\n",
        "<p>5 rows \u00d7 38 columns</p>\n",
        "</div>"
       ],
       "metadata": {},
       "output_type": "pyout",
       "prompt_number": 95,
       "text": [
        "                     AveragePrice  LifeHigh  LifeLow  TotalAskLot  \\\n",
        "2015-11-19 21:00:00        1775.0    2322.0   1768.0       3103.0   \n",
        "2015-11-19 21:01:00        1777.0    2322.0   1768.0       4754.0   \n",
        "2015-11-19 21:02:00        1777.0    2322.0   1768.0       6424.0   \n",
        "2015-11-19 21:03:00        1775.0    2322.0   1768.0       6589.0   \n",
        "2015-11-19 21:04:00        1773.0    2322.0   1767.0       8793.0   \n",
        "\n",
        "                     TotalBidLot  askPrc_0  askPrc_1  askPrc_2  askPrc_3  \\\n",
        "2015-11-19 21:00:00       2975.0    1776.0    1777.0    1778.0    1779.0   \n",
        "2015-11-19 21:01:00       3981.0    1778.0    1779.0    1780.0    1781.0   \n",
        "2015-11-19 21:02:00       4349.0    1776.0    1777.0    1778.0    1779.0   \n",
        "2015-11-19 21:03:00       4588.0    1773.0    1774.0    1775.0    1776.0   \n",
        "2015-11-19 21:04:00       4045.0    1768.0    1769.0    1770.0    1771.0   \n",
        "\n",
        "                     askPrc_4   ...       last     low  lowLimit    open  \\\n",
        "2015-11-19 21:00:00    1780.0   ...     1775.0  1775.0    1722.0  1775.0   \n",
        "2015-11-19 21:01:00    1782.0   ...     1778.0  1774.0    1722.0  1775.0   \n",
        "2015-11-19 21:02:00    1780.0   ...     1775.0  1774.0    1722.0  1775.0   \n",
        "2015-11-19 21:03:00    1777.0   ...     1772.0  1770.0    1722.0  1775.0   \n",
        "2015-11-19 21:04:00    1772.0   ...     1768.0  1767.0    1722.0  1775.0   \n",
        "\n",
        "                     openInterest  prevClose  prevOpenInterest  prevSettle  \\\n",
        "2015-11-19 21:00:00      587568.0     1779.0          587568.0      1794.0   \n",
        "2015-11-19 21:01:00      586902.0     1779.0          587568.0      1794.0   \n",
        "2015-11-19 21:02:00      587470.0     1779.0          587568.0      1794.0   \n",
        "2015-11-19 21:03:00      588386.0     1779.0          587568.0      1794.0   \n",
        "2015-11-19 21:04:00      589904.0     1779.0          587568.0      1794.0   \n",
        "\n",
        "                     settle   volume  \n",
        "2015-11-19 21:00:00  1775.0    520.0  \n",
        "2015-11-19 21:01:00  1777.0   8562.0  \n",
        "2015-11-19 21:02:00  1777.0  13102.0  \n",
        "2015-11-19 21:03:00  1775.0  20892.0  \n",
        "2015-11-19 21:04:00  1773.0  34234.0  \n",
        "\n",
        "[5 rows x 38 columns]"
       ]
      }
     ],
     "prompt_number": 95
    },
    {
     "cell_type": "code",
     "collapsed": false,
     "input": [
      "rm_1min_last = rm_1min.ix[:, 'last']\n",
      "rm_1min_lastd = rm_1min_last.diff()\n",
      "rm_1min_lastd"
     ],
     "language": "python",
     "metadata": {},
     "outputs": [
      {
       "metadata": {},
       "output_type": "pyout",
       "prompt_number": 128,
       "text": [
        "2015-11-19 21:00:00.000    NaN\n",
        "2015-11-19 21:01:00.000    3.0\n",
        "2015-11-19 21:02:00.000   -3.0\n",
        "2015-11-19 21:03:00.000   -3.0\n",
        "2015-11-19 21:04:00.000   -4.0\n",
        "2015-11-19 21:05:00.000    2.0\n",
        "2015-11-19 21:06:00.000    1.0\n",
        "2015-11-19 21:07:00.000   -4.0\n",
        "2015-11-19 21:08:00.000    5.0\n",
        "2015-11-19 21:09:00.000    3.0\n",
        "2015-11-19 21:10:00.000   -1.0\n",
        "2015-11-19 21:11:00.000    4.0\n",
        "2015-11-19 21:12:00.000    0.0\n",
        "2015-11-19 21:13:00.000    0.0\n",
        "2015-11-19 21:14:00.000    1.0\n",
        "2015-11-19 21:15:00.000   -1.0\n",
        "2015-11-19 21:16:00.000    0.0\n",
        "2015-11-19 21:17:00.000    0.0\n",
        "2015-11-19 21:18:00.000   -1.0\n",
        "2015-11-19 21:19:00.000    1.0\n",
        "2015-11-19 21:20:00.000   -1.0\n",
        "2015-11-19 21:21:00.000   -1.0\n",
        "2015-11-19 21:22:00.000    0.0\n",
        "2015-11-19 21:23:00.000    1.0\n",
        "2015-11-19 21:24:00.000    1.0\n",
        "2015-11-19 21:25:00.000    1.0\n",
        "2015-11-19 21:26:00.000    2.0\n",
        "2015-11-19 21:27:00.000    3.0\n",
        "2015-11-19 21:28:00.000   -2.0\n",
        "2015-11-19 21:29:00.000    2.0\n",
        "                          ... \n",
        "2015-12-31 14:30:30.250    1.0\n",
        "2015-12-31 14:31:30.250   -1.0\n",
        "2015-12-31 14:32:30.250    0.0\n",
        "2015-12-31 14:33:30.250    1.0\n",
        "2015-12-31 14:34:30.250   -1.0\n",
        "2015-12-31 14:35:30.250    0.0\n",
        "2015-12-31 14:36:30.250    0.0\n",
        "2015-12-31 14:37:30.250    0.0\n",
        "2015-12-31 14:38:30.250    0.0\n",
        "2015-12-31 14:39:30.250    0.0\n",
        "2015-12-31 14:40:30.250   -1.0\n",
        "2015-12-31 14:41:30.250    0.0\n",
        "2015-12-31 14:42:30.250   -1.0\n",
        "2015-12-31 14:43:30.250    1.0\n",
        "2015-12-31 14:44:30.250    1.0\n",
        "2015-12-31 14:45:30.250   -2.0\n",
        "2015-12-31 14:46:30.250    0.0\n",
        "2015-12-31 14:47:30.250    1.0\n",
        "2015-12-31 14:48:30.250    0.0\n",
        "2015-12-31 14:49:30.250    0.0\n",
        "2015-12-31 14:50:30.250   -1.0\n",
        "2015-12-31 14:51:30.250    0.0\n",
        "2015-12-31 14:52:30.250    1.0\n",
        "2015-12-31 14:53:30.250   -1.0\n",
        "2015-12-31 14:54:30.250    2.0\n",
        "2015-12-31 14:55:30.250   -1.0\n",
        "2015-12-31 14:56:30.250    0.0\n",
        "2015-12-31 14:57:30.250   -1.0\n",
        "2015-12-31 14:58:30.250    0.0\n",
        "2015-12-31 14:59:30.250    2.0\n",
        "Name: last, dtype: float64"
       ]
      }
     ],
     "prompt_number": 128
    },
    {
     "cell_type": "code",
     "collapsed": false,
     "input": [
      "rm_23_1min_lastd = rm_1min_lastd.ix['2015-11-22 21:00:00': '2015-11-23 15:00:00']\n",
      "rm_23_1min_lastd.hist(bins=50)"
     ],
     "language": "python",
     "metadata": {},
     "outputs": [
      {
       "metadata": {},
       "output_type": "pyout",
       "prompt_number": 133,
       "text": [
        "<matplotlib.axes.AxesSubplot at 0x7f3e182d9110>"
       ]
      },
      {
       "metadata": {},
       "output_type": "display_data",
       "png": "[encoded data removed]",
       "text": [
        "<matplotlib.figure.Figure at 0x7f3e18e63fd0>"
       ]
      }
     ],
     "prompt_number": 133
    },
    {
     "cell_type": "markdown",
     "metadata": {},
     "source": [
      "# Prove that there is no missing points"
     ]
    },
    {
     "cell_type": "code",
     "collapsed": false,
     "input": [
      "for i in xrange(len(inde) - 1):\n",
      "    if (inde[i + 1] - inde[i] != pd.Timedelta(250, 'ms') \n",
      "        and inde[i].strftime('%T') != '23:30:00'\n",
      "        and inde[i].strftime('%T') != '10:15:00'\n",
      "        and inde[i].strftime('%T') != '11:30:00'\n",
      "        and inde[i].strftime('%T') != '15:00:00'):\n",
      "        print inde[i], inde[i+1]"
     ],
     "language": "python",
     "metadata": {},
     "outputs": [],
     "prompt_number": 68
    },
    {
     "cell_type": "markdown",
     "metadata": {},
     "source": [
      "# The number of ticks = the number of time intervals + 1"
     ]
    },
    {
     "cell_type": "code",
     "collapsed": false,
     "input": [
      "np.where(np.array(inde) == np.datetime64('2015-11-20T11:30:00.000000000+0000'))"
     ],
     "language": "python",
     "metadata": {},
     "outputs": [
      {
       "metadata": {},
       "output_type": "pyout",
       "prompt_number": 83,
       "text": [
        "(array([68402]),)"
       ]
      }
     ],
     "prompt_number": 83
    },
    {
     "cell_type": "code",
     "collapsed": false,
     "input": [
      "suspect1 = rm.ix['2015-11-20 09:00:00.000000': '2015-11-20 10:15:00.000000', :]\n",
      "suspect2 = rm.ix['2015-11-20 10:30:00.000000': '2015-11-20 11:30:00.000000', :]"
     ],
     "language": "python",
     "metadata": {},
     "outputs": [],
     "prompt_number": 89
    },
    {
     "cell_type": "code",
     "collapsed": false,
     "input": [
      "suspect1.index"
     ],
     "language": "python",
     "metadata": {},
     "outputs": [
      {
       "metadata": {},
       "output_type": "pyout",
       "prompt_number": 90,
       "text": [
        "DatetimeIndex([       '2015-11-20 09:00:00', '2015-11-20 09:00:00.250000',\n",
        "               '2015-11-20 09:00:00.500000', '2015-11-20 09:00:00.750000',\n",
        "                      '2015-11-20 09:00:01', '2015-11-20 09:00:01.250000',\n",
        "               '2015-11-20 09:00:01.500000', '2015-11-20 09:00:01.750000',\n",
        "                      '2015-11-20 09:00:02', '2015-11-20 09:00:02.250000',\n",
        "               ...\n",
        "               '2015-11-20 10:14:57.750000',        '2015-11-20 10:14:58',\n",
        "               '2015-11-20 10:14:58.250000', '2015-11-20 10:14:58.500000',\n",
        "               '2015-11-20 10:14:58.750000',        '2015-11-20 10:14:59',\n",
        "               '2015-11-20 10:14:59.250000', '2015-11-20 10:14:59.500000',\n",
        "               '2015-11-20 10:14:59.750000',        '2015-11-20 10:15:00'],\n",
        "              dtype='datetime64[ns]', length=18001, freq=None)"
       ]
      }
     ],
     "prompt_number": 90
    },
    {
     "cell_type": "code",
     "collapsed": false,
     "input": [
      "suspect2.index"
     ],
     "language": "python",
     "metadata": {},
     "outputs": [
      {
       "metadata": {},
       "output_type": "pyout",
       "prompt_number": 91,
       "text": [
        "DatetimeIndex([       '2015-11-20 10:30:00', '2015-11-20 10:30:00.250000',\n",
        "               '2015-11-20 10:30:00.500000', '2015-11-20 10:30:00.750000',\n",
        "                      '2015-11-20 10:30:01', '2015-11-20 10:30:01.250000',\n",
        "               '2015-11-20 10:30:01.500000', '2015-11-20 10:30:01.750000',\n",
        "                      '2015-11-20 10:30:02', '2015-11-20 10:30:02.250000',\n",
        "               ...\n",
        "               '2015-11-20 11:29:57.750000',        '2015-11-20 11:29:58',\n",
        "               '2015-11-20 11:29:58.250000', '2015-11-20 11:29:58.500000',\n",
        "               '2015-11-20 11:29:58.750000',        '2015-11-20 11:29:59',\n",
        "               '2015-11-20 11:29:59.250000', '2015-11-20 11:29:59.500000',\n",
        "               '2015-11-20 11:29:59.750000',        '2015-11-20 11:30:00'],\n",
        "              dtype='datetime64[ns]', length=14401, freq=None)"
       ]
      }
     ],
     "prompt_number": 91
    },
    {
     "cell_type": "code",
     "collapsed": false,
     "input": [],
     "language": "python",
     "metadata": {},
     "outputs": []
    }
   ],
   "metadata": {}
  }
 ]
}
